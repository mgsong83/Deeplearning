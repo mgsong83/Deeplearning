{
 "cells": [
  {
   "cell_type": "code",
   "execution_count": null,
   "metadata": {},
   "outputs": [],
   "source": [
    "!git clone https://github.com/ndb796/weather_dataset\n",
    "%cd weather_dataset"
   ]
  },
  {
   "cell_type": "code",
   "execution_count": null,
   "metadata": {},
   "outputs": [],
   "source": [
    "from tensorflow.keras.models import Sequential\n",
    "from tensorflow.keras import layers\n",
    "from tensorflow.keras.preprocessing.image import ImageDataGenerator\n",
    "from tensorflow.keras import optimizers\n",
    "\n",
    "\n",
    "import numpy as np\n",
    "import matplotlib.pyplot as plt"
   ]
  },
  {
   "cell_type": "code",
   "execution_count": null,
   "metadata": {},
   "outputs": [],
   "source": [
    "#dataset loader setup\n",
    "\n",
    "train_generator = ImageDataGenerator(\n",
    "    rescale=1/255.,\n",
    "    horizontal_flip=True,\n",
    "    validation_split = 0.2\n",
    ")\n",
    "\n",
    "test_generator = ImageDataGenerator(\n",
    "    rescale=1/255.\n",
    ")"
   ]
  },
  {
   "cell_type": "code",
   "execution_count": null,
   "metadata": {},
   "outputs": [],
   "source": [
    "train_flow = train_generator.flow_from_directory(\n",
    "    directory='train/',\n",
    "    shuffle=True,\n",
    "    target_size=(224, 224),\n",
    "    class_mode='categorical',\n",
    "    batch_size = 64,\n",
    "    subset='training'\n",
    ")\n",
    "\n",
    "val_flow = train_generator.flow_from_directory(\n",
    "    directory='train/',\n",
    "    shuffle=True,\n",
    "    target_size=(224, 224),\n",
    "    class_mode='categorical',\n",
    "    batch_size = 64,\n",
    "    subset='validation'\n",
    ")\n",
    "\n",
    "test_flow = test_generator.flow_from_directory(\n",
    "    directory='test/',\n",
    "    shuffle = False,\n",
    "    target_size=(224, 224),\n",
    "    class_mode='categorical',\n",
    "    batch_size = 64\n",
    ")"
   ]
  },
  {
   "cell_type": "code",
   "execution_count": null,
   "metadata": {},
   "outputs": [],
   "source": [
    "class_names = { \n",
    "    0: \"흐림\", \n",
    "    1: \"비\",\n",
    "    2: \"맑음\",\n",
    "    3: \"일출\" \n",
    "}"
   ]
  },
  {
   "cell_type": "code",
   "execution_count": null,
   "metadata": {},
   "outputs": [],
   "source": [
    "images,targets = next(train_flow)\n",
    "\n"
   ]
  },
  {
   "cell_type": "code",
   "execution_count": null,
   "metadata": {},
   "outputs": [],
   "source": [
    "for i in range(5):\n",
    "    print(class_names[np.argmax(targets[i])])\n",
    "    plt.imshow( images[i] )\n",
    "    plt.show()"
   ]
  },
  {
   "cell_type": "code",
   "execution_count": null,
   "metadata": {},
   "outputs": [],
   "source": [
    "## simpel model \n",
    "model  = Sequential()\n",
    "\n",
    "model.add( layers.InputLayer(shape=(224, 224, 3))) \n",
    "model.add( layers.Flatten() )\n",
    "model.add( layers.Dense(4, activation='softmax')) \n",
    "\n"
   ]
  },
  {
   "cell_type": "code",
   "execution_count": null,
   "metadata": {},
   "outputs": [],
   "source": [
    "## deeper model\n",
    "\n",
    "model2 = Sequential()\n",
    "\n",
    "model2.add( layers.InputLayer(shape=(224, 224, 3)))\n",
    "model2.add( layers.Flatten() ) \n",
    "model2.add( layers.Dense(64, activation='relu'))\n",
    "model2.add( layers.Dense(4, activation='softmax'))\n",
    "\n"
   ]
  },
  {
   "cell_type": "code",
   "execution_count": null,
   "metadata": {},
   "outputs": [],
   "source": [
    "## more deeper model\n",
    "\n",
    "model3 = Sequential()\n",
    "\n",
    "model3.add(layers.InputLayer(shape=(244, 244, 3)))\n",
    "model2.add( layers.Flatten() ) \n",
    "model2.add( layers.Dense(128, activation='relu'))\n",
    "model2.add( layers.Dense(64, activation='relu'))\n",
    "model2.add( layers.Dense(32, activation='relu'))\n",
    "model2.add( layers.Dense(4, activation='softmax'))\n",
    "\n",
    "\n"
   ]
  },
  {
   "cell_type": "code",
   "execution_count": null,
   "metadata": {},
   "outputs": [],
   "source": [
    "model.compile( optimizer= 'sgd', loss = 'crossentropy', metrics=['accuracy'] )\n",
    "history = model.fit(train_flow, epochs=30, validation_data=val_flow)"
   ]
  },
  {
   "cell_type": "code",
   "execution_count": null,
   "metadata": {},
   "outputs": [],
   "source": [
    "plt.plot(history.history['accuracy'])\n",
    "plt.plot(history.history['val_accuracy'])"
   ]
  },
  {
   "cell_type": "code",
   "execution_count": null,
   "metadata": {},
   "outputs": [],
   "source": [
    "model2.compile( optimizer= 'sgd', loss = 'crossentropy', metrics=['accuracy'] )\n",
    "history2 = model2.fit(train_flow, epochs=30, validation_data=val_flow)"
   ]
  },
  {
   "cell_type": "code",
   "execution_count": null,
   "metadata": {},
   "outputs": [],
   "source": [
    "plt.plot(history2.history['accuracy'])\n",
    "plt.plot(history2.history['val_accuracy'])"
   ]
  },
  {
   "cell_type": "code",
   "execution_count": null,
   "metadata": {},
   "outputs": [],
   "source": [
    "model3.compile( optimizer= 'sgd', loss = 'crossentropy', metrics=['accuracy'] )\n",
    "history3 = model3.fit(train_flow, epochs=30, validation_data=val_flow)"
   ]
  },
  {
   "cell_type": "code",
   "execution_count": null,
   "metadata": {},
   "outputs": [],
   "source": [
    "plt.plot(history3.history['accuracy'])\n",
    "plt.plot(history3.history['val_accuracy'])"
   ]
  },
  {
   "cell_type": "code",
   "execution_count": null,
   "metadata": {},
   "outputs": [],
   "source": []
  }
 ],
 "metadata": {
  "kernelspec": {
   "display_name": "py3_11_8",
   "language": "python",
   "name": "python3"
  },
  "language_info": {
   "codemirror_mode": {
    "name": "ipython",
    "version": 3
   },
   "file_extension": ".py",
   "mimetype": "text/x-python",
   "name": "python",
   "nbconvert_exporter": "python",
   "pygments_lexer": "ipython3",
   "version": "3.11.8"
  }
 },
 "nbformat": 4,
 "nbformat_minor": 2
}
