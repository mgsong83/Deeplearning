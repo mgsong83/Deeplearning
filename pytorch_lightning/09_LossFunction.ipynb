{
 "cells": [
  {
   "cell_type": "markdown",
   "id": "df093f07-ff15-4ff0-b43c-559337985dea",
   "metadata": {},
   "source": [
    "## Loss Functions\n",
    "\n",
    "딥러닝의 핵심은 주어진 네트워크의 weight bias를 loss 가 작아지는 쪽으로 바꾸는 데 있다. 따라서 손실함수야 말로 학습을 어떻게 할 지 정의해주는 부분이라고 생각 할 수 있다. \n",
    "\n",
    "pytorch / pytorch lightning 에서는 기본적으로 회귀에서 사용되는 MSE, 분류에서 사용되는 Cross Entropy 뿐 아니라 다양한 손실함수를 정의하고 있으며, 이는 torch.nn.functional 에 사전 정의되어 내장되어 있다. \n",
    "\n",
    "> torch.nn.functional\n",
    "* mse_loss      : element-wise mean squared error.\n",
    "* cross_entropy : cross entropy loss between input(logit) and target(prob.).\n",
    "* binary_cross_entropy : Binary Cross Entropy between the target and input probabilities.\n",
    "* binary_cross_entropy_with_logits :  Binary Cross Entropy between target and input logits.\n",
    "* kl_div : Kullback-Leibler divergence Loss\n",
    "* l1_loss : mean element-wise absolute value difference.\n",
    "* smooth_l1_loss : uses a squared term if the absolute element-wise error falls below beta and an L1 term otherwise.\n",
    "* nll_loss : negative log likelihood loss.\n",
    "* poisson_nll_loss : Poisson negative log likelihood loss.\n",
    "* gaussian_nll_loss : Gaussian negative log likelihood loss.\n",
    "\n",
    "\n",
    "또한 Metric 들도 다양하게 사용할 수 있는데, Accuracy, AUCROC 등등 torchmetrics 를 통해 사용할 수 있다.\n",
    "https://torchmetrics.readthedocs.io/en/stable/"
   ]
  },
  {
   "cell_type": "markdown",
   "id": "334062c1-3ec1-42a0-b05d-82f72e996389",
   "metadata": {},
   "source": [
    "대부분의 경우 내장됨 함수를 사용하게 되겠지만, 필요하다면 임의의 loss / metric 을 정의해서 쓸 수 도 있는데, 그 방법은 아래와 같다."
   ]
  },
  {
   "cell_type": "code",
   "execution_count": 16,
   "id": "073d898d-779c-4ff5-8c91-8f6686bb4f6d",
   "metadata": {},
   "outputs": [],
   "source": [
    "import numpy as np\n",
    "import torch\n",
    "from torch import nn\n",
    "from torch.nn import functional as F\n",
    "import torch.optim as optim\n",
    "\n",
    "import pytorch_lightning as pl\n",
    "from pytorch_lightning.accelerators import accelerator\n",
    "from torchmetrics import functional as FM\n",
    "from torchinfo import summary\n",
    "\n",
    "from torchvision.datasets import MNIST\n",
    "import torchvision.transforms as transforms\n",
    "import torch.utils.data as data\n",
    "from torch.utils.data import DataLoader\n",
    "import pandas as pd\n",
    "import matplotlib.pyplot as plt\n"
   ]
  },
  {
   "cell_type": "markdown",
   "id": "8a30a3c3",
   "metadata": {},
   "source": [
    "완전 scratch 부터 시작해서 이해를 돕기 위해서 onehot encoding 부터 수동으로 만들어본다."
   ]
  },
  {
   "cell_type": "code",
   "execution_count": 17,
   "id": "4307064e-752e-4479-9d3c-1a9ebb1d2f99",
   "metadata": {},
   "outputs": [],
   "source": [
    "class Onehot(object) :\n",
    "    def __call__(self, sample):\n",
    "        sample = sample\n",
    "        target = np.eye(10)[sample] # 10x10 대각행열을 만들어서 그 중에 n번째 row 를 반환 0 --> (1,0,0,0,0....0)\n",
    "        return torch.FloatTensor(target)\n",
    "    "
   ]
  },
  {
   "cell_type": "markdown",
   "id": "76511157",
   "metadata": {},
   "source": [
    "잘돌아가는지 확인해본다. (fucntion 으로 만들어도 물론 된다.)"
   ]
  },
  {
   "cell_type": "code",
   "execution_count": 18,
   "id": "bc23846b-d50d-42ca-9554-09b9d2e39f67",
   "metadata": {},
   "outputs": [
    {
     "data": {
      "text/plain": [
       "tensor([0., 0., 0., 0., 0., 1., 0., 0., 0., 0.])"
      ]
     },
     "execution_count": 18,
     "metadata": {},
     "output_type": "execute_result"
    }
   ],
   "source": [
    "a = Onehot()\n",
    "a(5)"
   ]
  },
  {
   "cell_type": "markdown",
   "id": "9de67889",
   "metadata": {},
   "source": [
    "잘 돌아간다. (여기서는 np.eye(10) 을 사용했으므로, class 10 개가 넘어가는 경우에는 안돌아가겠지)\n",
    "\n",
    "그럼 데이터를 로드해서 해줘야 할 것들을 정의한다. \\\n",
    "X 데이터는 가져와서 텐서로 만들 것 \\\n",
    "Y 데이터는 가져와서 원핫 인코딩 할 것\n"
   ]
  },
  {
   "cell_type": "code",
   "execution_count": 19,
   "id": "6bb59b9a-b3f5-41e2-9050-7723eea7aedd",
   "metadata": {},
   "outputs": [],
   "source": [
    "y_transform = transforms.Compose([Onehot()])         # target one-hot encoding \n",
    "x_transform = transforms.Compose([transforms.ToTensor()])  # image transform "
   ]
  },
  {
   "cell_type": "markdown",
   "id": "49d51e2a",
   "metadata": {},
   "source": [
    "MNIST 데이터를 로드하여 변형을 해준다. arguments 에서 transform 은 x 데이터에, target_transform 은 y 데이터에 적용이 된다."
   ]
  },
  {
   "cell_type": "code",
   "execution_count": 20,
   "id": "e2e737a9-7d76-4ea6-bcae-74a765bbfc32",
   "metadata": {},
   "outputs": [],
   "source": [
    "train_dataset = MNIST('', transform=x_transform, target_transform=y_transform, train=True)\n",
    "test_dataset = MNIST('', transform=x_transform, target_transform=y_transform, train=False)"
   ]
  },
  {
   "cell_type": "markdown",
   "id": "116ef3b0-c231-42d8-ac36-9c5cd5d7b67e",
   "metadata": {},
   "source": [
    "데이터 로더를 만들어주고 (test 데이터를 그냥 validation 에 넣어서 쓴다.)"
   ]
  },
  {
   "cell_type": "code",
   "execution_count": 21,
   "id": "07247324-ee3c-4b8e-8b5c-7cf9de83392b",
   "metadata": {},
   "outputs": [],
   "source": [
    "batch_size = 128\n",
    "trainDatLoader = DataLoader(train_dataset, batch_size=batch_size, shuffle=True)\n",
    "valDataLoader = DataLoader(test_dataset, batch_size=batch_size, shuffle=False)"
   ]
  },
  {
   "cell_type": "markdown",
   "id": "2d6ed3bd",
   "metadata": {},
   "source": [
    "간단한 모듈을 만들어서 돌려보자 (3계층짜리 )"
   ]
  },
  {
   "cell_type": "code",
   "execution_count": 22,
   "id": "76dc1ce9-5e46-47e8-953f-46e146c37d22",
   "metadata": {},
   "outputs": [],
   "source": [
    "class Model(pl.LightningModule):\n",
    "    def __init__(self):\n",
    "        super().__init__()\n",
    "        self.flatten = nn.Flatten()\n",
    "        self.linear1 = nn.Linear(28*28, 64)\n",
    "        self.linear2 = nn.Linear(64, 32)\n",
    "        self.linear3 = nn.Linear(32, 10)\n",
    "        self.relu = nn.ReLU()\n",
    "\n",
    "    def forward(self, x):\n",
    "        x = self.flatten(x)\n",
    "        x1 = self.linear1(x)\n",
    "        x1 = self.relu(x1)\n",
    "        x2 = self.linear2(x1)\n",
    "        x2 = self.relu(x2)\n",
    "        x3 = self.linear3(x2)\n",
    "        return x3\n",
    "               "
   ]
  },
  {
   "cell_type": "markdown",
   "id": "6789f2eb",
   "metadata": {},
   "source": [
    "그리고 mse 를 기존 함수가 아닌 사용자 정의 함수로 정의한다. 기본적으로 loss 함수는 y_hat , y 를 가지고 계산되며 최종 결과는 1자리 실수여야 한다."
   ]
  },
  {
   "cell_type": "code",
   "execution_count": 23,
   "id": "a2266195-1f01-456f-931c-94ce79dda210",
   "metadata": {},
   "outputs": [],
   "source": [
    "def custom_loss_mse(pred, target):\n",
    "    error = torch.mean(torch.square(pred-target)) \n",
    "    return error"
   ]
  },
  {
   "cell_type": "markdown",
   "id": "4ec3495c",
   "metadata": {},
   "source": [
    "그 값이 어찌되었든 맞추면 작아지고 틀리면 커지기만 하면 어떤 값을 써도 상관없다. abs 를 취한 값을 써도 무관"
   ]
  },
  {
   "cell_type": "code",
   "execution_count": 24,
   "id": "668e4450-416e-4ab0-a890-04f26f00acb9",
   "metadata": {},
   "outputs": [],
   "source": [
    "def custom_mean_abs_error(y_pred, y_true):\n",
    "    error = torch.abs(torch.mean(y_true - y_pred))\n",
    "    return error "
   ]
  },
  {
   "cell_type": "code",
   "execution_count": 25,
   "id": "b604824f-8eea-40e6-8988-8e38078b5538",
   "metadata": {},
   "outputs": [],
   "source": [
    "class myModel(pl.LightningModule):\n",
    "\n",
    "    def __init__(self):\n",
    "        super().__init__()\n",
    "        self.layers = Model()\n",
    "\n",
    "\n",
    "    def forward(self, x):\n",
    "        out = self.layers(x)\n",
    "        out = torch.softmax(out, dim=-1) \n",
    "        return(out)\n",
    "\n",
    "    def training_step(self, batch, batch_idx):\n",
    "        x, y = batch\n",
    "        y_pred = self(x)\n",
    "        loss = custom_loss_mse(y_pred, y)  ##  mse 를 로스로 사용한다. \n",
    "        error = custom_mean_abs_error(y_pred, y)  ## error 도 같이 계산해서 로그에 남기도록 하자.\n",
    "        metrics = {'loss' : loss, 'error' : error}\n",
    "        self.log_dict(metrics)\n",
    "        return loss\n",
    "\n",
    "\n",
    "    def validation_step(self, batch, batch_idx):\n",
    "        x, y = batch\n",
    "        y_pred = self(x)\n",
    "        loss = custom_loss_mse(y_pred, y)\n",
    "        error = custom_mean_abs_error(y_pred, y)\n",
    "        metrics = {'val_loss':loss, 'val_error':error}\n",
    "        self.log_dict(metrics)\n",
    "        #return loss # validation 은 리턴 안해도 상관 없음\n",
    "\n",
    "    def configure_optimizers(self):\n",
    "        return torch.optim.Adam( self.parameters(), lr=0.001)\n",
    "\n",
    "\n",
    "    "
   ]
  },
  {
   "cell_type": "markdown",
   "id": "d22a5a5f",
   "metadata": {},
   "source": [
    "기존 모델과 거의 같지만, test 를 사용하지 않을거라서  test_step 은 정의되지 않았다. (test데이터를 validation에 사용)\n",
    "\n",
    "또한 loss 를 임의 loss 로 사용한 점을 주목"
   ]
  },
  {
   "cell_type": "code",
   "execution_count": 26,
   "id": "52ff85ae-cb7f-476c-96d5-8ffcfcfaecf3",
   "metadata": {},
   "outputs": [],
   "source": [
    "model = myModel()"
   ]
  },
  {
   "cell_type": "code",
   "execution_count": 27,
   "id": "90d8d301-961e-4417-8348-d5e0f8574c4d",
   "metadata": {},
   "outputs": [
    {
     "data": {
      "text/plain": [
       "==========================================================================================\n",
       "Layer (type:depth-idx)                   Output Shape              Param #\n",
       "==========================================================================================\n",
       "myModel                                  [8, 10]                   --\n",
       "├─Model: 1-1                             [8, 10]                   --\n",
       "│    └─Flatten: 2-1                      [8, 784]                  --\n",
       "│    └─Linear: 2-2                       [8, 64]                   50,240\n",
       "│    └─ReLU: 2-3                         [8, 64]                   --\n",
       "│    └─Linear: 2-4                       [8, 32]                   2,080\n",
       "│    └─ReLU: 2-5                         [8, 32]                   --\n",
       "│    └─Linear: 2-6                       [8, 10]                   330\n",
       "==========================================================================================\n",
       "Total params: 52,650\n",
       "Trainable params: 52,650\n",
       "Non-trainable params: 0\n",
       "Total mult-adds (Units.MEGABYTES): 0.42\n",
       "==========================================================================================\n",
       "Input size (MB): 0.03\n",
       "Forward/backward pass size (MB): 0.01\n",
       "Params size (MB): 0.21\n",
       "Estimated Total Size (MB): 0.24\n",
       "=========================================================================================="
      ]
     },
     "execution_count": 27,
     "metadata": {},
     "output_type": "execute_result"
    }
   ],
   "source": [
    "summary(model, input_size=(8, 1, 28, 28))"
   ]
  },
  {
   "cell_type": "code",
   "execution_count": 28,
   "id": "f5e90009-9a63-47d3-9bdd-14bea4a53508",
   "metadata": {},
   "outputs": [],
   "source": [
    "epoch = 3\n",
    "name = 'custom_loss_model' \n",
    "logger = pl.loggers.CSVLogger(\"logs\", name=name)"
   ]
  },
  {
   "cell_type": "code",
   "execution_count": 29,
   "id": "969ff3b3-aae3-4652-b79e-80f6b5f86e51",
   "metadata": {},
   "outputs": [
    {
     "name": "stderr",
     "output_type": "stream",
     "text": [
      "GPU available: True (cuda), used: True\n",
      "TPU available: False, using: 0 TPU cores\n",
      "HPU available: False, using: 0 HPUs\n",
      "You are using a CUDA device ('NVIDIA GeForce RTX 4090') that has Tensor Cores. To properly utilize them, you should set `torch.set_float32_matmul_precision('medium' | 'high')` which will trade-off precision for performance. For more details, read https://pytorch.org/docs/stable/generated/torch.set_float32_matmul_precision.html#torch.set_float32_matmul_precision\n",
      "LOCAL_RANK: 0 - CUDA_VISIBLE_DEVICES: [0]\n",
      "\n",
      "  | Name   | Type  | Params | Mode \n",
      "-----------------------------------------\n",
      "0 | layers | Model | 52.6 K | train\n",
      "-----------------------------------------\n",
      "52.6 K    Trainable params\n",
      "0         Non-trainable params\n",
      "52.6 K    Total params\n",
      "0.211     Total estimated model params size (MB)\n"
     ]
    },
    {
     "data": {
      "application/vnd.jupyter.widget-view+json": {
       "model_id": "e11fbb47060d4947a9b264cd96df633c",
       "version_major": 2,
       "version_minor": 0
      },
      "text/plain": [
       "Sanity Checking: |          | 0/? [00:00<?, ?it/s]"
      ]
     },
     "metadata": {},
     "output_type": "display_data"
    },
    {
     "name": "stderr",
     "output_type": "stream",
     "text": [
      "c:\\Users\\msong\\anaconda3\\envs\\py3_11_8\\Lib\\site-packages\\pytorch_lightning\\trainer\\connectors\\data_connector.py:424: The 'val_dataloader' does not have many workers which may be a bottleneck. Consider increasing the value of the `num_workers` argument` to `num_workers=15` in the `DataLoader` to improve performance.\n",
      "c:\\Users\\msong\\anaconda3\\envs\\py3_11_8\\Lib\\site-packages\\pytorch_lightning\\trainer\\connectors\\data_connector.py:424: The 'train_dataloader' does not have many workers which may be a bottleneck. Consider increasing the value of the `num_workers` argument` to `num_workers=15` in the `DataLoader` to improve performance.\n"
     ]
    },
    {
     "data": {
      "application/vnd.jupyter.widget-view+json": {
       "model_id": "25edac275b2e471a844aab9bf8a76004",
       "version_major": 2,
       "version_minor": 0
      },
      "text/plain": [
       "Training: |          | 0/? [00:00<?, ?it/s]"
      ]
     },
     "metadata": {},
     "output_type": "display_data"
    },
    {
     "data": {
      "application/vnd.jupyter.widget-view+json": {
       "model_id": "40c3451dc7ee45dcb7765ce2453d4a0d",
       "version_major": 2,
       "version_minor": 0
      },
      "text/plain": [
       "Validation: |          | 0/? [00:00<?, ?it/s]"
      ]
     },
     "metadata": {},
     "output_type": "display_data"
    },
    {
     "data": {
      "application/vnd.jupyter.widget-view+json": {
       "model_id": "99d832713d094cdf92d6054ccd2f73c3",
       "version_major": 2,
       "version_minor": 0
      },
      "text/plain": [
       "Validation: |          | 0/? [00:00<?, ?it/s]"
      ]
     },
     "metadata": {},
     "output_type": "display_data"
    },
    {
     "data": {
      "application/vnd.jupyter.widget-view+json": {
       "model_id": "3f45f7539ebb410b95500b6eb7def41a",
       "version_major": 2,
       "version_minor": 0
      },
      "text/plain": [
       "Validation: |          | 0/? [00:00<?, ?it/s]"
      ]
     },
     "metadata": {},
     "output_type": "display_data"
    },
    {
     "name": "stderr",
     "output_type": "stream",
     "text": [
      "`Trainer.fit` stopped: `max_epochs=3` reached.\n"
     ]
    }
   ],
   "source": [
    "trainer = pl.Trainer(max_epochs= epoch, logger=logger, accelerator='auto')\n",
    "trainer.fit(model, trainDatLoader, valDataLoader)"
   ]
  },
  {
   "cell_type": "code",
   "execution_count": 30,
   "id": "2ad55cc4-8e62-4551-9ec0-199c28cad894",
   "metadata": {},
   "outputs": [
    {
     "data": {
      "text/html": [
       "<div>\n",
       "<style scoped>\n",
       "    .dataframe tbody tr th:only-of-type {\n",
       "        vertical-align: middle;\n",
       "    }\n",
       "\n",
       "    .dataframe tbody tr th {\n",
       "        vertical-align: top;\n",
       "    }\n",
       "\n",
       "    .dataframe thead th {\n",
       "        text-align: right;\n",
       "    }\n",
       "</style>\n",
       "<table border=\"1\" class=\"dataframe\">\n",
       "  <thead>\n",
       "    <tr style=\"text-align: right;\">\n",
       "      <th></th>\n",
       "      <th>epoch</th>\n",
       "      <th>error</th>\n",
       "      <th>loss</th>\n",
       "      <th>step</th>\n",
       "      <th>val_error</th>\n",
       "      <th>val_loss</th>\n",
       "    </tr>\n",
       "  </thead>\n",
       "  <tbody>\n",
       "    <tr>\n",
       "      <th>0</th>\n",
       "      <td>0</td>\n",
       "      <td>4.656613e-10</td>\n",
       "      <td>0.052280</td>\n",
       "      <td>49</td>\n",
       "      <td>NaN</td>\n",
       "      <td>NaN</td>\n",
       "    </tr>\n",
       "    <tr>\n",
       "      <th>1</th>\n",
       "      <td>0</td>\n",
       "      <td>1.862645e-10</td>\n",
       "      <td>0.020543</td>\n",
       "      <td>99</td>\n",
       "      <td>NaN</td>\n",
       "      <td>NaN</td>\n",
       "    </tr>\n",
       "    <tr>\n",
       "      <th>2</th>\n",
       "      <td>0</td>\n",
       "      <td>3.725290e-10</td>\n",
       "      <td>0.017961</td>\n",
       "      <td>149</td>\n",
       "      <td>NaN</td>\n",
       "      <td>NaN</td>\n",
       "    </tr>\n",
       "    <tr>\n",
       "      <th>3</th>\n",
       "      <td>0</td>\n",
       "      <td>7.450581e-10</td>\n",
       "      <td>0.012716</td>\n",
       "      <td>199</td>\n",
       "      <td>NaN</td>\n",
       "      <td>NaN</td>\n",
       "    </tr>\n",
       "    <tr>\n",
       "      <th>4</th>\n",
       "      <td>0</td>\n",
       "      <td>7.683411e-10</td>\n",
       "      <td>0.015975</td>\n",
       "      <td>249</td>\n",
       "      <td>NaN</td>\n",
       "      <td>NaN</td>\n",
       "    </tr>\n",
       "    <tr>\n",
       "      <th>5</th>\n",
       "      <td>0</td>\n",
       "      <td>6.519258e-10</td>\n",
       "      <td>0.009064</td>\n",
       "      <td>299</td>\n",
       "      <td>NaN</td>\n",
       "      <td>NaN</td>\n",
       "    </tr>\n",
       "    <tr>\n",
       "      <th>6</th>\n",
       "      <td>0</td>\n",
       "      <td>1.280569e-10</td>\n",
       "      <td>0.012318</td>\n",
       "      <td>349</td>\n",
       "      <td>NaN</td>\n",
       "      <td>NaN</td>\n",
       "    </tr>\n",
       "    <tr>\n",
       "      <th>7</th>\n",
       "      <td>0</td>\n",
       "      <td>1.164153e-10</td>\n",
       "      <td>0.014500</td>\n",
       "      <td>399</td>\n",
       "      <td>NaN</td>\n",
       "      <td>NaN</td>\n",
       "    </tr>\n",
       "    <tr>\n",
       "      <th>8</th>\n",
       "      <td>0</td>\n",
       "      <td>4.190952e-10</td>\n",
       "      <td>0.011022</td>\n",
       "      <td>449</td>\n",
       "      <td>NaN</td>\n",
       "      <td>NaN</td>\n",
       "    </tr>\n",
       "    <tr>\n",
       "      <th>9</th>\n",
       "      <td>0</td>\n",
       "      <td>NaN</td>\n",
       "      <td>NaN</td>\n",
       "      <td>468</td>\n",
       "      <td>4.714471e-10</td>\n",
       "      <td>0.011748</td>\n",
       "    </tr>\n",
       "    <tr>\n",
       "      <th>10</th>\n",
       "      <td>1</td>\n",
       "      <td>1.280569e-10</td>\n",
       "      <td>0.009373</td>\n",
       "      <td>499</td>\n",
       "      <td>NaN</td>\n",
       "      <td>NaN</td>\n",
       "    </tr>\n",
       "    <tr>\n",
       "      <th>11</th>\n",
       "      <td>1</td>\n",
       "      <td>2.793968e-10</td>\n",
       "      <td>0.012700</td>\n",
       "      <td>549</td>\n",
       "      <td>NaN</td>\n",
       "      <td>NaN</td>\n",
       "    </tr>\n",
       "    <tr>\n",
       "      <th>12</th>\n",
       "      <td>1</td>\n",
       "      <td>9.778888e-10</td>\n",
       "      <td>0.012292</td>\n",
       "      <td>599</td>\n",
       "      <td>NaN</td>\n",
       "      <td>NaN</td>\n",
       "    </tr>\n",
       "    <tr>\n",
       "      <th>13</th>\n",
       "      <td>1</td>\n",
       "      <td>9.313226e-10</td>\n",
       "      <td>0.013239</td>\n",
       "      <td>649</td>\n",
       "      <td>NaN</td>\n",
       "      <td>NaN</td>\n",
       "    </tr>\n",
       "    <tr>\n",
       "      <th>14</th>\n",
       "      <td>1</td>\n",
       "      <td>8.847564e-10</td>\n",
       "      <td>0.009690</td>\n",
       "      <td>699</td>\n",
       "      <td>NaN</td>\n",
       "      <td>NaN</td>\n",
       "    </tr>\n",
       "    <tr>\n",
       "      <th>15</th>\n",
       "      <td>1</td>\n",
       "      <td>2.095476e-10</td>\n",
       "      <td>0.009653</td>\n",
       "      <td>749</td>\n",
       "      <td>NaN</td>\n",
       "      <td>NaN</td>\n",
       "    </tr>\n",
       "    <tr>\n",
       "      <th>16</th>\n",
       "      <td>1</td>\n",
       "      <td>6.519258e-10</td>\n",
       "      <td>0.010780</td>\n",
       "      <td>799</td>\n",
       "      <td>NaN</td>\n",
       "      <td>NaN</td>\n",
       "    </tr>\n",
       "    <tr>\n",
       "      <th>17</th>\n",
       "      <td>1</td>\n",
       "      <td>4.656613e-10</td>\n",
       "      <td>0.016910</td>\n",
       "      <td>849</td>\n",
       "      <td>NaN</td>\n",
       "      <td>NaN</td>\n",
       "    </tr>\n",
       "    <tr>\n",
       "      <th>18</th>\n",
       "      <td>1</td>\n",
       "      <td>5.820766e-10</td>\n",
       "      <td>0.009602</td>\n",
       "      <td>899</td>\n",
       "      <td>NaN</td>\n",
       "      <td>NaN</td>\n",
       "    </tr>\n",
       "    <tr>\n",
       "      <th>19</th>\n",
       "      <td>1</td>\n",
       "      <td>NaN</td>\n",
       "      <td>NaN</td>\n",
       "      <td>937</td>\n",
       "      <td>5.104428e-10</td>\n",
       "      <td>0.008709</td>\n",
       "    </tr>\n",
       "    <tr>\n",
       "      <th>20</th>\n",
       "      <td>2</td>\n",
       "      <td>9.313226e-10</td>\n",
       "      <td>0.012314</td>\n",
       "      <td>949</td>\n",
       "      <td>NaN</td>\n",
       "      <td>NaN</td>\n",
       "    </tr>\n",
       "    <tr>\n",
       "      <th>21</th>\n",
       "      <td>2</td>\n",
       "      <td>6.286427e-10</td>\n",
       "      <td>0.006168</td>\n",
       "      <td>999</td>\n",
       "      <td>NaN</td>\n",
       "      <td>NaN</td>\n",
       "    </tr>\n",
       "    <tr>\n",
       "      <th>22</th>\n",
       "      <td>2</td>\n",
       "      <td>9.080395e-10</td>\n",
       "      <td>0.006279</td>\n",
       "      <td>1049</td>\n",
       "      <td>NaN</td>\n",
       "      <td>NaN</td>\n",
       "    </tr>\n",
       "    <tr>\n",
       "      <th>23</th>\n",
       "      <td>2</td>\n",
       "      <td>9.313226e-11</td>\n",
       "      <td>0.011105</td>\n",
       "      <td>1099</td>\n",
       "      <td>NaN</td>\n",
       "      <td>NaN</td>\n",
       "    </tr>\n",
       "    <tr>\n",
       "      <th>24</th>\n",
       "      <td>2</td>\n",
       "      <td>5.587936e-10</td>\n",
       "      <td>0.007621</td>\n",
       "      <td>1149</td>\n",
       "      <td>NaN</td>\n",
       "      <td>NaN</td>\n",
       "    </tr>\n",
       "    <tr>\n",
       "      <th>25</th>\n",
       "      <td>2</td>\n",
       "      <td>5.355105e-10</td>\n",
       "      <td>0.009862</td>\n",
       "      <td>1199</td>\n",
       "      <td>NaN</td>\n",
       "      <td>NaN</td>\n",
       "    </tr>\n",
       "    <tr>\n",
       "      <th>26</th>\n",
       "      <td>2</td>\n",
       "      <td>1.862645e-10</td>\n",
       "      <td>0.010968</td>\n",
       "      <td>1249</td>\n",
       "      <td>NaN</td>\n",
       "      <td>NaN</td>\n",
       "    </tr>\n",
       "    <tr>\n",
       "      <th>27</th>\n",
       "      <td>2</td>\n",
       "      <td>6.752089e-10</td>\n",
       "      <td>0.009277</td>\n",
       "      <td>1299</td>\n",
       "      <td>NaN</td>\n",
       "      <td>NaN</td>\n",
       "    </tr>\n",
       "    <tr>\n",
       "      <th>28</th>\n",
       "      <td>2</td>\n",
       "      <td>1.862645e-10</td>\n",
       "      <td>0.006651</td>\n",
       "      <td>1349</td>\n",
       "      <td>NaN</td>\n",
       "      <td>NaN</td>\n",
       "    </tr>\n",
       "    <tr>\n",
       "      <th>29</th>\n",
       "      <td>2</td>\n",
       "      <td>1.833541e-10</td>\n",
       "      <td>0.005417</td>\n",
       "      <td>1399</td>\n",
       "      <td>NaN</td>\n",
       "      <td>NaN</td>\n",
       "    </tr>\n",
       "    <tr>\n",
       "      <th>30</th>\n",
       "      <td>2</td>\n",
       "      <td>NaN</td>\n",
       "      <td>NaN</td>\n",
       "      <td>1406</td>\n",
       "      <td>3.904488e-10</td>\n",
       "      <td>0.007579</td>\n",
       "    </tr>\n",
       "  </tbody>\n",
       "</table>\n",
       "</div>"
      ],
      "text/plain": [
       "    epoch         error      loss  step     val_error  val_loss\n",
       "0       0  4.656613e-10  0.052280    49           NaN       NaN\n",
       "1       0  1.862645e-10  0.020543    99           NaN       NaN\n",
       "2       0  3.725290e-10  0.017961   149           NaN       NaN\n",
       "3       0  7.450581e-10  0.012716   199           NaN       NaN\n",
       "4       0  7.683411e-10  0.015975   249           NaN       NaN\n",
       "5       0  6.519258e-10  0.009064   299           NaN       NaN\n",
       "6       0  1.280569e-10  0.012318   349           NaN       NaN\n",
       "7       0  1.164153e-10  0.014500   399           NaN       NaN\n",
       "8       0  4.190952e-10  0.011022   449           NaN       NaN\n",
       "9       0           NaN       NaN   468  4.714471e-10  0.011748\n",
       "10      1  1.280569e-10  0.009373   499           NaN       NaN\n",
       "11      1  2.793968e-10  0.012700   549           NaN       NaN\n",
       "12      1  9.778888e-10  0.012292   599           NaN       NaN\n",
       "13      1  9.313226e-10  0.013239   649           NaN       NaN\n",
       "14      1  8.847564e-10  0.009690   699           NaN       NaN\n",
       "15      1  2.095476e-10  0.009653   749           NaN       NaN\n",
       "16      1  6.519258e-10  0.010780   799           NaN       NaN\n",
       "17      1  4.656613e-10  0.016910   849           NaN       NaN\n",
       "18      1  5.820766e-10  0.009602   899           NaN       NaN\n",
       "19      1           NaN       NaN   937  5.104428e-10  0.008709\n",
       "20      2  9.313226e-10  0.012314   949           NaN       NaN\n",
       "21      2  6.286427e-10  0.006168   999           NaN       NaN\n",
       "22      2  9.080395e-10  0.006279  1049           NaN       NaN\n",
       "23      2  9.313226e-11  0.011105  1099           NaN       NaN\n",
       "24      2  5.587936e-10  0.007621  1149           NaN       NaN\n",
       "25      2  5.355105e-10  0.009862  1199           NaN       NaN\n",
       "26      2  1.862645e-10  0.010968  1249           NaN       NaN\n",
       "27      2  6.752089e-10  0.009277  1299           NaN       NaN\n",
       "28      2  1.862645e-10  0.006651  1349           NaN       NaN\n",
       "29      2  1.833541e-10  0.005417  1399           NaN       NaN\n",
       "30      2           NaN       NaN  1406  3.904488e-10  0.007579"
      ]
     },
     "execution_count": 30,
     "metadata": {},
     "output_type": "execute_result"
    }
   ],
   "source": [
    "version_num = logger.version\n",
    "history = pd.read_csv(f'./logs/{name}/version_{version_num}/metrics.csv')\n",
    "history"
   ]
  },
  {
   "cell_type": "code",
   "execution_count": 31,
   "id": "a6d00653-329b-4fc8-800e-1fbb8293c202",
   "metadata": {},
   "outputs": [
    {
     "data": {
      "text/html": [
       "<div>\n",
       "<style scoped>\n",
       "    .dataframe tbody tr th:only-of-type {\n",
       "        vertical-align: middle;\n",
       "    }\n",
       "\n",
       "    .dataframe tbody tr th {\n",
       "        vertical-align: top;\n",
       "    }\n",
       "\n",
       "    .dataframe thead th {\n",
       "        text-align: right;\n",
       "    }\n",
       "</style>\n",
       "<table border=\"1\" class=\"dataframe\">\n",
       "  <thead>\n",
       "    <tr style=\"text-align: right;\">\n",
       "      <th></th>\n",
       "      <th>error</th>\n",
       "      <th>loss</th>\n",
       "      <th>val_error</th>\n",
       "      <th>val_loss</th>\n",
       "    </tr>\n",
       "    <tr>\n",
       "      <th>epoch</th>\n",
       "      <th></th>\n",
       "      <th></th>\n",
       "      <th></th>\n",
       "      <th></th>\n",
       "    </tr>\n",
       "  </thead>\n",
       "  <tbody>\n",
       "    <tr>\n",
       "      <th>0</th>\n",
       "      <td>4.190952e-10</td>\n",
       "      <td>0.011022</td>\n",
       "      <td>4.714471e-10</td>\n",
       "      <td>0.011748</td>\n",
       "    </tr>\n",
       "    <tr>\n",
       "      <th>1</th>\n",
       "      <td>5.820766e-10</td>\n",
       "      <td>0.009602</td>\n",
       "      <td>5.104428e-10</td>\n",
       "      <td>0.008709</td>\n",
       "    </tr>\n",
       "    <tr>\n",
       "      <th>2</th>\n",
       "      <td>1.833541e-10</td>\n",
       "      <td>0.005417</td>\n",
       "      <td>3.904488e-10</td>\n",
       "      <td>0.007579</td>\n",
       "    </tr>\n",
       "  </tbody>\n",
       "</table>\n",
       "</div>"
      ],
      "text/plain": [
       "              error      loss     val_error  val_loss\n",
       "epoch                                                \n",
       "0      4.190952e-10  0.011022  4.714471e-10  0.011748\n",
       "1      5.820766e-10  0.009602  5.104428e-10  0.008709\n",
       "2      1.833541e-10  0.005417  3.904488e-10  0.007579"
      ]
     },
     "execution_count": 31,
     "metadata": {},
     "output_type": "execute_result"
    },
    {
     "ename": "",
     "evalue": "",
     "output_type": "error",
     "traceback": [
      "\u001b[1;31mThe Kernel crashed while executing code in the current cell or a previous cell. \n",
      "\u001b[1;31mPlease review the code in the cell(s) to identify a possible cause of the failure. \n",
      "\u001b[1;31mClick <a href='https://aka.ms/vscodeJupyterKernelCrash'>here</a> for more info. \n",
      "\u001b[1;31mView Jupyter <a href='command:jupyter.viewOutput'>log</a> for further details."
     ]
    }
   ],
   "source": [
    "history.groupby('epoch').last().drop('step', axis=1)"
   ]
  },
  {
   "cell_type": "code",
   "execution_count": null,
   "id": "be2b9f21-7319-4588-be25-9c8166f92b9c",
   "metadata": {},
   "outputs": [],
   "source": []
  },
  {
   "cell_type": "code",
   "execution_count": null,
   "id": "dfbc9126-3962-4003-9286-383df39430a1",
   "metadata": {},
   "outputs": [],
   "source": []
  },
  {
   "cell_type": "code",
   "execution_count": null,
   "id": "d9862988-9f8d-455f-b832-3e8afa799c43",
   "metadata": {},
   "outputs": [],
   "source": []
  }
 ],
 "metadata": {
  "kernelspec": {
   "display_name": "Python 3 (ipykernel)",
   "language": "python",
   "name": "python3"
  },
  "language_info": {
   "codemirror_mode": {
    "name": "ipython",
    "version": 3
   },
   "file_extension": ".py",
   "mimetype": "text/x-python",
   "name": "python",
   "nbconvert_exporter": "python",
   "pygments_lexer": "ipython3",
   "version": "3.11.8"
  }
 },
 "nbformat": 4,
 "nbformat_minor": 5
}
