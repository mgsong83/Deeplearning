{
 "cells": [
  {
   "cell_type": "markdown",
   "id": "cd02b7d6-f1a5-464a-9773-cd7e59d55058",
   "metadata": {},
   "source": [
    "## 필수 패키지 로드 \n",
    "만약 package 가 없다는 에러가 발생하면 pip install 명령어로 설치하면 된다. 아마 miniconda 를 설치했다면 아래 페키지가 한개도 없을 가능성이 크기 때문에\n",
    "pip install torch pandas matplotlib torchvision torchinfo torch_lightning 등을 다 해줘야 함!"
   ]
  },
  {
   "cell_type": "code",
   "execution_count": 1,
   "id": "9ad203ca-8094-47ca-aa85-6b08439b6b99",
   "metadata": {},
   "outputs": [
    {
     "data": {
      "text/plain": [
       "'2.0.1+cu117'"
      ]
     },
     "execution_count": 1,
     "metadata": {},
     "output_type": "execute_result"
    }
   ],
   "source": [
    "import torch\n",
    "torch.__version__"
   ]
  },
  {
   "cell_type": "code",
   "execution_count": null,
   "id": "61a93338-4ca6-4935-8691-9ab9236432bf",
   "metadata": {},
   "outputs": [],
   "source": [
    "import torch\n",
    "from torch import nn\n",
    "from torch.nn import functional as F\n",
    "import torch.optim as optim\n",
    "\n",
    "import pytorch_lightning as pl\n",
    "from pytorch_lightning.accelerators import accelerator\n",
    "from torchmetrics import functional as FM\n",
    "from torchinfo import summary\n",
    "\n",
    "from torchvision.datasets import MNIST\n",
    "import torchvision.transforms as transforms\n",
    "import torch.utils.data as data\n",
    "from torch.utils.data import DataLoader\n",
    "\n",
    "import numpy as np\n",
    "import pandas as pd\n",
    "import matplotlib.pyplot as plt\n",
    "plt.rcParams['figure.figsize'] = [5, 3.5]\n",
    "plt.rcParams[\"font.size\"] = \"8\"\n",
    "\n",
    "torch.__version__,pl.__version__,"
   ]
  },
  {
   "cell_type": "code",
   "execution_count": null,
   "id": "bd4e9c8f-41c1-4291-96cb-ee9449512cf3",
   "metadata": {},
   "outputs": [],
   "source": []
  },
  {
   "cell_type": "markdown",
   "id": "3d0b6501-9cc7-4646-b81e-03bfdec60d61",
   "metadata": {},
   "source": [
    "## Dataset 준비\n",
    "\n",
    "\n",
    "뭐니뭐니 해도 가장 기본적인 데이터는 국민 딥러닝 데이터인 손글씨 (MNIST) 일 것이다. 데이터에 대해서 잠시 설명하자면 28x28 pixel 사이즈로 쓰여진 손 글씨를 흑백 파일로 만든 것이다.\n",
    "흑백이기 때문에 RGB 이미지와 달리 채널은 1개뿐이고, 사이즈는 28 x 28 로 이루어져 있다."
   ]
  },
  {
   "cell_type": "code",
   "execution_count": null,
   "id": "72de868f-8fcb-4581-bf78-7a2877fe1f87",
   "metadata": {},
   "outputs": [],
   "source": [
    "from torchvision.datasets import MNIST\n",
    "import torchvision.transforms as transforms\n",
    "from torch.utils.data import DataLoader\n",
    "\n",
    "def dataLoader(batch_size=128):\n",
    "    train_dataset = MNIST('', transform=transforms.ToTensor(), train=True, download=True) ## 한 번 인터넷으로 가져온걸 매번 가져올 필요가 없기 때문에 가져올때 download True 로 하면 다음 부터는 다운로드 된 데이터를 사용한다.\n",
    "    test_dataset = MNIST('', transform=transforms.ToTensor(), train=False, download=True)\n",
    "    trainDataLoader = DataLoader(train_dataset, batch_size=batch_size, shuffle=True)\n",
    "    valDataLoader = DataLoader(test_dataset, batch_size=batch_size, shuffle=False)\n",
    "    return (trainDataLoader,valDataLoader)\n",
    "\n",
    "trainDataLoader,valDataLoader = dataLoader()"
   ]
  },
  {
   "cell_type": "markdown",
   "id": "4e055263-e0ea-4f44-bb2b-5c2defd67fe4",
   "metadata": {},
   "source": [
    "- transforms : pytorch 는 Tensor 라는 데이터 형을 사용하기 때문에 (numpy의 ndarray 와 비슷하지만 추가 정보가 포함되어있어서 좀 더 고차원인 데이터형식) 아예 데이터를 받으면서 tensor 형으로 변환시켜주었다.\n",
    "- download : 인터넷에서 데이터를 로드 할 때, 매번 로드할 필요없이 다운로드를 받아두면 그 다음부터는 다운로드 받은 데이터를 사용하기 때문에 속도와 네트워크 사용량에서 유리하다\n",
    "\n",
    "받아진 데이터를 쉽게 핸들링하기 위해서 바로 DataLoader 에 셋업하였다. DataLoader 에 로딩된 데이터는 간단히 next(iter()) 를 통해서 데이터를 받아오고 다음으로 넘어갈 수 있다. 파이토치를 쓸 때 가장 편한 유틸이 바로 이 데이터 셋을 만들고 이걸 로더에 로딩만하면 데이터를 학습할때 굳이 데이터 위치를 일일이 설정해줄 필요가 없다는 점이다."
   ]
  },
  {
   "cell_type": "code",
   "execution_count": null,
   "id": "1eb8c2d7-f71b-447a-9bfd-587411c361b7",
   "metadata": {},
   "outputs": [],
   "source": [
    "train_data = MNIST('', transform=transforms.ToTensor(), train=True, download=True)"
   ]
  },
  {
   "cell_type": "code",
   "execution_count": null,
   "id": "0098c903-4410-431a-8905-1f768dc8c518",
   "metadata": {},
   "outputs": [],
   "source": [
    "print(train_data) ## 6만개의 손글씨 데이터 셋\n",
    "#train_data[0] ## 중에서 첫번째  (이미지 + 라벨)\n",
    "#train_data[0][0] ## 중에서 이미지"
   ]
  },
  {
   "cell_type": "code",
   "execution_count": null,
   "id": "678d1776-368f-4e25-890f-008d618724bb",
   "metadata": {},
   "outputs": [],
   "source": [
    "print(train_data[0][0].shape)\n",
    "plt.imshow(train_data[0][0].view((28,28))) ##  tensor 에서는 reshape 대신 view 를 쓴다. 물론 reshape 도 되기는 하는데, 전통적으로 view 를 더 많이 쓰는듯.\n",
    "print( train_data[0][1] )"
   ]
  },
  {
   "cell_type": "markdown",
   "id": "40be5971-85af-494c-aba1-439c10af97b2",
   "metadata": {},
   "source": [
    "###  Model 정의 \n",
    "\n",
    "이제 데이터가 준비되었으니, 아주 간단한 모델을 만들어보자. 모델이 할 일은 다음과 같다. \n",
    "\n",
    "1. 손글씨 데이터를 읽어서\n",
    "2. 28 * 28 을 기다란 784 vector 로 만든 뒤에\n",
    "3. Fully connected 된 1개의 layer를 통해서\n",
    "4. 0~10 을 예측하는 layer로 전달하고 \n",
    "5. 이걸 onehot encode 된 실제 y와 비교하여\n",
    "6. loss 를 계산하여, 이 loss가 최소가 되도록!\n",
    "\n",
    "   "
   ]
  },
  {
   "cell_type": "code",
   "execution_count": null,
   "id": "adb9ed11-2be7-4245-bbca-1f151b70d6db",
   "metadata": {},
   "outputs": [],
   "source": [
    "loss_function = nn.CrossEntropyLoss() ## 회귀가 아닌 분류의 문제이므로 cross entropy 를 loss 로 사용한다. \n",
    "\n",
    "class mymodel1( pl.LightningModule ):  ## torch 또는 torch_lightning 의 기본 모듈을 상속받아서 사용한다. torch_lightning 이 좀 더 편하므로 왠만하면 lihgtning 을 상속\n",
    "    def __init__(self):\n",
    "        super().__init__()\n",
    "        self.layers = nn.Sequential(  ## forward 에서 이리저리 연결해주는 방법보다. 그냥 순차적인 layer 하나 넣주는게 여러모로 편함.\n",
    "            nn.Flatten(),\n",
    "            nn.Linear( 28*28, 10 ),\n",
    "        )\n",
    "\n",
    "    def forward(self, x):\n",
    "        out = self.layers(x)\n",
    "        return out\n",
    "\n"
   ]
  },
  {
   "cell_type": "markdown",
   "id": "6fe6670e-6a80-445f-9a5d-e35388bd101b",
   "metadata": {},
   "source": [
    "이렇게 기본적인 뼈대가 만들어졌다. 물론 아직 이대로는 돌아가지 않는다. torch_lightning 은 보통 Trainer 를 통해서 학습하게 되는데, Trainer 에 물리기 위해서는 다음의 매쏘드가 정의되어야 한다.\n",
    "\n",
    "1. training_step : 학습을 진행할 때 (~ train loop 에서 하는 일)\n",
    "2. validation_step : 검증을 진행할 때 (위와 같지만 굳이 loss return 필요없음)\n",
    "3. test_step : 테스트를 진행할 때 (위와 같고 역시 loss retrun 필요없음)\n",
    "4. configure_optimizer : 옵티마이져에 대한 셋팅\n",
    "\n",
    "이것만 정의하면 되고, 굳이 torch 에서 처럼 x.to(device), x.cuda() 이런거는 다 자동으로 이루어진다! (세상에!)\n",
    "심지어 학습만 하고 검증/예측을 안할꺼라면 그냥 1, 4만 구현해도 된다.\n",
    "\n",
    "그래도 검증까지는 필요하니까 train을 정의하고 optimizer 를 정의해서 모델을 완료시킨다."
   ]
  },
  {
   "cell_type": "code",
   "execution_count": null,
   "id": "4442dba5-11d9-4097-ad58-dc21b74cde4d",
   "metadata": {},
   "outputs": [],
   "source": [
    "\n",
    "class mymodel2( mymodel1 ): \n",
    "\n",
    "        \n",
    "    def training_step(self, batch, batch_idx):\n",
    "        x, y = batch\n",
    "        y_pred = self(x)\n",
    "        loss = loss_function(y_pred, y)\n",
    "        return loss\n",
    "    \n",
    "    def configure_optimizers(self):\n",
    "        return torch.optim.Adam(self.parameters(), lr=0.001)"
   ]
  },
  {
   "cell_type": "code",
   "execution_count": null,
   "id": "a1d2fd60-8082-49a8-b9aa-f5f656012c1e",
   "metadata": {},
   "outputs": [],
   "source": [
    "\n",
    "mm = mymodel2()\n",
    "summary(mm, input_size = (1, 1, 28, 28)) ## 들어갈때 batch size와 channel 을 알려줘야함"
   ]
  },
  {
   "cell_type": "markdown",
   "id": "68a3a09a-56f7-4a34-b799-836e55b3024a",
   "metadata": {},
   "source": [
    "이대로도 학습은 잘 진행된다. 3회만 학습을 돌려보자."
   ]
  },
  {
   "cell_type": "code",
   "execution_count": null,
   "id": "3d3f9228-361c-4b02-a0b9-db7b7db4a94f",
   "metadata": {},
   "outputs": [],
   "source": [
    "%%time\n",
    "epochs = 3\n",
    "trainer = pl.Trainer(max_epochs=epochs,accelerator=\"cpu\")\n",
    "trainer.fit(mm, trainDataLoader)"
   ]
  },
  {
   "cell_type": "code",
   "execution_count": null,
   "id": "03d4ee3f-78ec-4ec6-aeae-2297aca8ba4e",
   "metadata": {},
   "outputs": [],
   "source": []
  },
  {
   "cell_type": "code",
   "execution_count": null,
   "id": "ea7b8658-1e8f-4d9a-8882-2f15d75f1c8f",
   "metadata": {},
   "outputs": [],
   "source": []
  }
 ],
 "metadata": {
  "kernelspec": {
   "display_name": "Python 3 (ipykernel)",
   "language": "python",
   "name": "python3"
  },
  "language_info": {
   "codemirror_mode": {
    "name": "ipython",
    "version": 3
   },
   "file_extension": ".py",
   "mimetype": "text/x-python",
   "name": "python",
   "nbconvert_exporter": "python",
   "pygments_lexer": "ipython3",
   "version": "3.11.4"
  }
 },
 "nbformat": 4,
 "nbformat_minor": 5
}
