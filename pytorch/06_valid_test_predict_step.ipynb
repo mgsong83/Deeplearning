{
 "cells": [
  {
   "cell_type": "markdown",
   "id": "0655b3df-bd01-41a6-88f9-8cb97bf10215",
   "metadata": {},
   "source": [
    "\n",
    "## extra step 생성"
   ]
  },
  {
   "cell_type": "markdown",
   "id": "7ab0cd5e-2472-4fa2-8785-702749ec8e83",
   "metadata": {},
   "source": [
    "여태까지 Lightning moudle 을 상속받아 다음을 재구성하여 모델을 생성해보았다\n",
    "\n",
    "- \\_\\_init\\_\\_() : 신경망을 구성하는데 사용 (layer 정의)\n",
    "- forward() : 실제로 신경망에 x 가 들어갔을 때 나오는 y 를 정의 -> 실제로 call 은 forward를 부르는게 아니라 오브젝트를 call 해야함 (나중에 hook등이 동작하게 하기 위해서)\n",
    "- traning_step : 데이터를 넣었을 때, loss 를 계산하는 방법을 정의 (따라서 traning step 내부에는 당연히 forward 가 포함된 model() call이 있어야 한다) 하고 loss 를 리턴한다.\n",
    "- validation_step : validation 방법을 정의한다. 별도의 return 은 없어도 된다. (없어도 모델은 돌아감)\n",
    "- test_step : test 방법을 정의한다. 별도의 return 은 없어도 된다.\n",
    "  "
   ]
  },
  {
   "cell_type": "markdown",
   "id": "b747d133-2d63-4416-8863-fe509e88dcf6",
   "metadata": {},
   "source": [
    "이를 활용한 기본 모델의 뼈대는 아래와 같다"
   ]
  },
  {
   "cell_type": "code",
   "execution_count": 71,
   "id": "3d1132f5-652f-4860-8b48-4343933e1cb0",
   "metadata": {
    "jupyter": {
     "source_hidden": true
    }
   },
   "outputs": [],
   "source": [
    "## 1~5 장까지 실습한 내용\n",
    "import torch\n",
    "from torch import nn\n",
    "from torch.nn import functional as F\n",
    "import torch.optim as optim\n",
    "\n",
    "import pytorch_lightning as pl\n",
    "from pytorch_lightning.accelerators import accelerator\n",
    "from torchmetrics import functional as FM\n",
    "from torchinfo import summary\n",
    "\n",
    "from torchvision.datasets import MNIST\n",
    "import torchvision.transforms as transforms\n",
    "import torch.utils.data as data\n",
    "from torch.utils.data import DataLoader\n",
    "\n",
    "import numpy as np\n",
    "import pandas as pd\n",
    "import matplotlib.pyplot as plt\n",
    "\n",
    "\n",
    "class Model(pl.LightningModule):\n",
    "\n",
    "    def __init__(self):\n",
    "        super().__init__()\n",
    "        self.flatten = nn.Flatten()\n",
    "        self.dense1 = nn.Linear(28*28, 32)\n",
    "        self.dense2 = nn.Linear(28*28, 32)\n",
    "        self.dense2_2= nn.Linear(32, 16)\n",
    "        self.dense3 = nn.Linear(32+16, 10)\n",
    "        self.relu = nn.ReLU()\n",
    "\n",
    "    def forward(self, x):\n",
    "        x = self.flatten(x)\n",
    "\n",
    "        x1 = self.dense1(x)\n",
    "        x1 = self.relu(x1)\n",
    "\n",
    "        x2_1 = self.dense2(x)\n",
    "        x2_1 = self.relu(x2_1)\n",
    "        x2_2 = self.dense2_2(x2_1)\n",
    "        x2_2 = self.relu(x2_2)\n",
    "\n",
    "        x = torch.cat([x1, x2_2], dim=1)\n",
    "        x = self.dense3(x)\n",
    "\n",
    "        return(x)\n",
    "        \n",
    "\n",
    "\n",
    "def dataLoader(batch_size=128):\n",
    "    train_dataset = MNIST('', transform=transforms.ToTensor(), train=True, download=True) ## 한 번 인터넷으로 가져온걸 매번 가져올 필요가 없기 때문에 가져올때 download True 로 하면 다음 부터는 다운로드 된 데이터를 사용한다.\n",
    "    test_dataset = MNIST('', transform=transforms.ToTensor(), train=False, download=True)\n",
    "    trainDataLoader = DataLoader(train_dataset, batch_size=batch_size, shuffle=True)\n",
    "    valDataLoader = DataLoader(test_dataset, batch_size=batch_size, shuffle=False)\n",
    "    return (trainDataLoader,valDataLoader)\n",
    "\n",
    "trainDataLoader,valDataLoader = dataLoader()"
   ]
  },
  {
   "cell_type": "code",
   "execution_count": 9,
   "id": "b6ce75ad-f2c4-4520-b2f6-49e2f0539a5b",
   "metadata": {},
   "outputs": [
    {
     "name": "stderr",
     "output_type": "stream",
     "text": [
      "GPU available: True (cuda), used: True\n",
      "TPU available: False, using: 0 TPU cores\n",
      "IPU available: False, using: 0 IPUs\n",
      "HPU available: False, using: 0 HPUs\n",
      "C:\\Users\\msong\\miniconda3\\Lib\\site-packages\\pytorch_lightning\\trainer\\configuration_validator.py:71: PossibleUserWarning: You defined a `validation_step` but have no `val_dataloader`. Skipping val loop.\n",
      "  rank_zero_warn(\n",
      "LOCAL_RANK: 0 - CUDA_VISIBLE_DEVICES: [0]\n",
      "\n",
      "  | Name   | Type  | Params\n",
      "---------------------------------\n",
      "0 | layers | Model | 51.3 K\n",
      "---------------------------------\n",
      "51.3 K    Trainable params\n",
      "0         Non-trainable params\n",
      "51.3 K    Total params\n",
      "0.205     Total estimated model params size (MB)\n",
      "C:\\Users\\msong\\miniconda3\\Lib\\site-packages\\pytorch_lightning\\trainer\\connectors\\data_connector.py:442: PossibleUserWarning: The dataloader, train_dataloader, does not have many workers which may be a bottleneck. Consider increasing the value of the `num_workers` argument` (try 8 which is the number of cpus on this machine) in the `DataLoader` init to improve performance.\n",
      "  rank_zero_warn(\n"
     ]
    },
    {
     "data": {
      "application/vnd.jupyter.widget-view+json": {
       "model_id": "68c65243434b4a7085e9861643df1f7a",
       "version_major": 2,
       "version_minor": 0
      },
      "text/plain": [
       "Training: 0it [00:00, ?it/s]"
      ]
     },
     "metadata": {},
     "output_type": "display_data"
    },
    {
     "name": "stderr",
     "output_type": "stream",
     "text": [
      "`Trainer.fit` stopped: `max_epochs=3` reached.\n"
     ]
    }
   ],
   "source": [
    "loss_function = nn.CrossEntropyLoss()\n",
    "class MyModel(pl.LightningModule):\n",
    "    def __init__(self):\n",
    "        super(MyModel, self).__init__()\n",
    "        self.layers =  Model()\n",
    "\n",
    "    def forward(self, x):\n",
    "        out = self.layers(x)\n",
    "        return out\n",
    "\n",
    "    def training_step(self, batch, batch_idx):\n",
    "        x, y = batch\n",
    "        y_pred = self(x)\n",
    "        loss = loss_function(y_pred, y)\n",
    "        acc = FM.accuracy(y_pred, y, task=\"multiclass\",num_classes=10)\n",
    "        mse = FM.mean_squared_error(torch.argmax(y_pred, dim=1), y)\n",
    "        metrics={'loss': loss, 'acc':acc, 'mse': mse}\n",
    "        self.log_dict(metrics,prog_bar=True)#on_step=True, on_epoch=True)\n",
    "        return loss\n",
    "\n",
    "    def validation_step(self, batch, batch_idx):\n",
    "        x, y = batch\n",
    "        y_hat = self(x)\n",
    "        loss = loss_function(y_hat, y)\n",
    "        acc = FM.accuracy(y_hat, y, task=\"multiclass\",num_classes=10)\n",
    "        mse = FM.mean_squared_error(torch.argmax(y_hat, dim=1), y)\n",
    "        metrics={'val_loss': loss, 'val_acc':acc, 'val_mse': mse}\n",
    "        self.log_dict(metrics) #on_step=False, on_epoch=True\n",
    "\n",
    "    def test_step(self, batch, batch_idx):\n",
    "        x, y = batch\n",
    "        y_hat = self(x)\n",
    "        loss = loss_function(y_hat, y)\n",
    "        acc = FM.accuracy(y_hat, y, task=\"multiclass\",num_classes=10)\n",
    "        metrics={'test_loss': loss, 'test_acc':acc}\n",
    "        self.log_dict(metrics)\n",
    "\n",
    "    def configure_optimizers(self):\n",
    "        return torch.optim.Adam(self.parameters(), lr=0.001)\n",
    "\n",
    "model = MyModel()\n",
    "#summary(model, input_size=(8, 1, 28, 28))\n",
    "\n",
    "epochs=3\n",
    "trainer = pl.Trainer(max_epochs=epochs, accelerator='auto')\n",
    "trainer.fit(model, trainDataLoader)"
   ]
  },
  {
   "cell_type": "markdown",
   "id": "303c2c8e-00f6-40e4-a629-718e1f37d27b",
   "metadata": {},
   "source": [
    "validation step 과 test step 이 모두 정의가 되었기 때문에 아래와 같이 valdiate 나 test 메쏘드를 사용가능하다"
   ]
  },
  {
   "cell_type": "code",
   "execution_count": 10,
   "id": "a2768095-5bf0-4f72-b527-92bd053d5f89",
   "metadata": {},
   "outputs": [
    {
     "name": "stderr",
     "output_type": "stream",
     "text": [
      "LOCAL_RANK: 0 - CUDA_VISIBLE_DEVICES: [0]\n",
      "C:\\Users\\msong\\miniconda3\\Lib\\site-packages\\pytorch_lightning\\trainer\\connectors\\data_connector.py:442: PossibleUserWarning: The dataloader, val_dataloader, does not have many workers which may be a bottleneck. Consider increasing the value of the `num_workers` argument` (try 8 which is the number of cpus on this machine) in the `DataLoader` init to improve performance.\n",
      "  rank_zero_warn(\n"
     ]
    },
    {
     "data": {
      "application/vnd.jupyter.widget-view+json": {
       "model_id": "5cc3a83e610d4e65a29f22b39855ccd8",
       "version_major": 2,
       "version_minor": 0
      },
      "text/plain": [
       "Validation: 0it [00:00, ?it/s]"
      ]
     },
     "metadata": {},
     "output_type": "display_data"
    },
    {
     "name": "stdout",
     "output_type": "stream",
     "text": [
      "────────────────────────────────────────────────────────────────────────────────────────────────────────────────────────────────────────────────────────────────────────────────\n",
      "Runningstage.validating metric      DataLoader 0\n",
      "────────────────────────────────────────────────────────────────────────────────────────────────────────────────────────────────────────────────────────────────────────────────\n",
      "         val_acc            0.9506000280380249\n",
      "        val_loss            0.16787856817245483\n",
      "         val_mse            0.8942999839782715\n",
      "────────────────────────────────────────────────────────────────────────────────────────────────────────────────────────────────────────────────────────────────────────────────\n"
     ]
    },
    {
     "data": {
      "text/plain": [
       "[{'val_loss': 0.16787856817245483,\n",
       "  'val_acc': 0.9506000280380249,\n",
       "  'val_mse': 0.8942999839782715}]"
      ]
     },
     "execution_count": 10,
     "metadata": {},
     "output_type": "execute_result"
    }
   ],
   "source": [
    "trainer.validate(model, valDataLoader)"
   ]
  },
  {
   "cell_type": "code",
   "execution_count": 11,
   "id": "1d5689f7-fd74-42f3-8f44-a39c313132ef",
   "metadata": {},
   "outputs": [
    {
     "name": "stderr",
     "output_type": "stream",
     "text": [
      "LOCAL_RANK: 0 - CUDA_VISIBLE_DEVICES: [0]\n",
      "C:\\Users\\msong\\miniconda3\\Lib\\site-packages\\pytorch_lightning\\trainer\\connectors\\data_connector.py:442: PossibleUserWarning: The dataloader, test_dataloader, does not have many workers which may be a bottleneck. Consider increasing the value of the `num_workers` argument` (try 8 which is the number of cpus on this machine) in the `DataLoader` init to improve performance.\n",
      "  rank_zero_warn(\n"
     ]
    },
    {
     "data": {
      "application/vnd.jupyter.widget-view+json": {
       "model_id": "74f8a6e1f951454699b22493972e9d61",
       "version_major": 2,
       "version_minor": 0
      },
      "text/plain": [
       "Testing: 0it [00:00, ?it/s]"
      ]
     },
     "metadata": {},
     "output_type": "display_data"
    },
    {
     "name": "stdout",
     "output_type": "stream",
     "text": [
      "────────────────────────────────────────────────────────────────────────────────────────────────────────────────────────────────────────────────────────────────────────────────\n",
      "Runningstage.testing metric      DataLoader 0\n",
      "────────────────────────────────────────────────────────────────────────────────────────────────────────────────────────────────────────────────────────────────────────────────\n",
      "        test_acc            0.9506000280380249\n",
      "        test_loss           0.16787856817245483\n",
      "────────────────────────────────────────────────────────────────────────────────────────────────────────────────────────────────────────────────────────────────────────────────\n"
     ]
    },
    {
     "data": {
      "text/plain": [
       "[{'test_loss': 0.16787856817245483, 'test_acc': 0.9506000280380249}]"
      ]
     },
     "execution_count": 11,
     "metadata": {},
     "output_type": "execute_result"
    }
   ],
   "source": [
    "trainer.test(model, valDataLoader)"
   ]
  },
  {
   "cell_type": "markdown",
   "id": "3fc5c134-c6c3-4485-ba92-3eea69005d79",
   "metadata": {},
   "source": [
    "또한 별도의 forward() 를 이용하여 학습된 모델을 실행하는 별도의 process 를 생성할 수 도 있다."
   ]
  },
  {
   "cell_type": "code",
   "execution_count": 49,
   "id": "ef461a8c-6b02-431f-b662-06b665acda18",
   "metadata": {},
   "outputs": [],
   "source": [
    "class altModel(MyModel):\n",
    "\n",
    "    def predict_step(self, x, batch_idx):\n",
    "        y_pred = self(x) ## < forward 에 x를 넣어서 나온 결과 ==> logit 상태임\n",
    "        y_pb = nn.Softmax(y_pred) ## logit 을 Softmax 취해서 확률로 바꿈\n",
    "        return y_pb\n",
    "        "
   ]
  },
  {
   "cell_type": "code",
   "execution_count": 50,
   "id": "07342d7c-5d02-46de-a86e-09357063cd9b",
   "metadata": {},
   "outputs": [],
   "source": [
    "model = altModel()"
   ]
  },
  {
   "cell_type": "code",
   "execution_count": 51,
   "id": "06fa6212-aa9d-4053-96e2-829689990409",
   "metadata": {},
   "outputs": [
    {
     "name": "stderr",
     "output_type": "stream",
     "text": [
      "GPU available: True (cuda), used: True\n",
      "TPU available: False, using: 0 TPU cores\n",
      "IPU available: False, using: 0 IPUs\n",
      "HPU available: False, using: 0 HPUs\n",
      "LOCAL_RANK: 0 - CUDA_VISIBLE_DEVICES: [0]\n",
      "\n",
      "  | Name   | Type  | Params\n",
      "---------------------------------\n",
      "0 | layers | Model | 51.3 K\n",
      "---------------------------------\n",
      "51.3 K    Trainable params\n",
      "0         Non-trainable params\n",
      "51.3 K    Total params\n",
      "0.205     Total estimated model params size (MB)\n"
     ]
    },
    {
     "data": {
      "application/vnd.jupyter.widget-view+json": {
       "model_id": "ba479e76069b4827ba4842dfd2db65de",
       "version_major": 2,
       "version_minor": 0
      },
      "text/plain": [
       "Training: 0it [00:00, ?it/s]"
      ]
     },
     "metadata": {},
     "output_type": "display_data"
    },
    {
     "name": "stderr",
     "output_type": "stream",
     "text": [
      "`Trainer.fit` stopped: `max_epochs=3` reached.\n"
     ]
    }
   ],
   "source": [
    "\n",
    "epochs=3\n",
    "trainer = pl.Trainer(max_epochs=epochs, accelerator='auto')\n",
    "trainer.fit(model, trainDataLoader)"
   ]
  },
  {
   "cell_type": "code",
   "execution_count": 52,
   "id": "46e2d882-5c3f-4f0c-b9a1-f577676cefe8",
   "metadata": {},
   "outputs": [],
   "source": [
    "batch = next(iter(valDataLoader)) ##  데이터 로더에서 1개 배치 가져오기 "
   ]
  },
  {
   "cell_type": "code",
   "execution_count": 53,
   "id": "c2ba069b-1735-4a05-8fc1-e52b04f3c4b4",
   "metadata": {},
   "outputs": [
    {
     "name": "stdout",
     "output_type": "stream",
     "text": [
      "torch.Size([128, 1, 28, 28])\n",
      "torch.Size([128])\n"
     ]
    }
   ],
   "source": [
    "print(batch[0].shape) # x \n",
    "print(batch[1].shape) # y"
   ]
  },
  {
   "cell_type": "markdown",
   "id": "acbb0375-bab4-4a27-8c46-7bf37e23aa4e",
   "metadata": {},
   "source": [
    "배치사이즈가 128개씩 이므로 이중에서 가장 첫번째 x 만 보면"
   ]
  },
  {
   "cell_type": "code",
   "execution_count": 54,
   "id": "9dd8918d-dd94-484b-b7b9-19aae9287ad8",
   "metadata": {},
   "outputs": [
    {
     "data": {
      "text/plain": [
       "<matplotlib.image.AxesImage at 0x247a5a43390>"
      ]
     },
     "execution_count": 54,
     "metadata": {},
     "output_type": "execute_result"
    },
    {
     "data": {
      "image/png": "[encoded data removed]",
      "text/plain": [
       "<Figure size 640x480 with 1 Axes>"
      ]
     },
     "metadata": {},
     "output_type": "display_data"
    }
   ],
   "source": [
    "plt.imshow(batch[0][0].squeeze())"
   ]
  },
  {
   "cell_type": "markdown",
   "id": "57a6b903-83bd-4292-a8c7-6bd0b0852048",
   "metadata": {},
   "source": [
    "위와 같은 글씨임을 알 수 있다. 이걸 실제 모델에 넣어서 forward 시켜보면 "
   ]
  },
  {
   "cell_type": "code",
   "execution_count": 55,
   "id": "82f35721-7eab-4d96-9409-94705db87cdd",
   "metadata": {},
   "outputs": [],
   "source": [
    "y_logit = model(batch[0][0])"
   ]
  },
  {
   "cell_type": "code",
   "execution_count": 56,
   "id": "5e084c5f-01d0-4522-96b2-2026fbf14db5",
   "metadata": {},
   "outputs": [
    {
     "data": {
      "text/plain": [
       "tensor([ -1.9990,  -8.6402,   1.3585,   2.4129,  -6.7126,  -1.5154, -11.8695,\n",
       "          8.9260,  -3.0257,  -0.7638], grad_fn=<SelectBackward0>)"
      ]
     },
     "execution_count": 56,
     "metadata": {},
     "output_type": "execute_result"
    }
   ],
   "source": [
    "y_logit.shape\n",
    "y_logit[0]"
   ]
  },
  {
   "cell_type": "markdown",
   "id": "aa901579-6237-412e-ab33-787bb9271b99",
   "metadata": {},
   "source": [
    "위와 같은 logit 값을 볼 수 있는데, 여기에 softmax 를 취해서 변화하는게 바로 각 class 에 해당하는 probability 이므로 이걸 정의한게 위의 predict 매쏘드이다."
   ]
  },
  {
   "cell_type": "markdown",
   "id": "0ab17dd7-1106-4028-9009-fc4762aad495",
   "metadata": {},
   "source": [
    "따라서 model 에 batch 를 넣으면 logit 에 해당하는 값을 얻을 수 있다. "
   ]
  },
  {
   "cell_type": "code",
   "execution_count": 62,
   "id": "3badb2e1-85a2-4627-ab77-5dbccb6e24ac",
   "metadata": {},
   "outputs": [],
   "source": [
    "y_predcit_with_logit = model(batch[0])"
   ]
  },
  {
   "cell_type": "markdown",
   "id": "01ef2163-4d18-4f80-a6dd-a85dd46a265e",
   "metadata": {},
   "source": [
    "하지만 보통 대부분의 경우 우리가 관심이 있는 값들은 logit 이 아니라 이걸 확률로 변환한 prob 값인데, 우리가 predict_step 에 대해 정의를 했기 때문에, 이제 Trainer  에서도 predict를 사용할 수 있다. (model 에서 predict_step 이 정의가 되었기 때문에 활용가능)"
   ]
  },
  {
   "cell_type": "code",
   "execution_count": 64,
   "id": "353363ae-179f-4410-8f50-f11138622514",
   "metadata": {},
   "outputs": [
    {
     "name": "stderr",
     "output_type": "stream",
     "text": [
      "LOCAL_RANK: 0 - CUDA_VISIBLE_DEVICES: [0]\n"
     ]
    },
    {
     "data": {
      "application/vnd.jupyter.widget-view+json": {
       "model_id": "df198340bed443ba9317d54d06c0d259",
       "version_major": 2,
       "version_minor": 0
      },
      "text/plain": [
       "Predicting: 0it [00:00, ?it/s]"
      ]
     },
     "metadata": {},
     "output_type": "display_data"
    }
   ],
   "source": [
    "y_predict_with_prob = trainer.predict(model, batch[0])"
   ]
  },
  {
   "cell_type": "markdown",
   "id": "a0afdfc9-269e-4a15-98a9-1ae589ba59be",
   "metadata": {},
   "source": [
    "단 주의할점이 있는데, predict step 의 결과는 Softmax를 취한 logit 자체이지, 그 값이 아니다. 이해하기 힘들겠지만, 아래 결과를 보면 logit으로 나온 값을 보면 모델을 통과한 뒤에 각 class 에 해당하는 어떤 계산 값들이다. 반면 우리가 predict 한 값은 여기에 Softmax layer를 취해야 한다는걸 알려주지, 그 값을 알려주지는 않는다. (물론 나중에 여기에 argmax 등을 할 때에는 softmax를 취한 값의 argmax가 취해진다. -> 지금은 이해가 안되도 넘어가도록 하자)"
   ]
  },
  {
   "cell_type": "code",
   "execution_count": 69,
   "id": "aba9be02-9f0f-478b-87d2-7b0061980600",
   "metadata": {},
   "outputs": [
    {
     "name": "stdout",
     "output_type": "stream",
     "text": [
      "tensor([ -1.9990,  -8.6403,   1.3585,   2.4129,  -6.7126,  -1.5154, -11.8695,\n",
      "          8.9260,  -3.0257,  -0.7638], grad_fn=<SelectBackward0>)\n",
      "Softmax(\n",
      "  dim=tensor([[ -1.9990,  -8.6403,   1.3585,   2.4129,  -6.7126,  -1.5154, -11.8695,\n",
      "             8.9260,  -3.0257,  -0.7638]], device='cuda:0')\n",
      ")\n"
     ]
    }
   ],
   "source": [
    "print(y_predcit_with_logit[0])\n",
    "print(y_predict_with_prob[0])\n"
   ]
  },
  {
   "cell_type": "markdown",
   "id": "d62ad307-a1e5-4923-b4ff-c291f34f0154",
   "metadata": {},
   "source": []
  },
  {
   "cell_type": "markdown",
   "id": "a624cf0e-b87e-4aed-a94e-fbb470b892f7",
   "metadata": {},
   "source": [
    "그럼 실제로 추론하는 과정을 대략적으로 이해해보면"
   ]
  },
  {
   "cell_type": "code",
   "execution_count": 110,
   "id": "83dd6794-7453-48d5-b7f1-c74e22c5136a",
   "metadata": {},
   "outputs": [
    {
     "name": "stdout",
     "output_type": "stream",
     "text": [
      "torch.Size([128, 10])\n",
      "tensor([ -1.9990,  -8.6403,   1.3585,   2.4129,  -6.7126,  -1.5154, -11.8695,\n",
      "          8.9260,  -3.0257,  -0.7638], grad_fn=<SliceBackward0>)\n",
      "----\n",
      "tensor([ -1.9990,  -8.6403,   1.3585,   2.4129,  -6.7126,  -1.5154, -11.8695,\n",
      "          8.9260,  -3.0257,  -0.7638])\n",
      "----\n",
      "tensor([1.7965e-05, 2.3452e-08, 5.1593e-04, 1.4808e-03, 1.6119e-07, 2.9138e-05,\n",
      "        9.2838e-10, 9.9789e-01, 6.4346e-06, 6.1784e-05])\n",
      "----\n",
      "tensor(7)\n"
     ]
    }
   ],
   "source": [
    "batch = next(iter(valDataLoader))  ## 데이터로더로부터 다음의 batch 를 가져온다.\n",
    "\n",
    "model.eval() ## evaluation mode로 바꾼다. (drop out, batch normalization 등)\n",
    "\n",
    "y_pred = model(batch[0]) # batch 의 x 가 들어간다. input(128, 1, 28, 28) -> output (128, 10)\n",
    "\n",
    "print(y_pred.size()) ## tensor with 128 x 10\n",
    "print(y_pred[0, :])  ## 그 중 첫번째의 logit values, numpy 와 비슷하지만 뒤에 grad 정보가 있기 때문에 바로 그리거나 할 수 는 없음 이를 detach\n",
    "\n",
    "print(\"----\")\n",
    "# 주의 np.argmax( y_predict[0, :] ) 불가\n",
    "print(y_pred[0, :].detach())  ## grad_fn 부분이 사라진다.\n",
    "print(\"----\")\n",
    "softmax =  nn.Softmax(dim=0) \n",
    "print( softmax( y_pred[0, :].detach()  )) \n",
    "print(\"----\")\n",
    "print(np.argmax(softmax( y_pred[0, :].detach() ))) ## 이중 최대값의 argmax \n"
   ]
  },
  {
   "cell_type": "markdown",
   "id": "fc076f06-3aeb-44c1-b315-ef13808c47e3",
   "metadata": {},
   "source": [
    "위와 같이 이루어진다고 보면 된다. 단 여기서 grad 가 포함되어 있는 Tensor는 일반적인 numpy 연산이 안되기 때문에 grad 부분을 때주는 detach를 해주거나 아니면 아래처럼 no_grad 옵션을 줘야한다.  (아래 예제코드의 경우 : 사실 제대로 하면 softmax를 취한 다음에 argmax를 해야하지만 일반적으로 logit 이 최고인 값이 softmax도 최고이기 때문에 확률로 변환된 값이 필요한게 아니라면(그냥 최대값만 보고 싶으면) 여기서 바로 argmax 해도 된다)\n"
   ]
  },
  {
   "cell_type": "code",
   "execution_count": 109,
   "id": "44a10b5c-f386-4844-b2cb-efed7ea356c5",
   "metadata": {},
   "outputs": [
    {
     "name": "stdout",
     "output_type": "stream",
     "text": [
      "tensor([[ -1.9990,  -8.6403,   1.3585,  ...,   8.9260,  -3.0257,  -0.7638],\n",
      "        [  0.1254,  -1.5450,   6.8217,  ..., -12.3396,  -0.9260,  -8.7171],\n",
      "        [ -5.1869,   5.5554,  -0.1129,  ...,  -0.3302,  -1.3250,  -4.0489],\n",
      "        ...,\n",
      "        [ -8.0665,  -3.4997,  -0.8681,  ...,  -1.4528,  -1.7214,   2.7112],\n",
      "        [  4.5235,  -6.4920,   0.7036,  ...,  -3.0617,  -2.1172,   0.8550],\n",
      "        [ -2.1980,  -4.6622,  -3.5125,  ...,  -9.0685,   0.0601,  -3.7213]]) \n",
      "\n",
      "tensor([ -1.9990,  -8.6403,   1.3585,   2.4129,  -6.7126,  -1.5154, -11.8695,\n",
      "          8.9260,  -3.0257,  -0.7638]) \n",
      "\n",
      "7 np\n",
      "tensor(7) tensor\n"
     ]
    }
   ],
   "source": [
    "batch = next(iter(valDataLoader)) # ((128,1,28,28),(128,10))\n",
    "## Sets the module in evaluation mode.(Dropout,BN,..)\n",
    "model.eval()\n",
    "\n",
    "## disabled gradient calculation.(reduce memory)\n",
    "with torch.no_grad():             ### w/o grad_fn object ###\n",
    "    y_predict = model(batch[0])   # model <- image only\n",
    "\n",
    "## y_predict 는 이제 grad 가 없는 상태임\n",
    "\n",
    "print(y_predict,'\\n')                 # (128,10) tensor, w/o grad_fn\n",
    "print(y_predict[0,:],'\\n')            # (10,)    tensor, w/o grad_fn\n",
    "print(np.argmax(y_predict[0,:].numpy()),'np') # numpy index\n",
    "print(np.argmax(y_predict[0,:]),'tensor') # tensor index"
   ]
  },
  {
   "cell_type": "code",
   "execution_count": 114,
   "id": "5e98ee0d-b530-4ea5-b060-8f539cc9f56d",
   "metadata": {},
   "outputs": [
    {
     "name": "stdout",
     "output_type": "stream",
     "text": [
      "[7 2 1 0 4 1 4 9 6 9 0 6 9 0 1 5 9 7 3 4 9 6 6 5 4 0 7 4 0 1 3 1 3 4 7 2 7\n",
      " 1 2 1 1 7 4 2 3 5 1 2 4 4 6 3 5 5 6 0 4 1 9 5 7 8 9 3 7 4 6 4 3 0 7 0 2 9\n",
      " 1 7 3 2 9 7 7 6 2 7 8 4 7 3 6 1 3 6 9 3 1 4 1 7 6 9 6 0 5 4 9 9 2 1 9 4 8\n",
      " 7 3 9 7 4 4 4 9 2 5 4 7 6 7 9 0 5] ndarray\n"
     ]
    }
   ],
   "source": [
    "print(np.argmax(model(batch[0]).detach(),axis=1).numpy(),'ndarray')  # 예측한 숫자"
   ]
  },
  {
   "cell_type": "code",
   "execution_count": 115,
   "id": "45a4c7b4-04e2-433f-9278-cd1c97400de5",
   "metadata": {},
   "outputs": [
    {
     "name": "stdout",
     "output_type": "stream",
     "text": [
      "tensor([7, 2, 1, 0, 4, 1, 4, 9, 5, 9, 0, 6, 9, 0, 1, 5, 9, 7, 3, 4, 9, 6, 6, 5,\n",
      "        4, 0, 7, 4, 0, 1, 3, 1, 3, 4, 7, 2, 7, 1, 2, 1, 1, 7, 4, 2, 3, 5, 1, 2,\n",
      "        4, 4, 6, 3, 5, 5, 6, 0, 4, 1, 9, 5, 7, 8, 9, 3, 7, 4, 6, 4, 3, 0, 7, 0,\n",
      "        2, 9, 1, 7, 3, 2, 9, 7, 7, 6, 2, 7, 8, 4, 7, 3, 6, 1, 3, 6, 9, 3, 1, 4,\n",
      "        1, 7, 6, 9, 6, 0, 5, 4, 9, 9, 2, 1, 9, 4, 8, 7, 3, 9, 7, 4, 4, 4, 9, 2,\n",
      "        5, 4, 7, 6, 7, 9, 0, 5]) Tensor\n"
     ]
    }
   ],
   "source": [
    "print(batch[1],'Tensor') # 정답 Label"
   ]
  },
  {
   "cell_type": "code",
   "execution_count": null,
   "id": "951d7c80-c178-453f-a67b-f154ea46478c",
   "metadata": {},
   "outputs": [],
   "source": []
  }
 ],
 "metadata": {
  "kernelspec": {
   "display_name": "Python 3 (ipykernel)",
   "language": "python",
   "name": "python3"
  },
  "language_info": {
   "codemirror_mode": {
    "name": "ipython",
    "version": 3
   },
   "file_extension": ".py",
   "mimetype": "text/x-python",
   "name": "python",
   "nbconvert_exporter": "python",
   "pygments_lexer": "ipython3",
   "version": "3.11.4"
  }
 },
 "nbformat": 4,
 "nbformat_minor": 5
}
