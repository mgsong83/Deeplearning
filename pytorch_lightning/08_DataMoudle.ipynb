{
 "cells": [
  {
   "cell_type": "markdown",
   "id": "365a2a73-3711-4442-9379-415f873ce70f",
   "metadata": {},
   "source": [
    "## Data Moudle 만들기"
   ]
  },
  {
   "cell_type": "markdown",
   "id": "078bc4c7-0466-46ea-a50f-581e64590eb5",
   "metadata": {},
   "source": [
    "7에서 만든 모델 가져오기"
   ]
  },
  {
   "cell_type": "code",
   "execution_count": 4,
   "id": "cb22a609-34cd-420d-882b-5e6b96e139ca",
   "metadata": {},
   "outputs": [],
   "source": [
    "\n",
    "import pytorch_lightning as pl\n",
    "import torch\n",
    "from torch import nn\n",
    "from torchinfo import summary\n",
    "\n",
    "from torchmetrics import functional as FM\n",
    "\n",
    "\n",
    "class Model(pl.LightningModule):\n",
    "    \n",
    "    def __init__(self):\n",
    "        super().__init__()\n",
    "\n",
    "        self.flatten = nn.Flatten()\n",
    "        self.linear1 = nn.Linear(28*28, 32)\n",
    "        self.linear2 = nn.Linear(28*28, 32)\n",
    "        self.linear3 = nn.Linear(32+32, 10)\n",
    "        self.relu = nn.ReLU()\n",
    "\n",
    "    def forward(self, x):\n",
    "\n",
    "        x = self.flatten(x)\n",
    "\n",
    "        x1 = self.linear1(x)\n",
    "        x1 = self.relu(x1) \n",
    "        \n",
    "        x2 = self.linear2(x)\n",
    "        x2 = self.relu(x2)\n",
    "\n",
    "        x3 = torch.cat([x1, x2], dim=1)\n",
    "        y = self.linear3(x3) \n",
    "        \n",
    "        return(y)\n",
    "\n",
    "\n",
    "\n",
    "loss_ftn = nn.CrossEntropyLoss()\n",
    "class MyModel(pl.LightningModule):\n",
    "\n",
    "    def __init__(self):\n",
    "        super().__init__()\n",
    "        self.layers = Model()  ## 1개의 모델을 통으로 가지고 있는 형태 (상속이랑은 미묘하게 다름 -> 여러개 모델을 동시에 거느리는걸 생각해보자)\n",
    "\n",
    "    \n",
    "    def forward(self, x):\n",
    "        out = self.layers(x)\n",
    "        return(out)\n",
    "\n",
    "\n",
    "    def predict_step(self, x, batch_idx):  ## pred 에서는 x 만 들어오기 때문에 batch 대신 x 라고 표시\n",
    "        y_pred = self(x) # 여기까진  logit \n",
    "        y_prob = nn.Softmax(y_pred)  # 확률로 변환 \n",
    "        return(y_prob)\n",
    "\n",
    "     \n",
    "    def training_step(self, batch, batch_idx): ## 학습시에는 (x, y) 쌍이 들어오므로 batch 라고 표현\n",
    "        x, y = batch\n",
    "        y_pred = self(x)\n",
    "        loss = loss_ftn(y_pred, y)\n",
    "\n",
    "        acc = FM.accuracy(y_pred, y, task = 'multiclass', num_classes = 10) \n",
    "        mse = FM.mean_squared_error( torch.argmax( y_pred, dim=1 ), y)\n",
    "\n",
    "        metrics = {'loss' : loss, 'acc' : acc, 'mse' : mse }\n",
    "        self.log_dict( metrics, prog_bar = True) \n",
    "\n",
    "        return loss\n",
    "\n",
    "    def validation_step(self, batch, batch_idx):\n",
    "        x, y = batch\n",
    "        y_hat = self(x)\n",
    "        loss = loss_ftn(y_hat, y)    \n",
    "        acc = FM.accuracy(y_hat, y, task = 'multiclass', num_classes = 10) \n",
    "        mse = FM.mean_squared_error( torch.argmax( y_hat, dim=1 ), y)\n",
    "        metrics = {'val_loss' : loss, 'val_acc' : acc, 'val_mse' : mse }\n",
    "        self.log_dict( metrics, prog_bar = True) \n",
    "        return \n",
    "        \n",
    "\n",
    "    def test_step(self, batch, batch_idx):\n",
    "        x, y = batch\n",
    "        y_hat = self(x)\n",
    "        loss = loss_ftn(y_hat, y)    \n",
    "        acc = FM.accuracy(y_hat, y, task = 'multiclass', num_classes = 10) \n",
    "        mse = FM.mean_squared_error( torch.argmax( y_hat, dim=1 ), y)\n",
    "        metrics = {'test_loss' : loss, 'test_acc' : acc, 'test_mse' : mse }\n",
    "        self.log_dict( metrics, prog_bar = True) \n",
    "        return \n",
    "\n",
    "\n",
    "    def configure_optimizers(self):\n",
    "        return torch.optim.Adam( self.parameters(), lr=0.001 )\n",
    "\n",
    "\n",
    "\n",
    "\n"
   ]
  },
  {
   "cell_type": "code",
   "execution_count": 5,
   "id": "9212bc5f-f4a1-435d-a313-77e14cbadf59",
   "metadata": {},
   "outputs": [],
   "source": [
    "from torchvision.datasets import MNIST\n",
    "import pytorch_lightning as pl\n",
    "import torchvision.transforms as transforms\n",
    "from torch.utils import data\n",
    "from torch.utils.data import DataLoader"
   ]
  },
  {
   "cell_type": "markdown",
   "id": "ba7c9242-f78d-4401-8358-66ae97471a83",
   "metadata": {},
   "source": [
    "토치 라이트닝에서 제공하는 데이터 모듈은 크게 다음 매쏘드들만 정의하면 사용할 수 있다.\n",
    "https://lightning.ai/docs/pytorch/stable/data/datamodule.html\n",
    "\n",
    "- prepare\n",
    "- setup\n",
    "- train_dataloder\n",
    "- val_dataloader\n",
    "- test_dataloader\n",
    "\n",
    "\n",
    "prepare 와 setup 은 데이터를 준비하는 과정이지만 prepare 는 1개의 single thread로 작동하기 때문에, 다운로드 같이 완결성이 필요한 데서 사용하고 setup 의 경우에는 prepare 이후에 로드가 되며, GPU 별로 실행되는 부분이 들어가면 된다고 한다. (데이터의 변환 등)"
   ]
  },
  {
   "cell_type": "code",
   "execution_count": 6,
   "id": "25ee8ca1-0c14-4322-8fc0-b9f91bc49a3a",
   "metadata": {},
   "outputs": [],
   "source": [
    "class MNIST_DataModule( pl.LightningDataModule ):\n",
    "\n",
    "    def __init__(self, data_dir : str = '', batch_size :int = 32):\n",
    "        super().__init__()\n",
    "        self.data_dir = data_dir\n",
    "        self.batch_size = batch_size\n",
    "\n",
    "\n",
    "## 이미 다운로드가 받아져있는 데이터를 사용한다고 가정했으므로 prepare 생략 가능\n",
    "    \n",
    "    \n",
    "    def setup(self, stage):\n",
    "\n",
    "        #transforms for images\n",
    "        transform = transforms.Compose([\n",
    "            transforms.ToTensor(),\n",
    "            transforms.Normalize((0.1307,), (0.3081,))  ## 0~255 를  평균 / 산포 값으로 normalze\n",
    "        ])\n",
    "\n",
    "        train_data = MNIST(self.data_dir, train=True, transform=transform, download=True)   ## train과 test를 각각 변환\n",
    "        test_data = MNIST(self.data_dir, train=False, transform=transform, download=True)\n",
    "        \n",
    "        self.mnist_test = test_data\n",
    "        self.mnist_train, self.mnist_valid = data.random_split( train_data, [50000, 10000] ) \n",
    "\n",
    "\n",
    "   ## 데이터를 내보낼 때에는 torch.util 의 dataloader 로 내보낸다. \n",
    "    \n",
    "    def train_dataloader(self):\n",
    "        return DataLoader(self.mnist_train, batch_size = self.batch_size)  ## train 에 사용될 데이터 보내기\n",
    "\n",
    "    def val_dataloader(self):\n",
    "        return DataLoader(self.mnist_valid, batch_size = self.batch_size)  ## valid 에 사용될 데이터 보내기\n",
    "\n",
    "    def test_dataloader(self):\n",
    "        return DataLoader(self.mnist_test, batch_size = self.batch_size)  ## test 에 사용될 데이터 보내기 \n",
    "        "
   ]
  },
  {
   "cell_type": "code",
   "execution_count": 7,
   "id": "0e3ab8d2-315e-4462-9c89-2c178e55e57e",
   "metadata": {},
   "outputs": [],
   "source": [
    "data_module = MNIST_DataModule(batch_size= 128)"
   ]
  },
  {
   "cell_type": "code",
   "execution_count": 8,
   "id": "af96c67d-bdd2-43af-8abb-e2ad0f5fcb9c",
   "metadata": {},
   "outputs": [],
   "source": [
    "model = MyModel()"
   ]
  },
  {
   "cell_type": "code",
   "execution_count": 9,
   "id": "63080464-2b66-46ca-9082-9bb9bcb9d715",
   "metadata": {},
   "outputs": [
    {
     "name": "stderr",
     "output_type": "stream",
     "text": [
      "GPU available: True (cuda), used: True\n",
      "TPU available: False, using: 0 TPU cores\n",
      "IPU available: False, using: 0 IPUs\n",
      "HPU available: False, using: 0 HPUs\n",
      "C:\\Users\\msong\\miniconda3\\Lib\\site-packages\\pytorch_lightning\\trainer\\connectors\\logger_connector\\logger_connector.py:67: UserWarning: Starting from v1.9.0, `tensorboardX` has been removed as a dependency of the `pytorch_lightning` package, due to potential conflicts with other packages in the ML ecosystem. For this reason, `logger=True` will use `CSVLogger` as the default logger, unless the `tensorboard` or `tensorboardX` packages are found. Please `pip install lightning[extra]` or one of them to enable TensorBoard support by default\n",
      "  warning_cache.warn(\n",
      "LOCAL_RANK: 0 - CUDA_VISIBLE_DEVICES: [0]\n",
      "\n",
      "  | Name   | Type  | Params\n",
      "---------------------------------\n",
      "0 | layers | Model | 50.9 K\n",
      "---------------------------------\n",
      "50.9 K    Trainable params\n",
      "0         Non-trainable params\n",
      "50.9 K    Total params\n",
      "0.204     Total estimated model params size (MB)\n"
     ]
    },
    {
     "data": {
      "application/vnd.jupyter.widget-view+json": {
       "model_id": "",
       "version_major": 2,
       "version_minor": 0
      },
      "text/plain": [
       "Sanity Checking: 0it [00:00, ?it/s]"
      ]
     },
     "metadata": {},
     "output_type": "display_data"
    },
    {
     "name": "stderr",
     "output_type": "stream",
     "text": [
      "C:\\Users\\msong\\miniconda3\\Lib\\site-packages\\pytorch_lightning\\trainer\\connectors\\data_connector.py:442: PossibleUserWarning: The dataloader, val_dataloader, does not have many workers which may be a bottleneck. Consider increasing the value of the `num_workers` argument` (try 8 which is the number of cpus on this machine) in the `DataLoader` init to improve performance.\n",
      "  rank_zero_warn(\n",
      "C:\\Users\\msong\\miniconda3\\Lib\\site-packages\\pytorch_lightning\\trainer\\connectors\\data_connector.py:442: PossibleUserWarning: The dataloader, train_dataloader, does not have many workers which may be a bottleneck. Consider increasing the value of the `num_workers` argument` (try 8 which is the number of cpus on this machine) in the `DataLoader` init to improve performance.\n",
      "  rank_zero_warn(\n"
     ]
    },
    {
     "data": {
      "application/vnd.jupyter.widget-view+json": {
       "model_id": "4d6797091cdb4189ba27e2f098d440d2",
       "version_major": 2,
       "version_minor": 0
      },
      "text/plain": [
       "Training: 0it [00:00, ?it/s]"
      ]
     },
     "metadata": {},
     "output_type": "display_data"
    },
    {
     "data": {
      "application/vnd.jupyter.widget-view+json": {
       "model_id": "",
       "version_major": 2,
       "version_minor": 0
      },
      "text/plain": [
       "Validation: 0it [00:00, ?it/s]"
      ]
     },
     "metadata": {},
     "output_type": "display_data"
    },
    {
     "data": {
      "application/vnd.jupyter.widget-view+json": {
       "model_id": "",
       "version_major": 2,
       "version_minor": 0
      },
      "text/plain": [
       "Validation: 0it [00:00, ?it/s]"
      ]
     },
     "metadata": {},
     "output_type": "display_data"
    },
    {
     "data": {
      "application/vnd.jupyter.widget-view+json": {
       "model_id": "",
       "version_major": 2,
       "version_minor": 0
      },
      "text/plain": [
       "Validation: 0it [00:00, ?it/s]"
      ]
     },
     "metadata": {},
     "output_type": "display_data"
    },
    {
     "data": {
      "application/vnd.jupyter.widget-view+json": {
       "model_id": "",
       "version_major": 2,
       "version_minor": 0
      },
      "text/plain": [
       "Validation: 0it [00:00, ?it/s]"
      ]
     },
     "metadata": {},
     "output_type": "display_data"
    },
    {
     "data": {
      "application/vnd.jupyter.widget-view+json": {
       "model_id": "",
       "version_major": 2,
       "version_minor": 0
      },
      "text/plain": [
       "Validation: 0it [00:00, ?it/s]"
      ]
     },
     "metadata": {},
     "output_type": "display_data"
    },
    {
     "name": "stderr",
     "output_type": "stream",
     "text": [
      "`Trainer.fit` stopped: `max_epochs=5` reached.\n"
     ]
    }
   ],
   "source": [
    "trainer = pl.Trainer(max_epochs=5, accelerator='auto')\n",
    "trainer.fit(model, data_module)  ## 라이트닝에서 제일 일반적으로 학습을 시키는 형태 "
   ]
  },
  {
   "cell_type": "code",
   "execution_count": 10,
   "id": "4105270d-65ce-4c6d-a433-0de60def98e0",
   "metadata": {},
   "outputs": [
    {
     "name": "stderr",
     "output_type": "stream",
     "text": [
      "LOCAL_RANK: 0 - CUDA_VISIBLE_DEVICES: [0]\n"
     ]
    },
    {
     "data": {
      "application/vnd.jupyter.widget-view+json": {
       "model_id": "29c083a8f8cc441285292aa2a65c15f8",
       "version_major": 2,
       "version_minor": 0
      },
      "text/plain": [
       "Validation: 0it [00:00, ?it/s]"
      ]
     },
     "metadata": {},
     "output_type": "display_data"
    },
    {
     "name": "stdout",
     "output_type": "stream",
     "text": [
      "────────────────────────────────────────────────────────────────────────────────────────────────────────────────────────────────────────────────────────────────────────────────\n",
      "Runningstage.validating metric      DataLoader 0\n",
      "────────────────────────────────────────────────────────────────────────────────────────────────────────────────────────────────────────────────────────────────────────────────\n",
      "         val_acc            0.9758999943733215\n",
      "        val_loss            0.0886077806353569\n",
      "         val_mse            0.4876999855041504\n",
      "────────────────────────────────────────────────────────────────────────────────────────────────────────────────────────────────────────────────────────────────────────────────\n"
     ]
    },
    {
     "data": {
      "text/plain": [
       "[{'val_loss': 0.0886077806353569,\n",
       "  'val_acc': 0.9758999943733215,\n",
       "  'val_mse': 0.4876999855041504}]"
      ]
     },
     "execution_count": 10,
     "metadata": {},
     "output_type": "execute_result"
    }
   ],
   "source": [
    "trainer.validate(model, data_module)"
   ]
  },
  {
   "cell_type": "code",
   "execution_count": 11,
   "id": "ee34250a-5411-4222-9a21-71e1f6ccbbf2",
   "metadata": {},
   "outputs": [
    {
     "name": "stderr",
     "output_type": "stream",
     "text": [
      "LOCAL_RANK: 0 - CUDA_VISIBLE_DEVICES: [0]\n",
      "C:\\Users\\msong\\miniconda3\\Lib\\site-packages\\pytorch_lightning\\trainer\\connectors\\data_connector.py:442: PossibleUserWarning: The dataloader, test_dataloader, does not have many workers which may be a bottleneck. Consider increasing the value of the `num_workers` argument` (try 8 which is the number of cpus on this machine) in the `DataLoader` init to improve performance.\n",
      "  rank_zero_warn(\n"
     ]
    },
    {
     "data": {
      "application/vnd.jupyter.widget-view+json": {
       "model_id": "7077436a7f8942e19a578dcc092424f1",
       "version_major": 2,
       "version_minor": 0
      },
      "text/plain": [
       "Testing: 0it [00:00, ?it/s]"
      ]
     },
     "metadata": {},
     "output_type": "display_data"
    },
    {
     "name": "stdout",
     "output_type": "stream",
     "text": [
      "────────────────────────────────────────────────────────────────────────────────────────────────────────────────────────────────────────────────────────────────────────────────\n",
      "Runningstage.testing metric      DataLoader 0\n",
      "────────────────────────────────────────────────────────────────────────────────────────────────────────────────────────────────────────────────────────────────────────────────\n",
      "        test_acc            0.9682000279426575\n",
      "        test_loss           0.10530847311019897\n",
      "        test_mse            0.6162999868392944\n",
      "────────────────────────────────────────────────────────────────────────────────────────────────────────────────────────────────────────────────────────────────────────────────\n"
     ]
    },
    {
     "data": {
      "text/plain": [
       "[{'test_loss': 0.10530847311019897,\n",
       "  'test_acc': 0.9682000279426575,\n",
       "  'test_mse': 0.6162999868392944}]"
      ]
     },
     "execution_count": 11,
     "metadata": {},
     "output_type": "execute_result"
    }
   ],
   "source": [
    "trainer.test(model, data_module)"
   ]
  },
  {
   "cell_type": "code",
   "execution_count": null,
   "id": "f2bcbaca-12f7-40ed-acdc-4432bba9787e",
   "metadata": {},
   "outputs": [],
   "source": []
  },
  {
   "cell_type": "code",
   "execution_count": null,
   "id": "a7149ed9-7c7e-41c7-8167-34a551b4bdb7",
   "metadata": {},
   "outputs": [],
   "source": []
  }
 ],
 "metadata": {
  "kernelspec": {
   "display_name": "Python 3 (ipykernel)",
   "language": "python",
   "name": "python3"
  },
  "language_info": {
   "codemirror_mode": {
    "name": "ipython",
    "version": 3
   },
   "file_extension": ".py",
   "mimetype": "text/x-python",
   "name": "python",
   "nbconvert_exporter": "python",
   "pygments_lexer": "ipython3",
   "version": "3.11.4"
  }
 },
 "nbformat": 4,
 "nbformat_minor": 5
}
