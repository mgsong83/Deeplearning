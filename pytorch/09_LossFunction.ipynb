{
 "cells": [
  {
   "cell_type": "markdown",
   "id": "df093f07-ff15-4ff0-b43c-559337985dea",
   "metadata": {},
   "source": [
    "## Loss Functions\n",
    "\n",
    "딥러닝의 핵심은 주어진 네트워크의 weight bias를 loss 가 작아지는 쪽으로 바꾸는 데 있다. 따라서 손실함수야 말로 학습을 어떻게 할 지 정의해주는 부분이라고 생각 할 수 있다. \n",
    "\n",
    "pytorch / pytorch lightning 에서는 기본적으로 회귀에서 사용되는 MSE, 분류에서 사용되는 Cross Entropy 뿐 아니라 다양한 손실함수를 정의하고 있으며, 이는 torch.nn.functional 에 사전 정의되어 내장되어 있다. \n",
    "\n",
    "> torch.nn.functional\n",
    "* mse_loss      : element-wise mean squared error.\n",
    "* cross_entropy : cross entropy loss between input(logit) and target(prob.).\n",
    "* binary_cross_entropy : Binary Cross Entropy between the target and input probabilities.\n",
    "* binary_cross_entropy_with_logits :  Binary Cross Entropy between target and input logits.\n",
    "* kl_div : Kullback-Leibler divergence Loss\n",
    "* l1_loss : mean element-wise absolute value difference.\n",
    "* smooth_l1_loss : uses a squared term if the absolute element-wise error falls below beta and an L1 term otherwise.\n",
    "* nll_loss : negative log likelihood loss.\n",
    "* poisson_nll_loss : Poisson negative log likelihood loss.\n",
    "* gaussian_nll_loss : Gaussian negative log likelihood loss.\n",
    "\n",
    "\n",
    "또한 Metric 들도 다양하게 사용할 수 있는데, Accuracy, AUCROC 등등 torchmetrics 를 통해 사용할 수 있다.\n",
    "https://torchmetrics.readthedocs.io/en/stable/"
   ]
  },
  {
   "cell_type": "markdown",
   "id": "334062c1-3ec1-42a0-b05d-82f72e996389",
   "metadata": {},
   "source": [
    "대부분의 경우 내장됨 함수를 사용하게 되겠지만, 필요하다면 임의의 loss / metric 을 정의해서 쓸 수 도 있는데, 그 방법은 아래와 같다."
   ]
  },
  {
   "cell_type": "code",
   "execution_count": 2,
   "id": "073d898d-779c-4ff5-8c91-8f6686bb4f6d",
   "metadata": {},
   "outputs": [],
   "source": [
    "import numpy as np\n",
    "import torch\n",
    "from torch import nn\n",
    "from torch.nn import functional as F\n",
    "import torch.optim as optim\n",
    "\n",
    "import pytorch_lightning as pl\n",
    "from pytorch_lightning.accelerators import accelerator\n",
    "from torchmetrics import functional as FM\n",
    "from torchinfo import summary\n",
    "\n",
    "from torchvision.datasets import MNIST\n",
    "import torchvision.transforms as transforms\n",
    "import torch.utils.data as data\n",
    "from torch.utils.data import DataLoader\n",
    "import pandas as pd\n",
    "import matplotlib.pyplot as plt\n"
   ]
  },
  {
   "cell_type": "code",
   "execution_count": 3,
   "id": "4307064e-752e-4479-9d3c-1a9ebb1d2f99",
   "metadata": {},
   "outputs": [],
   "source": [
    "class Onehot(object) :\n",
    "    def __call__(self, sample):\n",
    "        sample = sample\n",
    "        target = np.eye(10)[sample] # 10x10 대각행열을 만들어서 그 중에 n번째 row 를 반환 0 --> (1,0,0,0,0....0)\n",
    "        return torch.FloatTensor(target)\n",
    "    "
   ]
  },
  {
   "cell_type": "code",
   "execution_count": 4,
   "id": "bc23846b-d50d-42ca-9554-09b9d2e39f67",
   "metadata": {},
   "outputs": [
    {
     "data": {
      "text/plain": [
       "tensor([0., 0., 0., 0., 0., 1., 0., 0., 0., 0.])"
      ]
     },
     "execution_count": 4,
     "metadata": {},
     "output_type": "execute_result"
    }
   ],
   "source": [
    "a = Onehot()\n",
    "a(5)"
   ]
  },
  {
   "cell_type": "code",
   "execution_count": 5,
   "id": "6bb59b9a-b3f5-41e2-9050-7723eea7aedd",
   "metadata": {},
   "outputs": [],
   "source": [
    "y_transform = transforms.Compose([Onehot()])         # target one-hot encoding \n",
    "x_transform = transforms.Compose([transforms.ToTensor()])  # image transform "
   ]
  },
  {
   "cell_type": "code",
   "execution_count": 6,
   "id": "e2e737a9-7d76-4ea6-bcae-74a765bbfc32",
   "metadata": {},
   "outputs": [],
   "source": [
    "train_dataset = MNIST('', transform=x_transform, target_transform=y_transform, train=True)\n",
    "test_dataset = MNIST('', transform=x_transform, target_transform=y_transform, train=False)"
   ]
  },
  {
   "cell_type": "code",
   "execution_count": null,
   "id": "116ef3b0-c231-42d8-ac36-9c5cd5d7b67e",
   "metadata": {},
   "outputs": [],
   "source": []
  },
  {
   "cell_type": "code",
   "execution_count": 7,
   "id": "07247324-ee3c-4b8e-8b5c-7cf9de83392b",
   "metadata": {},
   "outputs": [],
   "source": [
    "batch_size = 128\n",
    "trainDatLoader = DataLoader(train_dataset, batch_size=batch_size, shuffle=True)\n",
    "valDataLoader = DataLoader(test_dataset, batch_size=batch_size, shuffle=False)"
   ]
  },
  {
   "cell_type": "code",
   "execution_count": 8,
   "id": "76dc1ce9-5e46-47e8-953f-46e146c37d22",
   "metadata": {},
   "outputs": [],
   "source": [
    "class Model(pl.LightningModule):\n",
    "    def __init__(self):\n",
    "        super().__init__()\n",
    "        self.flatten = nn.Flatten()\n",
    "        self.linear1 = nn.Linear(28*28, 64)\n",
    "        self.linear2 = nn.Linear(64, 32)\n",
    "        self.linear3 = nn.Linear(32, 10)\n",
    "        self.relu = nn.ReLU()\n",
    "\n",
    "    def forward(self, x):\n",
    "        x = self.flatten(x)\n",
    "        x1 = self.linear1(x)\n",
    "        x1 = self.relu(x1)\n",
    "        x2 = self.linear2(x1)\n",
    "        x2 = self.relu(x2)\n",
    "        x3 = self.linear3(x2)\n",
    "        return x3\n",
    "               "
   ]
  },
  {
   "cell_type": "code",
   "execution_count": 9,
   "id": "a2266195-1f01-456f-931c-94ce79dda210",
   "metadata": {},
   "outputs": [],
   "source": [
    "def custom_loss_mse(pred, target):\n",
    "    error = torch.mean(torch.square(pred-target))\n",
    "    return error"
   ]
  },
  {
   "cell_type": "code",
   "execution_count": 10,
   "id": "668e4450-416e-4ab0-a890-04f26f00acb9",
   "metadata": {},
   "outputs": [],
   "source": [
    "def custom_mean_abs_error(y_pred, y_true):\n",
    "    error = torch.abs(torch.mean(y_true - y_pred))\n",
    "    return error "
   ]
  },
  {
   "cell_type": "code",
   "execution_count": null,
   "id": "ff3d4dd2-3e23-473f-a4d3-8a0fc65e8ac0",
   "metadata": {},
   "outputs": [],
   "source": []
  },
  {
   "cell_type": "code",
   "execution_count": 11,
   "id": "b604824f-8eea-40e6-8988-8e38078b5538",
   "metadata": {},
   "outputs": [],
   "source": [
    "class myModel(pl.LightningModule):\n",
    "\n",
    "    def __init__(self):\n",
    "        super().__init__()\n",
    "        self.layers = Model()\n",
    "\n",
    "\n",
    "    def forward(self, x):\n",
    "        out = self.layers(x)\n",
    "        out = torch.softmax(out, dim=-1) \n",
    "        return(out)\n",
    "\n",
    "    def training_step(self, batch, batch_idx):\n",
    "        x, y = batch\n",
    "        y_pred = self(x)\n",
    "        loss = custom_loss_mse(y_pred, y)\n",
    "        error = custom_mean_abs_error(y_pred, y)\n",
    "        metrics = {'loss' : loss, 'error' : error}\n",
    "        self.log_dict(metrics)\n",
    "        return loss\n",
    "\n",
    "\n",
    "    def validation_step(self, batch, batch_idx):\n",
    "        \n",
    "    "
   ]
  },
  {
   "cell_type": "code",
   "execution_count": null,
   "id": "52ff85ae-cb7f-476c-96d5-8ffcfcfaecf3",
   "metadata": {},
   "outputs": [],
   "source": []
  },
  {
   "cell_type": "code",
   "execution_count": null,
   "id": "90d8d301-961e-4417-8348-d5e0f8574c4d",
   "metadata": {},
   "outputs": [],
   "source": []
  }
 ],
 "metadata": {
  "kernelspec": {
   "display_name": "Python 3 (ipykernel)",
   "language": "python",
   "name": "python3"
  },
  "language_info": {
   "codemirror_mode": {
    "name": "ipython",
    "version": 3
   },
   "file_extension": ".py",
   "mimetype": "text/x-python",
   "name": "python",
   "nbconvert_exporter": "python",
   "pygments_lexer": "ipython3",
   "version": "3.11.4"
  }
 },
 "nbformat": 4,
 "nbformat_minor": 5
}
