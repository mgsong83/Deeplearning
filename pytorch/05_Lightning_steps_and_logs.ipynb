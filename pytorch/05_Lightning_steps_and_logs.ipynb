{
 "cells": [
  {
   "cell_type": "markdown",
   "id": "41f6d213-ff65-4e6c-9497-85146076a3a1",
   "metadata": {},
   "source": [
    "## Lightning 모듈 내부 해부"
   ]
  },
  {
   "cell_type": "markdown",
   "id": "aea13b79-bb01-4271-b916-158ff49bc81c",
   "metadata": {},
   "source": [
    "일반적인 pytorch 에서 학습 sequence 는 다음과 같다. (traning loop)"
   ]
  },
  {
   "cell_type": "code",
   "execution_count": 10,
   "id": "ef1d1d1a-d81a-4443-b69b-d0142124d14a",
   "metadata": {},
   "outputs": [],
   "source": [
    "def train_loop( dataloader, model, lossfn, optimizer):\n",
    "    size = len(dataloader.dataset)\n",
    "    for batch, (x, y) in enumerate(dataloader):\n",
    "\n",
    "        pred = model(x) # model class 가 callable 한 경우! \n",
    "                        # forward를 직접 불러도 결과는 같겠지만, 권장하지 않음 -> 모델을 직접 call해서 부르지 않으면  hook 이 동장하지 않음!\n",
    "        loss = lossfn( pred, y) \n",
    "\n",
    "         \n",
    "        if batch%100 == 0 :\n",
    "            loss, current = loss.item(), batch*len(x)\n",
    "            print(f\"loss : { loss }, [{current}/{size}\")\n",
    "        \n",
    "        "
   ]
  },
  {
   "cell_type": "markdown",
   "id": "ec8eab67-5979-456f-a297-ccbd70d416ec",
   "metadata": {},
   "source": [
    "반면 torch lightning 에서 학습을 정의하는 부분은 다음과 같다. (traning_step)"
   ]
  },
  {
   "cell_type": "code",
   "execution_count": null,
   "id": "466e847a-ffa9-4a48-b990-9be6208aeb8d",
   "metadata": {},
   "outputs": [],
   "source": [
    "#in the class \n",
    "    def traning_step(self, batch, batch_idx):\n",
    "        x, y = batch\n",
    "        y_hat = self(x) ## callable 한 경우  ->  forward 를 포함한 진행 \n",
    "        loss = loss_function(y_hat, y) ## loss_function 은 미리 주어져야함\n",
    "        self.log('traninig loss', loss)\n",
    "        return loss"
   ]
  },
  {
   "cell_type": "markdown",
   "id": "b374ae03-99f7-4b0b-ab31-f2ffac5c18bc",
   "metadata": {},
   "source": [
    "구조는 매우 간단하다. 먼저 데이터를 받고 (x, y를 batch로부터, 이 부분은 pl.traniner.fit 이 알아서 해준다.) 이를 모델에 넣어서 나온 값(예측 y값)과, 실제 y값 의 차이를 loss_function 함수에 넣어서 loss 를 계산하고 이를 return 한다. 별도로 back propagation 이나 optimizer 설정은 필요 없음에 유의하자! \n",
    "\n",
    "이와 완벽하게 똑같은 구조로 validation 또는 test 를 위한 내부 메쏘드 설정도 가능하다. 이름은 똑같이 validation_step, test_step 이라고 정의하면 되고 또한 traninig step 에서의 return 은 loss 이지만 만약 역전파가 필요없는 validation 이나 test 에서는 return 을 정의하지 않고, 결과만 log 에 표현해도 된다. "
   ]
  },
  {
   "cell_type": "code",
   "execution_count": null,
   "id": "8d2aaad4-347e-4222-ad70-be079385cfdb",
   "metadata": {},
   "outputs": [],
   "source": []
  },
  {
   "cell_type": "markdown",
   "id": "e3d99b05-6ca3-416a-ba9d-a19f11219ddd",
   "metadata": {},
   "source": [
    "### History Log\n",
    "Log 의 경우에는 다음의 문서에 잘 나와 있는데 (https://lightning.ai/docs/pytorch/stable/api_references.html#loggers), 각각 Step, Epoch level 에서 로깅이 가능하다. "
   ]
  },
  {
   "cell_type": "markdown",
   "id": "0bb43e4f-3c8d-4c8f-9598-a75ea456c5f7",
   "metadata": {},
   "source": [
    "```python\n",
    "LightningModule.log(name, value,\n",
    "    prog_bar=False, logger=True, on_step=None, on_epoch=None, reduce_fx='mean',\n",
    "    enable_graph=False, sync_dist=False, sync_dist_group=None, add_dataloader_idx=True,\n",
    "    batch_size=None, metric_attribute=None, rank_zero_only=False)\n",
    "```"
   ]
  },
  {
   "cell_type": "markdown",
   "id": "349b35ec-05fa-49fe-9ecd-0790bba81066",
   "metadata": {},
   "source": [
    "예를들어 다음의 3개의 차이를 보면"
   ]
  },
  {
   "cell_type": "code",
   "execution_count": null,
   "id": "cfaea737-499e-4ecb-b47b-0d584a987ff4",
   "metadata": {},
   "outputs": [],
   "source": [
    "from IPython.core.display import ProgressBar\n",
    "\n",
    "## 1) \n",
    "def traninig_step( self, batch, batch_idx ) :\n",
    "    x, y = batch\n",
    "    y_hat = self(x)\n",
    "    loss = loss_ftn(y_hat, y)\n",
    "    self.log(\"loss\", loss, on_step = True, on_epoch = False ) ## Step level 에서 \n",
    "    return loss\n",
    "\n",
    "## 2)\n",
    "def training_step( self, batch, batch_idx ):\n",
    "    x, y = batch\n",
    "    y_hat = self(x)\n",
    "    loss = loss_ftn(y_hat, y)\n",
    "    self.log(\"loss\", loss, on_step=False, on_epoch = True ) ## Epoch level 마다 log\n",
    "    return loss\n",
    "\n",
    "## 3)\n",
    "def traning_step( self, batch, batch_idx ):\n",
    "    x, y = batch\n",
    "    y_hat = self(x)\n",
    "    loss = loss_ftn(y_hat, y)\n",
    "    acc = FM.accuracy(y_hat, y, task=\"multiclass\", num_classes = 10)\n",
    "    metrics = {'loss' : loss, 'acc' : acc }\n",
    "    self.log_dict( metrics, prog_bar = True ) # by default, on_step = True, on_epoch = False \n",
    "    return loss\n",
    "    "
   ]
  },
  {
   "cell_type": "markdown",
   "id": "2d386bf5-5ab5-4113-8a29-862e64a94f4c",
   "metadata": {},
   "source": [
    "log 를 활용한 1) , 2) 의 경우의 차이는 step 마다 logging을 할 건지, 또는 epoch 마다 logging 을 할 건지의 차이고, 기본적으로는 on_step 이 default 이다. 만약 log 에 보다 자세한 정보를 기록하고 싶다면 먼저 log 에 담길 정보를 dict 형식으로 만든 다음에 (3번처럼), 이를 log_dict 매소드를 사용해서 기록하면 된다. 또한 prog_bar 를 활성화하면 진행정도를 볼 수 있는데 (마치 Keras 처럼, 만약 이 옵션을 False 로 하면 iteration 진행도만 나오고, 실제로 acc 라던가 loss 가 어떻게 변하는지는 보이지 않는다.) log 를 사용하면 자주 활성화 시키는 옵션이다. 이를 이용해서 실제 MNIST 모델을 만들어서 모델이 어떻게 돌아가는지 확인해보자."
   ]
  },
  {
   "cell_type": "code",
   "execution_count": 14,
   "id": "e9eec530-a15b-41ac-8763-32b475aff492",
   "metadata": {},
   "outputs": [],
   "source": [
    "import torch\n",
    "from torch import nn\n",
    "from torch.nn import functional as F\n",
    "import torch.optim as optim\n",
    "\n",
    "import pytorch_lightning as pl\n",
    "from pytorch_lightning.accelerators import accelerator\n",
    "from torchmetrics import functional as FM\n",
    "from torchinfo import summary\n",
    "\n",
    "from torchvision.datasets import MNIST\n",
    "import torchvision.transforms as transforms\n",
    "import torch.utils.data as data\n",
    "from torch.utils.data import DataLoader\n",
    "\n",
    "import numpy as np\n",
    "import pandas as pd\n",
    "import matplotlib.pyplot as plt\n"
   ]
  },
  {
   "cell_type": "code",
   "execution_count": 15,
   "id": "6f52791e-4d56-4ad0-821c-953cdee2ec0a",
   "metadata": {},
   "outputs": [],
   "source": [
    "loss_ftn = nn.CrossEntropyLoss()"
   ]
  },
  {
   "cell_type": "code",
   "execution_count": 65,
   "id": "0b213893-29b5-4e5a-a88c-fcf7810b9005",
   "metadata": {},
   "outputs": [],
   "source": [
    "## 4강에서 가져온 모델 사용\n",
    "class Model(pl.LightningModule):\n",
    "\n",
    "    def __init__(self):\n",
    "        super().__init__()\n",
    "        self.flatten = nn.Flatten()\n",
    "        self.dense1 = nn.Linear(28*28, 32)\n",
    "        self.dense2 = nn.Linear(28*28, 32)\n",
    "        self.dense2_2= nn.Linear(32, 16)\n",
    "        self.dense3 = nn.Linear(32+16, 10)\n",
    "        self.relu = nn.ReLU()\n",
    "\n",
    "    def forward(self, x):\n",
    "        x = self.flatten(x)\n",
    "\n",
    "        x1 = self.dense1(x)\n",
    "        x1 = self.relu(x1)\n",
    "\n",
    "        x2_1 = self.dense2(x)\n",
    "        x2_1 = self.relu(x2_1)\n",
    "        x2_2 = self.dense2_2(x2_1)\n",
    "        x2_2 = self.relu(x2_2)\n",
    "\n",
    "        x = torch.cat([x1, x2_2], dim=1)\n",
    "        x = self.dense3(x)\n",
    "\n",
    "        return(x)\n",
    "        "
   ]
  },
  {
   "cell_type": "code",
   "execution_count": 66,
   "id": "88820e13-de70-4797-8306-4bc3c6c04967",
   "metadata": {},
   "outputs": [],
   "source": [
    "loss_function = nn.CrossEntropyLoss()\n",
    "class SimpleModel(pl.LightningModule):\n",
    "    def __init__(self):\n",
    "        super().__init__()\n",
    "        self.layers = Model()  ## 위에서 정의된 모델을 사용 (어차피 in-out 만 맞으면 된다)\n",
    "\n",
    "    def forward(self, x):\n",
    "        out = self.layers(x)\n",
    "        return out\n",
    "\n",
    "    def training_step( self, batch, batch_idx):\n",
    "        x, y = batch\n",
    "        y_pred = self(x)\n",
    "        loss = loss_function(y_pred, y)\n",
    "        acc = FM.accuracy( y_pred, y, task='multiclass', num_classes=10)\n",
    "        \n",
    "        metrics = {'loss':loss, 'acc' : acc}\n",
    "\n",
    "        self.log_dict(metrics, prog_bar=True, on_step=True, on_epoch=True)\n",
    "\n",
    "        return loss\n",
    "\n",
    "    def configure_optimizers(self):\n",
    "        return torch.optim.Adam(self.parameters(), lr=0.001)\n",
    "     "
   ]
  },
  {
   "cell_type": "code",
   "execution_count": 73,
   "id": "f75022ab-b740-4b2e-bfb6-05dc83db75ba",
   "metadata": {},
   "outputs": [],
   "source": [
    "model = SimpleModel()"
   ]
  },
  {
   "cell_type": "code",
   "execution_count": 68,
   "id": "46bf49a4-fb3f-4974-87cf-be021eb46e04",
   "metadata": {
    "scrolled": true
   },
   "outputs": [
    {
     "data": {
      "text/plain": [
       "==========================================================================================\n",
       "Layer (type:depth-idx)                   Output Shape              Param #\n",
       "==========================================================================================\n",
       "SimpleModel                              [8, 10]                   --\n",
       "├─Model: 1-1                             [8, 10]                   --\n",
       "│    └─Flatten: 2-1                      [8, 784]                  --\n",
       "│    └─Linear: 2-2                       [8, 32]                   25,120\n",
       "│    └─ReLU: 2-3                         [8, 32]                   --\n",
       "│    └─Linear: 2-4                       [8, 32]                   25,120\n",
       "│    └─ReLU: 2-5                         [8, 32]                   --\n",
       "│    └─Linear: 2-6                       [8, 16]                   528\n",
       "│    └─ReLU: 2-7                         [8, 16]                   --\n",
       "│    └─Linear: 2-8                       [8, 10]                   490\n",
       "==========================================================================================\n",
       "Total params: 51,258\n",
       "Trainable params: 51,258\n",
       "Non-trainable params: 0\n",
       "Total mult-adds (Units.MEGABYTES): 0.41\n",
       "==========================================================================================\n",
       "Input size (MB): 0.03\n",
       "Forward/backward pass size (MB): 0.01\n",
       "Params size (MB): 0.21\n",
       "Estimated Total Size (MB): 0.24\n",
       "=========================================================================================="
      ]
     },
     "execution_count": 68,
     "metadata": {},
     "output_type": "execute_result"
    }
   ],
   "source": [
    "summary(model, input_size=(8, 1, 28, 28))"
   ]
  },
  {
   "cell_type": "markdown",
   "id": "14cdceb7-bf38-43bb-9b07-b66b07f20ba1",
   "metadata": {},
   "source": [
    "모델 생성은 원만하게 완료하였다. 이제 실제로 학습을 돌려보자"
   ]
  },
  {
   "cell_type": "code",
   "execution_count": 69,
   "id": "abd8342d-81e9-4f08-a370-1aa540250c83",
   "metadata": {},
   "outputs": [],
   "source": [
    "\n",
    "def dataLoader(batch_size=128):\n",
    "    train_dataset = MNIST('', transform=transforms.ToTensor(), train=True, download=True) ## 한 번 인터넷으로 가져온걸 매번 가져올 필요가 없기 때문에 가져올때 download True 로 하면 다음 부터는 다운로드 된 데이터를 사용한다.\n",
    "    test_dataset = MNIST('', transform=transforms.ToTensor(), train=False, download=True)\n",
    "    trainDataLoader = DataLoader(train_dataset, batch_size=batch_size, shuffle=True)\n",
    "    valDataLoader = DataLoader(test_dataset, batch_size=batch_size, shuffle=False)\n",
    "    return (trainDataLoader,valDataLoader)\n",
    "\n",
    "trainDataLoader,valDataLoader = dataLoader()"
   ]
  },
  {
   "cell_type": "code",
   "execution_count": 74,
   "id": "d1bbd6a7-054e-4a48-bf72-ea744d7c58fc",
   "metadata": {},
   "outputs": [
    {
     "name": "stderr",
     "output_type": "stream",
     "text": [
      "GPU available: True (cuda), used: True\n",
      "TPU available: False, using: 0 TPU cores\n",
      "IPU available: False, using: 0 IPUs\n",
      "HPU available: False, using: 0 HPUs\n"
     ]
    }
   ],
   "source": [
    "from pytorch_lightning.accelerators import accelerator\n",
    "epoch = 5\n",
    "logger = pl.loggers.CSVLogger(\"logs\", name = \"train_history_log\")\n",
    "traniner = pl.Trainer( max_epochs= epoch, logger= logger, accelerator = 'auto', \n",
    "                      log_every_n_steps=10) # default 는 50 "
   ]
  },
  {
   "cell_type": "code",
   "execution_count": 75,
   "id": "2fd96c6a-9d3f-41b5-8586-738386eeef54",
   "metadata": {},
   "outputs": [
    {
     "name": "stderr",
     "output_type": "stream",
     "text": [
      "LOCAL_RANK: 0 - CUDA_VISIBLE_DEVICES: [0]\n",
      "\n",
      "  | Name   | Type  | Params\n",
      "---------------------------------\n",
      "0 | layers | Model | 51.3 K\n",
      "---------------------------------\n",
      "51.3 K    Trainable params\n",
      "0         Non-trainable params\n",
      "51.3 K    Total params\n",
      "0.205     Total estimated model params size (MB)\n"
     ]
    },
    {
     "data": {
      "application/vnd.jupyter.widget-view+json": {
       "model_id": "7bf790f71fb046659981fe2d2a51dcad",
       "version_major": 2,
       "version_minor": 0
      },
      "text/plain": [
       "Training: 0it [00:00, ?it/s]"
      ]
     },
     "metadata": {},
     "output_type": "display_data"
    },
    {
     "name": "stderr",
     "output_type": "stream",
     "text": [
      "`Trainer.fit` stopped: `max_epochs=5` reached.\n"
     ]
    }
   ],
   "source": [
    "traniner.fit(model, trainDataLoader)"
   ]
  },
  {
   "cell_type": "markdown",
   "id": "d496a3b9-ca40-466c-9f5b-f27c8ce0b86f",
   "metadata": {},
   "source": [
    "Log 에 단순히 matrics 라는 이름의 dict 만 출력했으며, 이 dict 에는 loss 와 acc 만 들어있기 때문에 CSV 파일로 output 을 남겼다. log 옵션은 위와 같이"
   ]
  },
  {
   "cell_type": "markdown",
   "id": "251aaa7e-3afb-4cb2-9172-86d6db773ca1",
   "metadata": {},
   "source": [
    "```python\n",
    "self.log_dict(metrics, prog_bar=True, on_step=True, on_epoch=True)\n",
    "```"
   ]
  },
  {
   "cell_type": "markdown",
   "id": "7b7d0a6a-9ebd-40e7-9242-fe53ed1908b9",
   "metadata": {},
   "source": [
    "으로 남겼기 때문에 1 epoch 안에서도 step (1개 batch가 다 돌 때마다) 로그가 계속 남는다. 이 파일은 기본적으로 'CSVLogger' 를 생성할 때 실행 위치의 하위 폴더 (여기서는 logs)의 name (여기서는 train_history_log)이라는 폴더에 파일을 남기는데, 같은 모델을 반복해서 돌리거나 학습할 때, 또는 같은 이름의 폴더가 존재할 구분을 하기 위해서 version_x 이런 식으로 버전이 하나씩 높아진다. "
   ]
  },
  {
   "cell_type": "markdown",
   "id": "0f8ab555-0f81-4d7b-8ee3-13fa4309ca95",
   "metadata": {},
   "source": [
    "가장 최근에 돈 버전을 확인하고 싶다면 "
   ]
  },
  {
   "cell_type": "code",
   "execution_count": 78,
   "id": "fd71c935-0dc9-4c7e-b57b-adf3fe6d9a76",
   "metadata": {},
   "outputs": [
    {
     "data": {
      "text/html": [
       "<div>\n",
       "<style scoped>\n",
       "    .dataframe tbody tr th:only-of-type {\n",
       "        vertical-align: middle;\n",
       "    }\n",
       "\n",
       "    .dataframe tbody tr th {\n",
       "        vertical-align: top;\n",
       "    }\n",
       "\n",
       "    .dataframe thead th {\n",
       "        text-align: right;\n",
       "    }\n",
       "</style>\n",
       "<table border=\"1\" class=\"dataframe\">\n",
       "  <thead>\n",
       "    <tr style=\"text-align: right;\">\n",
       "      <th></th>\n",
       "      <th>loss_step</th>\n",
       "      <th>acc_step</th>\n",
       "      <th>epoch</th>\n",
       "      <th>step</th>\n",
       "      <th>loss_epoch</th>\n",
       "      <th>acc_epoch</th>\n",
       "    </tr>\n",
       "  </thead>\n",
       "  <tbody>\n",
       "    <tr>\n",
       "      <th>0</th>\n",
       "      <td>2.093160</td>\n",
       "      <td>0.406250</td>\n",
       "      <td>0</td>\n",
       "      <td>9</td>\n",
       "      <td>NaN</td>\n",
       "      <td>NaN</td>\n",
       "    </tr>\n",
       "    <tr>\n",
       "      <th>1</th>\n",
       "      <td>1.744891</td>\n",
       "      <td>0.617188</td>\n",
       "      <td>0</td>\n",
       "      <td>19</td>\n",
       "      <td>NaN</td>\n",
       "      <td>NaN</td>\n",
       "    </tr>\n",
       "    <tr>\n",
       "      <th>2</th>\n",
       "      <td>1.477360</td>\n",
       "      <td>0.718750</td>\n",
       "      <td>0</td>\n",
       "      <td>29</td>\n",
       "      <td>NaN</td>\n",
       "      <td>NaN</td>\n",
       "    </tr>\n",
       "    <tr>\n",
       "      <th>3</th>\n",
       "      <td>1.163913</td>\n",
       "      <td>0.734375</td>\n",
       "      <td>0</td>\n",
       "      <td>39</td>\n",
       "      <td>NaN</td>\n",
       "      <td>NaN</td>\n",
       "    </tr>\n",
       "    <tr>\n",
       "      <th>4</th>\n",
       "      <td>0.953659</td>\n",
       "      <td>0.835938</td>\n",
       "      <td>0</td>\n",
       "      <td>49</td>\n",
       "      <td>NaN</td>\n",
       "      <td>NaN</td>\n",
       "    </tr>\n",
       "    <tr>\n",
       "      <th>...</th>\n",
       "      <td>...</td>\n",
       "      <td>...</td>\n",
       "      <td>...</td>\n",
       "      <td>...</td>\n",
       "      <td>...</td>\n",
       "      <td>...</td>\n",
       "    </tr>\n",
       "    <tr>\n",
       "      <th>234</th>\n",
       "      <td>0.101236</td>\n",
       "      <td>0.968750</td>\n",
       "      <td>4</td>\n",
       "      <td>2309</td>\n",
       "      <td>NaN</td>\n",
       "      <td>NaN</td>\n",
       "    </tr>\n",
       "    <tr>\n",
       "      <th>235</th>\n",
       "      <td>0.179500</td>\n",
       "      <td>0.960938</td>\n",
       "      <td>4</td>\n",
       "      <td>2319</td>\n",
       "      <td>NaN</td>\n",
       "      <td>NaN</td>\n",
       "    </tr>\n",
       "    <tr>\n",
       "      <th>236</th>\n",
       "      <td>0.154053</td>\n",
       "      <td>0.953125</td>\n",
       "      <td>4</td>\n",
       "      <td>2329</td>\n",
       "      <td>NaN</td>\n",
       "      <td>NaN</td>\n",
       "    </tr>\n",
       "    <tr>\n",
       "      <th>237</th>\n",
       "      <td>0.107376</td>\n",
       "      <td>0.960938</td>\n",
       "      <td>4</td>\n",
       "      <td>2339</td>\n",
       "      <td>NaN</td>\n",
       "      <td>NaN</td>\n",
       "    </tr>\n",
       "    <tr>\n",
       "      <th>238</th>\n",
       "      <td>NaN</td>\n",
       "      <td>NaN</td>\n",
       "      <td>4</td>\n",
       "      <td>2344</td>\n",
       "      <td>0.128552</td>\n",
       "      <td>0.962667</td>\n",
       "    </tr>\n",
       "  </tbody>\n",
       "</table>\n",
       "<p>239 rows × 6 columns</p>\n",
       "</div>"
      ],
      "text/plain": [
       "     loss_step  acc_step  epoch  step  loss_epoch  acc_epoch\n",
       "0     2.093160  0.406250      0     9         NaN        NaN\n",
       "1     1.744891  0.617188      0    19         NaN        NaN\n",
       "2     1.477360  0.718750      0    29         NaN        NaN\n",
       "3     1.163913  0.734375      0    39         NaN        NaN\n",
       "4     0.953659  0.835938      0    49         NaN        NaN\n",
       "..         ...       ...    ...   ...         ...        ...\n",
       "234   0.101236  0.968750      4  2309         NaN        NaN\n",
       "235   0.179500  0.960938      4  2319         NaN        NaN\n",
       "236   0.154053  0.953125      4  2329         NaN        NaN\n",
       "237   0.107376  0.960938      4  2339         NaN        NaN\n",
       "238        NaN       NaN      4  2344    0.128552   0.962667\n",
       "\n",
       "[239 rows x 6 columns]"
      ]
     },
     "execution_count": 78,
     "metadata": {},
     "output_type": "execute_result"
    }
   ],
   "source": [
    "v_num = logger.version\n",
    "\n",
    "history = pd.read_csv(f'./logs/train_history_log/version_{v_num}/metrics.csv')\n",
    "history"
   ]
  },
  {
   "cell_type": "markdown",
   "id": "b9e4f9ca-c588-46e8-8a85-b76829b1a0da",
   "metadata": {},
   "source": [
    "와 같이 확인할 수 있다. "
   ]
  },
  {
   "cell_type": "markdown",
   "id": "f4119c64-2c9f-4392-a3a3-1a7a237de3bb",
   "metadata": {},
   "source": [
    "step 로그가 남는 동안에는 epoch 정보가 없기 때문에 epoch 이 Nan 으로 나오고,  epoch log 가 남을 때에는 step 정보가 없다. 만약 로그를 epoch 단위로만 남긴다면\n",
    "아래와 같은 모양으로 남게 된다."
   ]
  },
  {
   "cell_type": "code",
   "execution_count": 85,
   "id": "f155e458-eb62-4210-afe7-65bdac1dd091",
   "metadata": {},
   "outputs": [],
   "source": [
    "class SimpleModel2 (SimpleModel):\n",
    " \n",
    "    def training_step( self, batch, batch_idx):\n",
    "        x, y = batch\n",
    "        y_pred = self(x)\n",
    "        loss = loss_function(y_pred, y)\n",
    "        acc = FM.accuracy( y_pred, y, task='multiclass', num_classes=10)\n",
    "        \n",
    "        metrics = {'loss':loss, 'acc' : acc}\n",
    "\n",
    "        self.log_dict(metrics, prog_bar=False , on_step=False, on_epoch=True) ### << 이부분 수정 \n",
    "\n",
    "        return loss\n"
   ]
  },
  {
   "cell_type": "code",
   "execution_count": 86,
   "id": "34172f3b-7df6-43cf-9cb2-b6774174164e",
   "metadata": {},
   "outputs": [],
   "source": [
    "model2 = SimpleModel2()"
   ]
  },
  {
   "cell_type": "code",
   "execution_count": 87,
   "id": "010e717b-03d7-4d74-a2af-edaf9b1ecb78",
   "metadata": {},
   "outputs": [
    {
     "name": "stderr",
     "output_type": "stream",
     "text": [
      "GPU available: True (cuda), used: True\n",
      "TPU available: False, using: 0 TPU cores\n",
      "IPU available: False, using: 0 IPUs\n",
      "HPU available: False, using: 0 HPUs\n"
     ]
    }
   ],
   "source": [
    "epoch = 5\n",
    "logger = pl.loggers.CSVLogger(\"logs\", name = \"train_history_log_epoch_only\")\n",
    "traniner = pl.Trainer( max_epochs= epoch, logger= logger, accelerator = 'auto', \n",
    "                      log_every_n_steps=10) # default 는 50 "
   ]
  },
  {
   "cell_type": "code",
   "execution_count": 88,
   "id": "cf06360b-7003-4586-9b74-06990f0df535",
   "metadata": {},
   "outputs": [
    {
     "name": "stderr",
     "output_type": "stream",
     "text": [
      "LOCAL_RANK: 0 - CUDA_VISIBLE_DEVICES: [0]\n",
      "\n",
      "  | Name   | Type  | Params\n",
      "---------------------------------\n",
      "0 | layers | Model | 51.3 K\n",
      "---------------------------------\n",
      "51.3 K    Trainable params\n",
      "0         Non-trainable params\n",
      "51.3 K    Total params\n",
      "0.205     Total estimated model params size (MB)\n"
     ]
    },
    {
     "data": {
      "application/vnd.jupyter.widget-view+json": {
       "model_id": "04295bc4cbb04183835b5079fa47606e",
       "version_major": 2,
       "version_minor": 0
      },
      "text/plain": [
       "Training: 0it [00:00, ?it/s]"
      ]
     },
     "metadata": {},
     "output_type": "display_data"
    },
    {
     "name": "stderr",
     "output_type": "stream",
     "text": [
      "`Trainer.fit` stopped: `max_epochs=3` reached.\n"
     ]
    }
   ],
   "source": [
    "traniner.fit(model2, trainDataLoader)"
   ]
  },
  {
   "cell_type": "markdown",
   "id": "7d98d540-f2e2-415c-8974-afdd99217bfe",
   "metadata": {},
   "source": [
    "on_step=False, on_epoch=True 로 했을 경우 (log_every_n_steps가 설정되어 있더라도 기록이 되지 않음에 주의!!)"
   ]
  },
  {
   "attachments": {
    "02ed03eb-48f1-4a80-bd75-89c542abcb79.png": {
     "image/png": "[encoded data removed]"
    }
   },
   "cell_type": "markdown",
   "id": "f85ea4a8-a518-4ea5-b664-22ee5133c98e",
   "metadata": {},
   "source": [
    "![image.png](attachment:02ed03eb-48f1-4a80-bd75-89c542abcb79.png)"
   ]
  },
  {
   "cell_type": "code",
   "execution_count": 95,
   "id": "aa8baa3f-825b-4590-af21-804c25a94e80",
   "metadata": {},
   "outputs": [],
   "source": [
    "df = history.groupby('epoch').last().drop('step', axis=1)"
   ]
  },
  {
   "cell_type": "code",
   "execution_count": 110,
   "id": "29732048-1fb1-4bb3-893e-1b50522adc3b",
   "metadata": {},
   "outputs": [],
   "source": [
    "import matplotlib.pyplot as plt\n",
    "%matplotlib inline"
   ]
  },
  {
   "cell_type": "code",
   "execution_count": 117,
   "id": "81ce7e0c-c88d-4cc2-9bf0-f16f61809aca",
   "metadata": {},
   "outputs": [
    {
     "data": {
      "text/plain": [
       "<Axes: title={'center': 'train loss'}, xlabel='epoch'>"
      ]
     },
     "execution_count": 117,
     "metadata": {},
     "output_type": "execute_result"
    },
    {
     "data": {
      "image/png": "[encoded data removed]",
      "text/plain": [
       "<Figure size 800x550 with 1 Axes>"
      ]
     },
     "metadata": {},
     "output_type": "display_data"
    }
   ],
   "source": [
    "df[\"loss_epoch\"].plot(kind='line', title = \"train loss\")"
   ]
  },
  {
   "cell_type": "code",
   "execution_count": 118,
   "id": "0d2297f4-eea8-4ea8-b836-484e954e9e7a",
   "metadata": {},
   "outputs": [
    {
     "data": {
      "text/plain": [
       "<Axes: title={'center': 'train accuracy'}, xlabel='epoch'>"
      ]
     },
     "execution_count": 118,
     "metadata": {},
     "output_type": "execute_result"
    },
    {
     "data": {
      "image/png": "[encoded data removed]",
      "text/plain": [
       "<Figure size 800x550 with 1 Axes>"
      ]
     },
     "metadata": {},
     "output_type": "display_data"
    }
   ],
   "source": [
    "df[\"acc_epoch\"].plot(kind='line',  title = \"train accuracy\")"
   ]
  },
  {
   "cell_type": "code",
   "execution_count": null,
   "id": "c683daa8-65f4-41d2-84e0-203824755d2d",
   "metadata": {},
   "outputs": [],
   "source": []
  }
 ],
 "metadata": {
  "kernelspec": {
   "display_name": "Python 3 (ipykernel)",
   "language": "python",
   "name": "python3"
  },
  "language_info": {
   "codemirror_mode": {
    "name": "ipython",
    "version": 3
   },
   "file_extension": ".py",
   "mimetype": "text/x-python",
   "name": "python",
   "nbconvert_exporter": "python",
   "pygments_lexer": "ipython3",
   "version": "3.11.4"
  }
 },
 "nbformat": 4,
 "nbformat_minor": 5
}
