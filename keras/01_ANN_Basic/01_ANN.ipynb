{
 "cells": [
  {
   "cell_type": "markdown",
   "metadata": {},
   "source": [
    "#### Keras 를 활용한 간단한 ML 기초입니다.\n",
    "\n",
    "\n",
    "기본적으로 Machine Learning 은 최종 Target 을 맞추기 위해 \n",
    "적당히 선형으로 결합된 network graph를 먼저 설계하고 그 graph의 weight 에 해당하는 값을\n",
    "데이터에 맞추어 자동으로 튜닝하는 내용으로 이루어져 있습니다.\n",
    "\n",
    "보통 이 tune 을 해주는 프로그램으로 유명한게 tensorflow / pytorch 등이 있으며\n",
    "이번에 소개해드릴 keras는 tensorflow (또는 theano) 를 backend 로 하여 돌아가는 일종의 wrapper 입니다.\n",
    "\n",
    "아래는 임의의 X1~X5 의 변수를 이용해서 설계된 Y 를 맞추는 회귀 예제입니다.\n",
    "\n",
    "\n",
    "-- by m.song   7/10\n"
   ]
  },
  {
   "cell_type": "code",
   "execution_count": 1,
   "metadata": {},
   "outputs": [],
   "source": [
    "# 필수 라이브러리 로드 \n",
    "import tensorflow as tf\n",
    "import pandas as pd\n",
    "import numpy as np"
   ]
  },
  {
   "cell_type": "markdown",
   "metadata": {},
   "source": [
    "데이터 로드하기, 데이터는 엑셀에서 임의로 생성하였으며 (Toy MC) example1 부터 5 까지 점점 복잡한 조합으로 (선형, 제곱/나누기등 비선형, 초월함수 사용등) 구성되어 있습니다."
   ]
  },
  {
   "cell_type": "code",
   "execution_count": 2,
   "metadata": {},
   "outputs": [],
   "source": [
    "#df_train = pd.read_csv(\"example1_train.csv\", sep=\"\\t\")\n",
    "#df_test = pd.read_csv(\"example1_test.csv\", sep=\"\\t\")\n",
    "df = pd.read_csv(\"example5.csv\", sep=\"\\t\")"
   ]
  },
  {
   "cell_type": "markdown",
   "metadata": {},
   "source": [
    "사실 아래처럼 데이터를 나누는 것은 좋은 방법은 아닙니다. 데이터들의 index 에는 다른 정보 (ex 시간으로 sorting 되어 있다던지) 가 포함되어 있는 경우가 많기 때문에\n",
    "Train / Test 데이터를 제대로 나누기 위해서는 shuffle 등의 방법을 사용하는게 좋습니다. 여기서는 그냥 편의를 위해 index를 기준으로 나누었습니다."
   ]
  },
  {
   "cell_type": "code",
   "execution_count": 3,
   "metadata": {},
   "outputs": [],
   "source": [
    "train_x = np.array(df.iloc[:4000][['x1','x2','x3','x4', 'x5']])\n",
    "train_y = np.array(df.iloc[:4000][['y']])\n",
    "test_x = np.array(df.iloc[4001:][['x1','x2','x3','x4','x5']])\n",
    "test_y = np.array(df.iloc[4001:][['y']])"
   ]
  },
  {
   "cell_type": "markdown",
   "metadata": {},
   "source": [
    "주어진 데이터를 넣을 모델(network graph)를 만듭니다. 보시는 바와 같이 input shape을 지정해주지 않아도 알아서 적당히 만드는데는 문제가 없습니다.\n",
    "다만 이렇게 모델을 구성하면 `model.summary()` 등을 통해 확인할 수 가 없습니다. (실제 데이터가 들어오기전까지는 input layer가 어떻게 생겼는지 모르기 때문에)"
   ]
  },
  {
   "cell_type": "code",
   "execution_count": 4,
   "metadata": {},
   "outputs": [],
   "source": [
    "model = tf.keras.Sequential()\n",
    "\n",
    "model.add( tf.keras.layers.Dense( 20, activation='relu') )\n",
    "model.add( tf.keras.layers.Dense( 20, activation='relu') )\n",
    "model.add( tf.keras.layers.Dense( 1) )"
   ]
  },
  {
   "cell_type": "markdown",
   "metadata": {},
   "source": [
    "보다 제대로 된 정석적인 방법은 다음처럼 모델의 첫번째 layer로 Input layer를 명시해주는 것입니다."
   ]
  },
  {
   "cell_type": "code",
   "execution_count": 17,
   "metadata": {},
   "outputs": [],
   "source": [
    "model2 = tf.keras.Sequential()\n",
    "\n",
    "model2.add( tf.keras.layers.InputLayer( input_shape = train_x[0].shape ))\n",
    "model2.add( tf.keras.layers.Dense( 20, activation = \"relu\"))\n",
    "model2.add( tf.keras.layers.Dense( 20, activation = \"relu\"))\n",
    "model2.add( tf.keras.layers.Dense( 1 ) )"
   ]
  },
  {
   "cell_type": "markdown",
   "metadata": {},
   "source": [
    "위와같이 `model2.add( tf.keras.layers.InputLayer( input_shape = train_x[0].shape ))` 가 추가 되면 이후 아래처럼 summary 를 통해 network를 미리 확인 가능합니다. 또는 보다 화려하게\n",
    "`tf.keras.utils.plot_model(model2)` 등을 통해서도 확인이 가능합니다. 다만 화려함에 비해서 별로 얻을 수 있는 정보는 없습니다. ;-)"
   ]
  },
  {
   "cell_type": "code",
   "execution_count": 18,
   "metadata": {},
   "outputs": [
    {
     "name": "stdout",
     "output_type": "stream",
     "text": [
      "Model: \"sequential_2\"\n",
      "_________________________________________________________________\n",
      "Layer (type)                 Output Shape              Param #   \n",
      "=================================================================\n",
      "dense_5 (Dense)              (None, 20)                120       \n",
      "_________________________________________________________________\n",
      "dense_6 (Dense)              (None, 20)                420       \n",
      "_________________________________________________________________\n",
      "dense_7 (Dense)              (None, 1)                 21        \n",
      "=================================================================\n",
      "Total params: 561\n",
      "Trainable params: 561\n",
      "Non-trainable params: 0\n",
      "_________________________________________________________________\n"
     ]
    }
   ],
   "source": [
    "model2.summary()"
   ]
  },
  {
   "cell_type": "code",
   "execution_count": 19,
   "metadata": {},
   "outputs": [
    {
     "data": {
      "image/png": "[encoded data removed]",
      "text/plain": [
       "<IPython.core.display.Image object>"
      ]
     },
     "execution_count": 19,
     "metadata": {},
     "output_type": "execute_result"
    }
   ],
   "source": [
    "tf.keras.utils.plot_model(model2, show_shapes=True)"
   ]
  },
  {
   "cell_type": "markdown",
   "metadata": {},
   "source": [
    "이제 학습(데이터를 넣고 맞춰볼)을 진행할 때, 사용할 방법론을 지정해줘야 합니다. 가장 쉬운 예제는 경사하강법 (Gradient Decent - 줄여서 GD) 이지만, 성능이 좋지 않아서 최근에는 adaboost, adam 등이 사용됩니다.\n",
    "여기서는 일단 adam 을 써보기로 합니다. (옵티마이저는 나중에 설명드리겠습니다.)\n",
    "\n",
    "또한 우리가 맞추는 문제는 numeric한 숫자를 맞추는 것이므로, 얼마나 근사하게 맞췄느냐를 metric 으로 가지는 loss (손실)함수를 사용하겠습니다.\n",
    "MSE 는 (mean square error) 로  차이의 제곱 평균을 한 값을 사용합니다.\n",
    "\n",
    "예를들어\n",
    "-  실제 4 인데 예측 5 이면 -- 1 만큼 틀림 (손실값 1)\n",
    "-         실제 4 인데 예측 10이면 -- 36 만큼 틀림 (손실값 36)\n",
    "         \n",
    "제곱이 붙었으므로 많이 틀릴 수록 손실이 커지므로 최대한 실제 정답과 비슷한 값이 되어야 손실함수가 minimize 되고, 학습은 손실함수가 최소가 되게 학습하므로\n",
    "점점 모델을 실제값과 예측값이 비슷해지게 될 것입니다."
   ]
  },
  {
   "cell_type": "code",
   "execution_count": 9,
   "metadata": {},
   "outputs": [],
   "source": [
    "model.compile(optimizer='adam',  loss='mse'    )"
   ]
  },
  {
   "cell_type": "markdown",
   "metadata": {},
   "source": [
    "이제 실제 학습을 진행합니다. 데이터를 반복해서 학습하며, 그 학습 횟수는 epochs 로 나타내고 에포크가 20번 정도 되도록 학습을 하겠습니다. 이렇게 외부에서 주는\n",
    "값들을 하이퍼파라메터라고 부르며, 이를 얼마나 최적화 하는가는 순전히 사용자의 경험과 실력에 좌지우지 됩니다."
   ]
  },
  {
   "cell_type": "code",
   "execution_count": 12,
   "metadata": {},
   "outputs": [
    {
     "name": "stdout",
     "output_type": "stream",
     "text": [
      "Epoch 1/10\n",
      "125/125 [==============================] - 0s 1ms/step - loss: 4.0196e-04\n",
      "Epoch 2/10\n",
      "125/125 [==============================] - 0s 1ms/step - loss: 3.6165e-04\n",
      "Epoch 3/10\n",
      "125/125 [==============================] - 0s 1ms/step - loss: 3.5280e-04\n",
      "Epoch 4/10\n",
      "125/125 [==============================] - 0s 1ms/step - loss: 3.2802e-04\n",
      "Epoch 5/10\n",
      "125/125 [==============================] - 0s 1ms/step - loss: 3.2363e-04\n",
      "Epoch 6/10\n",
      "125/125 [==============================] - 0s 1ms/step - loss: 3.0516e-04\n",
      "Epoch 7/10\n",
      "125/125 [==============================] - 0s 1ms/step - loss: 2.8536e-04\n",
      "Epoch 8/10\n",
      "125/125 [==============================] - 0s 1ms/step - loss: 2.7170e-04\n",
      "Epoch 9/10\n",
      "125/125 [==============================] - 0s 1ms/step - loss: 2.5788e-04\n",
      "Epoch 10/10\n",
      "125/125 [==============================] - 0s 1ms/step - loss: 2.5819e-04\n"
     ]
    },
    {
     "data": {
      "text/plain": [
       "<tensorflow.python.keras.callbacks.History at 0x7f1b68512400>"
      ]
     },
     "execution_count": 12,
     "metadata": {},
     "output_type": "execute_result"
    }
   ],
   "source": [
    "model.fit(x=train_x, y=train_y, epochs=10)"
   ]
  },
  {
   "cell_type": "markdown",
   "metadata": {},
   "source": [
    "-----\n",
    "loss 값을 가지고 학습이 제대로 되었는 지 대충 가늠해 볼 수 있습니다. 위에서 언급한 바와 같이 Loss는 작을수록 학습이 잘 된겁니다. \n",
    "(다만 과적합에 대해서는 차후 이야기하겠습니다.)\n",
    "\n",
    "이제 처음에 나누었던 test set에 대해서도 검증을 해보겠습니다."
   ]
  },
  {
   "cell_type": "code",
   "execution_count": 13,
   "metadata": {},
   "outputs": [
    {
     "name": "stdout",
     "output_type": "stream",
     "text": [
      "18/18 [==============================] - 0s 868us/step - loss: 2.7010e-04\n"
     ]
    },
    {
     "data": {
      "text/plain": [
       "0.00027009908808395267"
      ]
     },
     "execution_count": 13,
     "metadata": {},
     "output_type": "execute_result"
    }
   ],
   "source": [
    "model.evaluate(x=test_x, y=test_y)"
   ]
  },
  {
   "cell_type": "markdown",
   "metadata": {},
   "source": [
    "model 의 evaluate 맴버 펑션을 사용하면, 같은 weight를 가지는 (학습이 완료된) network 를 사용해서 x / y 값을 평가해 볼 수 있습니다.\n",
    "마찬가지로 Loss 가 굉장히 작음을 확인할 수 있습니다.\n",
    "\n",
    "실제 값과, 예측 값을 각각  x , y 축으로 표현해서 산점도 그래프로 나타내보면, 둘이 잘 일치함을 확인할 수 있습니다."
   ]
  },
  {
   "cell_type": "code",
   "execution_count": 16,
   "metadata": {},
   "outputs": [
    {
     "data": {
      "text/plain": [
       "<matplotlib.collections.PathCollection at 0x7f1b445078b0>"
      ]
     },
     "execution_count": 16,
     "metadata": {},
     "output_type": "execute_result"
    },
    {
     "name": "stderr",
     "output_type": "stream",
     "text": [
      "findfont: Font family ['NanumGothic'] not found. Falling back to DejaVu Sans.\n"
     ]
    },
    {
     "data": {
      "image/png": "[encoded data removed]",
      "text/plain": [
       "<Figure size 432x288 with 1 Axes>"
      ]
     },
     "metadata": {
      "needs_background": "light"
     },
     "output_type": "display_data"
    }
   ],
   "source": [
    "import matplotlib.pyplot as plt\n",
    "plt.scatter( model.predict(test_x), test_y )"
   ]
  },
  {
   "cell_type": "code",
   "execution_count": null,
   "metadata": {},
   "outputs": [],
   "source": []
  }
 ],
 "metadata": {
  "kernelspec": {
   "display_name": "Python 3",
   "language": "python",
   "name": "python3"
  },
  "language_info": {
   "codemirror_mode": {
    "name": "ipython",
    "version": 3
   },
   "file_extension": ".py",
   "mimetype": "text/x-python",
   "name": "python",
   "nbconvert_exporter": "python",
   "pygments_lexer": "ipython3",
   "version": "3.8.5"
  }
 },
 "nbformat": 4,
 "nbformat_minor": 4
}
