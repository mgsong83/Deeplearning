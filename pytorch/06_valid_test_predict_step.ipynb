{
 "cells": [
  {
   "cell_type": "markdown",
   "id": "0655b3df-bd01-41a6-88f9-8cb97bf10215",
   "metadata": {},
   "source": [
    "\n",
    "## extra step 생성"
   ]
  },
  {
   "cell_type": "markdown",
   "id": "7ab0cd5e-2472-4fa2-8785-702749ec8e83",
   "metadata": {},
   "source": [
    "여태까지 Lightning moudle 을 상속받아 다음을 재구성하여 모델을 생성해보았다\n",
    "\n",
    "- \\_\\_init\\_\\_() : 신경망을 구성하는데 사용 (layer 정의)\n",
    "- forward() : 실제로 신경망에 x 가 들어갔을 때 나오는 y 를 정의 -> 실제로 call 은 forward를 부르는게 아니라 오브젝트를 call 해야함 (나중에 hook등이 동작하게 하기 위해서)\n",
    "- traning_step : 데이터를 넣었을 때, loss 를 계산하는 방법을 정의 (따라서 traning step 내부에는 당연히 forward 가 포함된 model() call이 있어야 한다) 하고 loss 를 리턴한다.\n",
    "- validation_step : validation 방법을 정의한다. 별도의 return 은 없어도 된다. (없어도 모델은 돌아감)\n",
    "- test_step : test 방법을 정의한다. 별도의 return 은 없어도 된다.\n",
    "  "
   ]
  },
  {
   "cell_type": "markdown",
   "id": "b747d133-2d63-4416-8863-fe509e88dcf6",
   "metadata": {},
   "source": [
    "이를 활용한 기본 모델의 뼈대는 아래와 같다"
   ]
  },
  {
   "cell_type": "code",
   "execution_count": 1,
   "id": "3d1132f5-652f-4860-8b48-4343933e1cb0",
   "metadata": {
    "jupyter": {
     "source_hidden": true
    }
   },
   "outputs": [],
   "source": [
    "## 1~5 장까지 실습한 내용\n",
    "import torch\n",
    "from torch import nn\n",
    "from torch.nn import functional as F\n",
    "import torch.optim as optim\n",
    "\n",
    "import pytorch_lightning as pl\n",
    "from pytorch_lightning.accelerators import accelerator\n",
    "from torchmetrics import functional as FM\n",
    "from torchinfo import summary\n",
    "\n",
    "from torchvision.datasets import MNIST\n",
    "import torchvision.transforms as transforms\n",
    "import torch.utils.data as data\n",
    "from torch.utils.data import DataLoader\n",
    "\n",
    "import numpy as np\n",
    "import pandas as pd\n",
    "import matplotlib.pyplot as plt\n",
    "\n",
    "\n",
    "class Model(pl.LightningModule):\n",
    "\n",
    "    def __init__(self):\n",
    "        super().__init__()\n",
    "        self.flatten = nn.Flatten()\n",
    "        self.dense1 = nn.Linear(28*28, 32)\n",
    "        self.dense2 = nn.Linear(28*28, 32)\n",
    "        self.dense2_2= nn.Linear(32, 16)\n",
    "        self.dense3 = nn.Linear(32+16, 10)\n",
    "        self.relu = nn.ReLU()\n",
    "\n",
    "    def forward(self, x):\n",
    "        x = self.flatten(x)\n",
    "\n",
    "        x1 = self.dense1(x)\n",
    "        x1 = self.relu(x1)\n",
    "\n",
    "        x2_1 = self.dense2(x)\n",
    "        x2_1 = self.relu(x2_1)\n",
    "        x2_2 = self.dense2_2(x2_1)\n",
    "        x2_2 = self.relu(x2_2)\n",
    "\n",
    "        x = torch.cat([x1, x2_2], dim=1)\n",
    "        x = self.dense3(x)\n",
    "\n",
    "        return(x)\n",
    "        \n",
    "\n",
    "\n",
    "def dataLoader(batch_size=128):\n",
    "    train_dataset = MNIST('', transform=transforms.ToTensor(), train=True, download=True) ## 한 번 인터넷으로 가져온걸 매번 가져올 필요가 없기 때문에 가져올때 download True 로 하면 다음 부터는 다운로드 된 데이터를 사용한다.\n",
    "    test_dataset = MNIST('', transform=transforms.ToTensor(), train=False, download=True)\n",
    "    trainDataLoader = DataLoader(train_dataset, batch_size=batch_size, shuffle=True)\n",
    "    valDataLoader = DataLoader(test_dataset, batch_size=batch_size, shuffle=False)\n",
    "    return (trainDataLoader,valDataLoader)\n",
    "\n",
    "trainDataLoader,valDataLoader = dataLoader()"
   ]
  },
  {
   "cell_type": "markdown",
   "id": "1379afb6",
   "metadata": {},
   "source": [
    "Pylighting 모듈을 상속 받아 뼈대를 만들고 기초적인 신경망(layers)와 이들을 연결해주는 forward를 정의해주었다. 또한 데이터 학습을 위해 데이터 로더를 셋팅해준다.\n",
    "\n",
    "이제 이 뼈대에 필수적인 Train / Valid / Test 에 대해 정의한다. 이 셋은 거의 형태가 비슷하기 때문에 많은 부분이 겹치는데, Train 같은 경우에는 그 결과값이 loss로 사용되기 때문에 return 이 필요한 반면, valid, test 의 경우에는 별도 loss 를 리턴 할 필요는 없다. (로그에 기록만 하면 됨)"
   ]
  },
  {
   "cell_type": "code",
   "execution_count": 2,
   "id": "b6ce75ad-f2c4-4520-b2f6-49e2f0539a5b",
   "metadata": {},
   "outputs": [
    {
     "name": "stderr",
     "output_type": "stream",
     "text": [
      "GPU available: True (mps), used: True\n",
      "TPU available: False, using: 0 TPU cores\n",
      "IPU available: False, using: 0 IPUs\n",
      "HPU available: False, using: 0 HPUs\n",
      "/opt/anaconda3/envs/python3_11_8/lib/python3.11/site-packages/pytorch_lightning/trainer/connectors/logger_connector/logger_connector.py:75: Starting from v1.9.0, `tensorboardX` has been removed as a dependency of the `pytorch_lightning` package, due to potential conflicts with other packages in the ML ecosystem. For this reason, `logger=True` will use `CSVLogger` as the default logger, unless the `tensorboard` or `tensorboardX` packages are found. Please `pip install lightning[extra]` or one of them to enable TensorBoard support by default\n",
      "/opt/anaconda3/envs/python3_11_8/lib/python3.11/site-packages/pytorch_lightning/trainer/configuration_validator.py:74: You defined a `validation_step` but have no `val_dataloader`. Skipping val loop.\n",
      "\n",
      "  | Name   | Type  | Params\n",
      "---------------------------------\n",
      "0 | layers | Model | 51.3 K\n",
      "---------------------------------\n",
      "51.3 K    Trainable params\n",
      "0         Non-trainable params\n",
      "51.3 K    Total params\n",
      "0.205     Total estimated model params size (MB)\n",
      "/opt/anaconda3/envs/python3_11_8/lib/python3.11/site-packages/pytorch_lightning/trainer/connectors/data_connector.py:441: The 'train_dataloader' does not have many workers which may be a bottleneck. Consider increasing the value of the `num_workers` argument` to `num_workers=7` in the `DataLoader` to improve performance.\n"
     ]
    },
    {
     "data": {
      "application/vnd.jupyter.widget-view+json": {
       "model_id": "6e648a16b7574932b721a2924c19341b",
       "version_major": 2,
       "version_minor": 0
      },
      "text/plain": [
       "Training: |          | 0/? [00:00<?, ?it/s]"
      ]
     },
     "metadata": {},
     "output_type": "display_data"
    },
    {
     "name": "stderr",
     "output_type": "stream",
     "text": [
      "`Trainer.fit` stopped: `max_epochs=3` reached.\n"
     ]
    }
   ],
   "source": [
    "loss_function = nn.CrossEntropyLoss()\n",
    "class MyModel(pl.LightningModule):\n",
    "    def __init__(self):\n",
    "        super(MyModel, self).__init__()\n",
    "        self.layers =  Model()\n",
    "\n",
    "    def forward(self, x):\n",
    "        out = self.layers(x)\n",
    "        return out\n",
    "\n",
    "    def training_step(self, batch, batch_idx):\n",
    "        x, y = batch\n",
    "        y_pred = self(x)\n",
    "        loss = loss_function(y_pred, y)\n",
    "        acc = FM.accuracy(y_pred, y, task=\"multiclass\",num_classes=10)\n",
    "        mse = FM.mean_squared_error(torch.argmax(y_pred, dim=1), y)\n",
    "        metrics={'loss': loss, 'acc':acc, 'mse': mse}\n",
    "        self.log_dict(metrics,prog_bar=True)#on_step=True, on_epoch=True)\n",
    "        return loss\n",
    "\n",
    "    def validation_step(self, batch, batch_idx):\n",
    "        x, y = batch\n",
    "        y_hat = self(x)\n",
    "        loss = loss_function(y_hat, y)\n",
    "        acc = FM.accuracy(y_hat, y, task=\"multiclass\",num_classes=10)\n",
    "        mse = FM.mean_squared_error(torch.argmax(y_hat, dim=1), y)\n",
    "        metrics={'val_loss': loss, 'val_acc':acc, 'val_mse': mse}\n",
    "        self.log_dict(metrics) #on_step=False, on_epoch=True\n",
    "\n",
    "    def test_step(self, batch, batch_idx):\n",
    "        x, y = batch\n",
    "        y_hat = self(x)\n",
    "        loss = loss_function(y_hat, y)\n",
    "        acc = FM.accuracy(y_hat, y, task=\"multiclass\",num_classes=10)\n",
    "        metrics={'test_loss': loss, 'test_acc':acc}\n",
    "        self.log_dict(metrics)\n",
    "\n",
    "    def configure_optimizers(self):\n",
    "        return torch.optim.Adam(self.parameters(), lr=0.001)\n",
    "\n",
    "model = MyModel()\n",
    "#summary(model, input_size=(8, 1, 28, 28))\n",
    "\n",
    "epochs=3\n",
    "trainer = pl.Trainer(max_epochs=epochs, accelerator='auto')\n",
    "trainer.fit(model, trainDataLoader)"
   ]
  },
  {
   "cell_type": "markdown",
   "id": "ffa3b80c",
   "metadata": {},
   "source": [
    "위 모델에서 MSE는 사실 필요가 없다. 왜냐하면 위 문제는 Classification(분류) 이지, Regression (회귀) 가 아니기 때문이다. 즉 Argmax 로 뽑힌 값이 7 이고, 실제 값이 4라면, MSE 는 (7-4)^2 이 된다. 물론 MSE를 써도 Loss는 얼렁뚱땅 정의가 되긴 한다. (어쨋든 정답이면 0이니까.) 즉 학습이 제대로 된다면 Accuracy가 높아짐에 따라 MSE도 낮아지긴 한다. 하지만 원래 제대로된 Loss 는 Cross Entropy 값이긴 하며, 여기서는 그저 참고로 (작동한다는 걸 보여주기 위해) MSE도 같이 출력하였다."
   ]
  },
  {
   "cell_type": "markdown",
   "id": "303c2c8e-00f6-40e4-a629-718e1f37d27b",
   "metadata": {},
   "source": [
    "또한 이 모델에서는 validation step 과 test step 이 모두 정의가 되었기 때문에 아래와 같이 valdiate 나 test 메쏘드를 사용가능하다"
   ]
  },
  {
   "cell_type": "code",
   "execution_count": 3,
   "id": "a2768095-5bf0-4f72-b527-92bd053d5f89",
   "metadata": {},
   "outputs": [
    {
     "name": "stderr",
     "output_type": "stream",
     "text": [
      "/opt/anaconda3/envs/python3_11_8/lib/python3.11/site-packages/pytorch_lightning/trainer/connectors/data_connector.py:441: The 'val_dataloader' does not have many workers which may be a bottleneck. Consider increasing the value of the `num_workers` argument` to `num_workers=7` in the `DataLoader` to improve performance.\n"
     ]
    },
    {
     "data": {
      "application/vnd.jupyter.widget-view+json": {
       "model_id": "a4e9f18071a74ba793c9539d1802b9b5",
       "version_major": 2,
       "version_minor": 0
      },
      "text/plain": [
       "Validation: |          | 0/? [00:00<?, ?it/s]"
      ]
     },
     "metadata": {},
     "output_type": "display_data"
    },
    {
     "data": {
      "text/html": [
       "<pre style=\"white-space:pre;overflow-x:auto;line-height:normal;font-family:Menlo,'DejaVu Sans Mono',consolas,'Courier New',monospace\">┏━━━━━━━━━━━━━━━━━━━━━━━━━━━┳━━━━━━━━━━━━━━━━━━━━━━━━━━━┓\n",
       "┃<span style=\"font-weight: bold\">      Validate metric      </span>┃<span style=\"font-weight: bold\">       DataLoader 0        </span>┃\n",
       "┡━━━━━━━━━━━━━━━━━━━━━━━━━━━╇━━━━━━━━━━━━━━━━━━━━━━━━━━━┩\n",
       "│<span style=\"color: #008080; text-decoration-color: #008080\">          val_acc          </span>│<span style=\"color: #800080; text-decoration-color: #800080\">     0.953000009059906     </span>│\n",
       "│<span style=\"color: #008080; text-decoration-color: #008080\">         val_loss          </span>│<span style=\"color: #800080; text-decoration-color: #800080\">    0.16042207181453705    </span>│\n",
       "│<span style=\"color: #008080; text-decoration-color: #008080\">          val_mse          </span>│<span style=\"color: #800080; text-decoration-color: #800080\">    0.9003999829292297     </span>│\n",
       "└───────────────────────────┴───────────────────────────┘\n",
       "</pre>\n"
      ],
      "text/plain": [
       "┏━━━━━━━━━━━━━━━━━━━━━━━━━━━┳━━━━━━━━━━━━━━━━━━━━━━━━━━━┓\n",
       "┃\u001b[1m \u001b[0m\u001b[1m     Validate metric     \u001b[0m\u001b[1m \u001b[0m┃\u001b[1m \u001b[0m\u001b[1m      DataLoader 0       \u001b[0m\u001b[1m \u001b[0m┃\n",
       "┡━━━━━━━━━━━━━━━━━━━━━━━━━━━╇━━━━━━━━━━━━━━━━━━━━━━━━━━━┩\n",
       "│\u001b[36m \u001b[0m\u001b[36m         val_acc         \u001b[0m\u001b[36m \u001b[0m│\u001b[35m \u001b[0m\u001b[35m    0.953000009059906    \u001b[0m\u001b[35m \u001b[0m│\n",
       "│\u001b[36m \u001b[0m\u001b[36m        val_loss         \u001b[0m\u001b[36m \u001b[0m│\u001b[35m \u001b[0m\u001b[35m   0.16042207181453705   \u001b[0m\u001b[35m \u001b[0m│\n",
       "│\u001b[36m \u001b[0m\u001b[36m         val_mse         \u001b[0m\u001b[36m \u001b[0m│\u001b[35m \u001b[0m\u001b[35m   0.9003999829292297    \u001b[0m\u001b[35m \u001b[0m│\n",
       "└───────────────────────────┴───────────────────────────┘\n"
      ]
     },
     "metadata": {},
     "output_type": "display_data"
    },
    {
     "data": {
      "text/plain": [
       "[{'val_loss': 0.16042207181453705,\n",
       "  'val_acc': 0.953000009059906,\n",
       "  'val_mse': 0.9003999829292297}]"
      ]
     },
     "execution_count": 3,
     "metadata": {},
     "output_type": "execute_result"
    }
   ],
   "source": [
    "trainer.validate(model, valDataLoader)"
   ]
  },
  {
   "cell_type": "code",
   "execution_count": 4,
   "id": "1d5689f7-fd74-42f3-8f44-a39c313132ef",
   "metadata": {},
   "outputs": [
    {
     "name": "stderr",
     "output_type": "stream",
     "text": [
      "/opt/anaconda3/envs/python3_11_8/lib/python3.11/site-packages/pytorch_lightning/trainer/connectors/data_connector.py:441: The 'test_dataloader' does not have many workers which may be a bottleneck. Consider increasing the value of the `num_workers` argument` to `num_workers=7` in the `DataLoader` to improve performance.\n"
     ]
    },
    {
     "data": {
      "application/vnd.jupyter.widget-view+json": {
       "model_id": "b7c809a7ad494f5cae08ad29b9877bf9",
       "version_major": 2,
       "version_minor": 0
      },
      "text/plain": [
       "Testing: |          | 0/? [00:00<?, ?it/s]"
      ]
     },
     "metadata": {},
     "output_type": "display_data"
    },
    {
     "data": {
      "text/html": [
       "<pre style=\"white-space:pre;overflow-x:auto;line-height:normal;font-family:Menlo,'DejaVu Sans Mono',consolas,'Courier New',monospace\">┏━━━━━━━━━━━━━━━━━━━━━━━━━━━┳━━━━━━━━━━━━━━━━━━━━━━━━━━━┓\n",
       "┃<span style=\"font-weight: bold\">        Test metric        </span>┃<span style=\"font-weight: bold\">       DataLoader 0        </span>┃\n",
       "┡━━━━━━━━━━━━━━━━━━━━━━━━━━━╇━━━━━━━━━━━━━━━━━━━━━━━━━━━┩\n",
       "│<span style=\"color: #008080; text-decoration-color: #008080\">         test_acc          </span>│<span style=\"color: #800080; text-decoration-color: #800080\">     0.953000009059906     </span>│\n",
       "│<span style=\"color: #008080; text-decoration-color: #008080\">         test_loss         </span>│<span style=\"color: #800080; text-decoration-color: #800080\">    0.16042207181453705    </span>│\n",
       "└───────────────────────────┴───────────────────────────┘\n",
       "</pre>\n"
      ],
      "text/plain": [
       "┏━━━━━━━━━━━━━━━━━━━━━━━━━━━┳━━━━━━━━━━━━━━━━━━━━━━━━━━━┓\n",
       "┃\u001b[1m \u001b[0m\u001b[1m       Test metric       \u001b[0m\u001b[1m \u001b[0m┃\u001b[1m \u001b[0m\u001b[1m      DataLoader 0       \u001b[0m\u001b[1m \u001b[0m┃\n",
       "┡━━━━━━━━━━━━━━━━━━━━━━━━━━━╇━━━━━━━━━━━━━━━━━━━━━━━━━━━┩\n",
       "│\u001b[36m \u001b[0m\u001b[36m        test_acc         \u001b[0m\u001b[36m \u001b[0m│\u001b[35m \u001b[0m\u001b[35m    0.953000009059906    \u001b[0m\u001b[35m \u001b[0m│\n",
       "│\u001b[36m \u001b[0m\u001b[36m        test_loss        \u001b[0m\u001b[36m \u001b[0m│\u001b[35m \u001b[0m\u001b[35m   0.16042207181453705   \u001b[0m\u001b[35m \u001b[0m│\n",
       "└───────────────────────────┴───────────────────────────┘\n"
      ]
     },
     "metadata": {},
     "output_type": "display_data"
    },
    {
     "data": {
      "text/plain": [
       "[{'test_loss': 0.16042207181453705, 'test_acc': 0.953000009059906}]"
      ]
     },
     "execution_count": 4,
     "metadata": {},
     "output_type": "execute_result"
    }
   ],
   "source": [
    "trainer.test(model, valDataLoader)"
   ]
  },
  {
   "cell_type": "markdown",
   "id": "b65a2a51",
   "metadata": {},
   "source": [
    "참고로 여기서는 데이터를 단지 train / test 만으로 나눴기 때문에 validation step과 test step에 둘다 validation데이터를 넣었고, 그래서 두 step에서 같은 결과가 나왔다. (실제로 코드는 valid step과 test step을 돌았겠지만, 데이터가 같아서 같은 결과 나옴)"
   ]
  },
  {
   "cell_type": "markdown",
   "id": "3fc5c134-c6c3-4485-ba92-3eea69005d79",
   "metadata": {},
   "source": [
    "또한 별도의 forward() 를 이용하여 학습된 모델을 실행하는 별도의 process 를 생성할 수 도 있다."
   ]
  },
  {
   "cell_type": "code",
   "execution_count": 5,
   "id": "ef461a8c-6b02-431f-b662-06b665acda18",
   "metadata": {},
   "outputs": [],
   "source": [
    "class altModel(MyModel):\n",
    "\n",
    "    def predict_step(self, x, batch_idx):\n",
    "        y_pred = self(x) ## < forward 에 x를 넣어서 나온 결과 ==> logit 상태임\n",
    "        y_pb = nn.Softmax(y_pred) ## logit 을 Softmax 취해서 확률로 바꿈\n",
    "        return y_pb\n",
    "        "
   ]
  },
  {
   "cell_type": "markdown",
   "id": "16cbedea",
   "metadata": {},
   "source": [
    "예를들어 Valid나 Test 처럼 최종 결과(정확도등)를 뱉는게 아닌, 들어가는 데이터에 대해 예측한 값을 뱉는 predict 라는 메쏘드를 추가해보자. 이 때 단순히 신경망을 통과시키면 최종 아웃이 10개의 logit value 이기 때문에(마지막 dense3 layer의 out이 10개) 이를 softmax 취해서 확률값으로 변환해줘야 한다."
   ]
  },
  {
   "cell_type": "code",
   "execution_count": 7,
   "id": "07342d7c-5d02-46de-a86e-09357063cd9b",
   "metadata": {},
   "outputs": [],
   "source": [
    "model = altModel()"
   ]
  },
  {
   "cell_type": "markdown",
   "id": "93cac116",
   "metadata": {},
   "source": [
    "즉 이 모델은 위에서 만든 myModel에 메쏘드 하나 추가된 모델이다."
   ]
  },
  {
   "cell_type": "code",
   "execution_count": 8,
   "id": "06fa6212-aa9d-4053-96e2-829689990409",
   "metadata": {},
   "outputs": [
    {
     "name": "stderr",
     "output_type": "stream",
     "text": [
      "GPU available: True (mps), used: True\n",
      "TPU available: False, using: 0 TPU cores\n",
      "IPU available: False, using: 0 IPUs\n"
     ]
    },
    {
     "name": "stderr",
     "output_type": "stream",
     "text": [
      "HPU available: False, using: 0 HPUs\n",
      "/opt/anaconda3/envs/python3_11_8/lib/python3.11/site-packages/pytorch_lightning/trainer/configuration_validator.py:74: You defined a `validation_step` but have no `val_dataloader`. Skipping val loop.\n",
      "\n",
      "  | Name   | Type  | Params\n",
      "---------------------------------\n",
      "0 | layers | Model | 51.3 K\n",
      "---------------------------------\n",
      "51.3 K    Trainable params\n",
      "0         Non-trainable params\n",
      "51.3 K    Total params\n",
      "0.205     Total estimated model params size (MB)\n"
     ]
    },
    {
     "data": {
      "application/vnd.jupyter.widget-view+json": {
       "model_id": "e51cb8b16c2540fd87abc3f51aa9bfd3",
       "version_major": 2,
       "version_minor": 0
      },
      "text/plain": [
       "Training: |          | 0/? [00:00<?, ?it/s]"
      ]
     },
     "metadata": {},
     "output_type": "display_data"
    },
    {
     "name": "stderr",
     "output_type": "stream",
     "text": [
      "`Trainer.fit` stopped: `max_epochs=3` reached.\n"
     ]
    }
   ],
   "source": [
    "\n",
    "epochs=3\n",
    "trainer = pl.Trainer(max_epochs=epochs, accelerator='auto')\n",
    "trainer.fit(model, trainDataLoader)"
   ]
  },
  {
   "cell_type": "code",
   "execution_count": 10,
   "id": "46e2d882-5c3f-4f0c-b9a1-f577676cefe8",
   "metadata": {},
   "outputs": [],
   "source": [
    "batch = next(iter(valDataLoader)) ##  데이터 로더에서 1개 배치 가져오기 "
   ]
  },
  {
   "cell_type": "markdown",
   "id": "278f74e4",
   "metadata": {},
   "source": [
    "데이터 로더는 위에서 정의된 바와 같이 한번에 128개씩 데이터를 뱉기 때문에 그 모양을 보면 다음과 같다"
   ]
  },
  {
   "cell_type": "code",
   "execution_count": 11,
   "id": "c2ba069b-1735-4a05-8fc1-e52b04f3c4b4",
   "metadata": {},
   "outputs": [
    {
     "name": "stdout",
     "output_type": "stream",
     "text": [
      "torch.Size([128, 1, 28, 28])\n",
      "torch.Size([128])\n"
     ]
    }
   ],
   "source": [
    "print(batch[0].shape) # x \n",
    "print(batch[1].shape) # y"
   ]
  },
  {
   "cell_type": "markdown",
   "id": "acbb0375-bab4-4a27-8c46-7bf37e23aa4e",
   "metadata": {},
   "source": [
    "배치사이즈가 128개씩 이므로 이중에서 가장 첫번째 x 만 보면"
   ]
  },
  {
   "cell_type": "code",
   "execution_count": 15,
   "id": "c98a51e5",
   "metadata": {},
   "outputs": [
    {
     "data": {
      "text/plain": [
       "torch.Size([28, 28])"
      ]
     },
     "execution_count": 15,
     "metadata": {},
     "output_type": "execute_result"
    }
   ],
   "source": [
    "batch[0][0].shape"
   ]
  },
  {
   "cell_type": "markdown",
   "id": "5cb44888",
   "metadata": {},
   "source": [
    "여기서 1개짜리 차원은 필요가 없기 때문에, tensor의 squeeze 를 사용해서 28*28 이미지로 변환시킬 수 있다."
   ]
  },
  {
   "cell_type": "code",
   "execution_count": 10,
   "id": "9dd8918d-dd94-484b-b7b9-19aae9287ad8",
   "metadata": {},
   "outputs": [
    {
     "data": {
      "text/plain": [
       "<matplotlib.image.AxesImage at 0x318257690>"
      ]
     },
     "execution_count": 10,
     "metadata": {},
     "output_type": "execute_result"
    },
    {
     "data": {
      "image/png": "[encoded data removed]",
      "text/plain": [
       "<Figure size 640x480 with 1 Axes>"
      ]
     },
     "metadata": {},
     "output_type": "display_data"
    }
   ],
   "source": [
    "plt.imshow(batch[0][0].squeeze())"
   ]
  },
  {
   "cell_type": "markdown",
   "id": "57a6b903-83bd-4292-a8c7-6bd0b0852048",
   "metadata": {},
   "source": [
    "위와 같은 글씨임을 알 수 있다. 이걸 실제 모델에 넣어서 forward 시켜보면 "
   ]
  },
  {
   "cell_type": "code",
   "execution_count": 16,
   "id": "82f35721-7eab-4d96-9409-94705db87cdd",
   "metadata": {},
   "outputs": [],
   "source": [
    "y_logit = model(batch[0][0])"
   ]
  },
  {
   "cell_type": "markdown",
   "id": "4c52c7f3",
   "metadata": {},
   "source": [
    "10개의 value가 나온다. 이 값은 최종 dense3를 거친 값으로 logit값이라고 할 수 있다."
   ]
  },
  {
   "cell_type": "code",
   "execution_count": 19,
   "id": "5e084c5f-01d0-4522-96b2-2026fbf14db5",
   "metadata": {},
   "outputs": [
    {
     "name": "stdout",
     "output_type": "stream",
     "text": [
      "torch.Size([1, 10])\n"
     ]
    },
    {
     "data": {
      "text/plain": [
       "tensor([ -1.4589,  -8.5939,   1.0140,   1.8978,  -7.6713,  -2.4596, -12.8427,\n",
       "          8.0744,  -2.7505,   0.3389], grad_fn=<SelectBackward0>)"
      ]
     },
     "execution_count": 19,
     "metadata": {},
     "output_type": "execute_result"
    }
   ],
   "source": [
    "print(y_logit.shape)\n",
    "y_logit[0]"
   ]
  },
  {
   "cell_type": "markdown",
   "id": "aa901579-6237-412e-ab33-787bb9271b99",
   "metadata": {},
   "source": [
    "위와 같은 logit 값을 볼 수 있는데, 여기에 softmax 를 취해서 변화하는게 바로 각 class 에 해당하는 probability 이므로 이걸 정의한게 위의 predict 매쏘드이다."
   ]
  },
  {
   "cell_type": "markdown",
   "id": "0ab17dd7-1106-4028-9009-fc4762aad495",
   "metadata": {},
   "source": [
    "또한  model 에 한번에 batch 를 다 넣으면 넣으면 batch 에 해당하는 갯수 만큼의 logit 묶음 값을 얻을 수 있다. "
   ]
  },
  {
   "cell_type": "code",
   "execution_count": 22,
   "id": "3badb2e1-85a2-4627-ab77-5dbccb6e24ac",
   "metadata": {},
   "outputs": [],
   "source": [
    "y_predcit_with_logit = model(batch[0])"
   ]
  },
  {
   "cell_type": "markdown",
   "id": "01ef2163-4d18-4f80-a6dd-a85dd46a265e",
   "metadata": {},
   "source": [
    "하지만 보통 대부분의 경우 우리가 관심이 있는 값들은 logit 이 아니라 이걸 확률로 변환한 prob 값인데, 우리가 predict_step 에 대해 정의를 했기 때문에, 이제 Trainer  에서도 predict를 사용할 수 있다. (model 에서 predict_step 이 정의가 되었기 때문에 활용가능)"
   ]
  },
  {
   "cell_type": "code",
   "execution_count": 20,
   "id": "353363ae-179f-4410-8f50-f11138622514",
   "metadata": {},
   "outputs": [
    {
     "data": {
      "application/vnd.jupyter.widget-view+json": {
       "model_id": "e2f6c29d40044713895b1d07eeb8487a",
       "version_major": 2,
       "version_minor": 0
      },
      "text/plain": [
       "Predicting: |          | 0/? [00:00<?, ?it/s]"
      ]
     },
     "metadata": {},
     "output_type": "display_data"
    }
   ],
   "source": [
    "y_predict_with_prob = trainer.predict(model, batch[0])"
   ]
  },
  {
   "cell_type": "markdown",
   "id": "a0afdfc9-269e-4a15-98a9-1ae589ba59be",
   "metadata": {},
   "source": [
    "단 주의할점이 있는데, predict step 의 결과는 Softmax를 취한 logit 자체이지, 그 값이 아니다. 이해하기 힘들겠지만, 아래 결과를 보면 logit으로 나온 값을 보면 모델을 통과한 뒤에 각 class 에 해당하는 어떤 계산 값들이다. "
   ]
  },
  {
   "cell_type": "code",
   "execution_count": 23,
   "id": "aba9be02-9f0f-478b-87d2-7b0061980600",
   "metadata": {},
   "outputs": [
    {
     "name": "stdout",
     "output_type": "stream",
     "text": [
      "tensor([ -1.4589,  -8.5939,   1.0140,   1.8978,  -7.6713,  -2.4596, -12.8427,\n",
      "          8.0744,  -2.7505,   0.3389], grad_fn=<SelectBackward0>)\n",
      "Softmax(\n",
      "  dim=tensor([[ -1.4589,  -8.5939,   1.0140,   1.8978,  -7.6713,  -2.4596, -12.8427,\n",
      "             8.0744,  -2.7505,   0.3389]], device='mps:0')\n",
      ")\n"
     ]
    }
   ],
   "source": [
    "print(y_predcit_with_logit[0])\n",
    "print(y_predict_with_prob[0])\n"
   ]
  },
  {
   "cell_type": "markdown",
   "id": "5e32da61",
   "metadata": {},
   "source": [
    "근데 위 결과를 보면, y_predict_with_logit 값은 그렇다 쳐도, 왜 y_predict_with_prob 값이 확률이 아니라 (softmax를 취한 후 값이 아니라) logit 값과 같아 보이는지 이상할 수 있다. \n",
    "\n",
    "\n",
    "그 이유는 우리가 predict 한 값은 여기(logit)에 Softmax layer를 취해야 한다는걸 알려주지, 그 값을 알려주지는 않는다. (물론 나중에 여기에 argmax 등을 할 때에는 softmax를 취한 값의 argmax가 취해진다. -> 지금은 이해가 안되도 넘어가도록 하자)\n",
    "\n",
    "즉, logit 값은  -1, -2, -3 이에요. 라면\n",
    "predict 값은 -1, -2, -3 에 softmax를 취하면 되요. 라고 알려주지, softmax를 취한 결과를 보여주진 않는다. (맨 앞에 Softmax() 라고 쓰여있음에 주목.)"
   ]
  },
  {
   "cell_type": "markdown",
   "id": "a624cf0e-b87e-4aed-a94e-fbb470b892f7",
   "metadata": {},
   "source": [
    "그럼 실제로 추론하는 과정을 대략적으로 이해해보면"
   ]
  },
  {
   "cell_type": "code",
   "execution_count": 24,
   "id": "83dd6794-7453-48d5-b7f1-c74e22c5136a",
   "metadata": {},
   "outputs": [
    {
     "name": "stdout",
     "output_type": "stream",
     "text": [
      "torch.Size([128, 10])\n",
      "tensor([ -1.4589,  -8.5939,   1.0140,   1.8978,  -7.6713,  -2.4596, -12.8427,\n",
      "          8.0744,  -2.7505,   0.3389], grad_fn=<SliceBackward0>)\n",
      "----\n",
      "tensor([ -1.4589,  -8.5939,   1.0140,   1.8978,  -7.6713,  -2.4596, -12.8427,\n",
      "          8.0744,  -2.7505,   0.3389])\n",
      "----\n",
      "tensor([7.2152e-05, 5.7484e-08, 8.5546e-04, 2.0702e-03, 1.4462e-07, 2.6524e-05,\n",
      "        8.2093e-10, 9.9652e-01, 1.9829e-05, 4.3552e-04])\n",
      "----\n",
      "tensor(7)\n"
     ]
    }
   ],
   "source": [
    "batch = next(iter(valDataLoader))  ## 데이터로더로부터 다음의 batch 를 가져온다.\n",
    "\n",
    "model.eval() ## evaluation mode로 바꾼다. (drop out, batch normalization 등)\n",
    "\n",
    "y_pred = model(batch[0]) # batch 의 x 가 들어간다. input(128, 1, 28, 28) -> output (128, 10)\n",
    "\n",
    "print(y_pred.size()) ## tensor with 128 x 10\n",
    "print(y_pred[0, :])  ## 그 중 첫번째의 logit values, numpy 와 비슷하지만 뒤에 grad 정보가 있기 때문에 바로 그리거나 할 수 는 없음 이를 detach\n",
    "\n",
    "print(\"----\")\n",
    "# 주의 np.argmax( y_predict[0, :] ) 불가\n",
    "print(y_pred[0, :].detach())  ## grad_fn 부분이 사라진다.\n",
    "print(\"----\")\n",
    "softmax =  nn.Softmax(dim=0) \n",
    "print( softmax( y_pred[0, :].detach()  )) \n",
    "print(\"----\")\n",
    "print(np.argmax(softmax( y_pred[0, :].detach() ))) ## 이중 최대값의 argmax \n"
   ]
  },
  {
   "cell_type": "markdown",
   "id": "fc076f06-3aeb-44c1-b315-ef13808c47e3",
   "metadata": {},
   "source": [
    "위와 같이 이루어진다고 보면 된다. 단 여기서 grad 가 포함되어 있는 Tensor는 일반적인 numpy 연산이 안되기 때문에 grad 부분을 때주는 detach를 해주거나 아니면 아래처럼 no_grad 옵션을 줘야한다.  (아래 예제코드의 경우 : 사실 제대로 하면 softmax를 취한 다음에 argmax를 해야하지만 일반적으로 logit 이 최고인 값이 softmax도 최고이기 때문에 확률로 변환된 값이 필요한게 아니라면(그냥 최대값만 보고 싶으면) 여기서 바로 argmax 해도 된다)\n"
   ]
  },
  {
   "cell_type": "code",
   "execution_count": 25,
   "id": "44a10b5c-f386-4844-b2cb-efed7ea356c5",
   "metadata": {},
   "outputs": [
    {
     "name": "stdout",
     "output_type": "stream",
     "text": [
      "tensor([[ -1.4589,  -8.5939,   1.0140,  ...,   8.0744,  -2.7505,   0.3389],\n",
      "        [  1.2470,   0.3572,   9.6712,  ..., -12.1495,   0.5434, -11.8778],\n",
      "        [ -5.1120,   5.2415,  -0.1717,  ...,   0.3534,  -1.5062,  -1.8382],\n",
      "        ...,\n",
      "        [ -7.2033,  -1.4460,  -0.0136,  ...,  -2.5209,  -1.0098,   4.0318],\n",
      "        [  4.0259,  -4.7283,   0.4463,  ...,  -1.2074,  -2.2853,  -0.1946],\n",
      "        [ -1.2763,  -6.5693,  -5.3450,  ...,  -7.7209,   0.5016,  -1.0334]]) \n",
      "\n",
      "tensor([ -1.4589,  -8.5939,   1.0140,   1.8978,  -7.6713,  -2.4596, -12.8427,\n",
      "          8.0744,  -2.7505,   0.3389]) \n",
      "\n",
      "7 np\n",
      "tensor(7) tensor\n"
     ]
    }
   ],
   "source": [
    "batch = next(iter(valDataLoader)) # ((128,1,28,28),(128,10))\n",
    "## Sets the module in evaluation mode.(Dropout,BN,..)\n",
    "model.eval()\n",
    "\n",
    "## disabled gradient calculation.(reduce memory)\n",
    "with torch.no_grad():             ### w/o grad_fn object ###\n",
    "    y_predict = model(batch[0])   # model <- image only\n",
    "\n",
    "## y_predict 는 이제 grad 가 없는 상태임\n",
    "\n",
    "print(y_predict,'\\n')                 # (128,10) tensor, w/o grad_fn\n",
    "print(y_predict[0,:],'\\n')            # (10,)    tensor, w/o grad_fn\n",
    "print(np.argmax(y_predict[0,:].numpy()),'np') # numpy index\n",
    "print(np.argmax(y_predict[0,:]),'tensor') # tensor index"
   ]
  },
  {
   "cell_type": "code",
   "execution_count": 26,
   "id": "5e98ee0d-b530-4ea5-b060-8f539cc9f56d",
   "metadata": {},
   "outputs": [
    {
     "name": "stdout",
     "output_type": "stream",
     "text": [
      "[7 2 1 0 4 1 4 9 6 9 0 6 9 0 1 5 9 7 3 4 9 6 6 5 4 0 7 4 0 1 3 1 3 0 7 2 7\n",
      " 1 2 1 1 7 4 2 3 5 1 2 4 4 6 3 5 5 6 0 4 1 9 5 7 8 9 3 7 4 6 4 3 0 7 0 2 9\n",
      " 1 7 3 2 9 7 7 6 2 7 8 4 7 3 6 1 3 6 4 3 1 4 1 7 6 9 6 0 5 4 9 9 2 1 9 4 8\n",
      " 7 3 9 7 4 4 4 9 2 5 4 7 6 7 9 0 5]\n"
     ]
    }
   ],
   "source": [
    "print(np.argmax(model(batch[0]).detach(),axis=1).numpy())  # 예측한 숫자"
   ]
  },
  {
   "cell_type": "code",
   "execution_count": 27,
   "id": "45a4c7b4-04e2-433f-9278-cd1c97400de5",
   "metadata": {},
   "outputs": [
    {
     "name": "stdout",
     "output_type": "stream",
     "text": [
      "tensor([7, 2, 1, 0, 4, 1, 4, 9, 5, 9, 0, 6, 9, 0, 1, 5, 9, 7, 3, 4, 9, 6, 6, 5,\n",
      "        4, 0, 7, 4, 0, 1, 3, 1, 3, 4, 7, 2, 7, 1, 2, 1, 1, 7, 4, 2, 3, 5, 1, 2,\n",
      "        4, 4, 6, 3, 5, 5, 6, 0, 4, 1, 9, 5, 7, 8, 9, 3, 7, 4, 6, 4, 3, 0, 7, 0,\n",
      "        2, 9, 1, 7, 3, 2, 9, 7, 7, 6, 2, 7, 8, 4, 7, 3, 6, 1, 3, 6, 9, 3, 1, 4,\n",
      "        1, 7, 6, 9, 6, 0, 5, 4, 9, 9, 2, 1, 9, 4, 8, 7, 3, 9, 7, 4, 4, 4, 9, 2,\n",
      "        5, 4, 7, 6, 7, 9, 0, 5])\n"
     ]
    }
   ],
   "source": [
    "print(batch[1]) # 정답 Label"
   ]
  },
  {
   "cell_type": "code",
   "execution_count": 28,
   "id": "41bb3ab0-ccf6-4f6a-85a9-5167b67b1702",
   "metadata": {},
   "outputs": [],
   "source": [
    "batch = next(iter(valDataLoader)) # ((128,1,28,28),(128,10))"
   ]
  },
  {
   "cell_type": "code",
   "execution_count": 29,
   "id": "286af4af-6f35-4762-b22d-4e0a5667a445",
   "metadata": {},
   "outputs": [],
   "source": [
    "# train_loader안의 실제값 한개 뽑아서 확인 \n",
    "dataiter = iter(valDataLoader)"
   ]
  },
  {
   "cell_type": "markdown",
   "id": "bd9f6b81",
   "metadata": {},
   "source": [
    "dataiter는  valDataLoader에서의 한개 iterator 받은 상태로 내부 함수인 \\_\\_next\\_\\_ 를 통해서 다음 배치를 받을 수 있다. (next(iter)와 같음)"
   ]
  },
  {
   "cell_type": "code",
   "execution_count": 41,
   "id": "878ca323-38ec-4e90-8427-5bfedfa8bd86",
   "metadata": {},
   "outputs": [
    {
     "data": {
      "text/plain": [
       "torch.Size([128, 1, 28, 28])"
      ]
     },
     "execution_count": 41,
     "metadata": {},
     "output_type": "execute_result"
    }
   ],
   "source": [
    "images, labels = dataiter.__next__()\n",
    "images.size()"
   ]
  },
  {
   "cell_type": "code",
   "execution_count": 42,
   "id": "1a1a0f97-5760-43ea-8971-691d2483fbdc",
   "metadata": {},
   "outputs": [
    {
     "data": {
      "text/plain": [
       "tensor([2, 2, 6, 3, 2, 6, 5, 4, 8, 9, 7, 1, 3, 0, 3, 8, 3, 1, 9, 3, 4, 4, 6, 4,\n",
       "        2, 1, 8, 2, 5, 4, 8, 8, 4, 0, 0, 2, 3, 2, 7, 7, 0, 8, 7, 4, 4, 7, 9, 6,\n",
       "        9, 0, 9, 8, 0, 4, 6, 0, 6, 3, 5, 4, 8, 3, 3, 9, 3, 3, 3, 7, 8, 0, 8, 2,\n",
       "        1, 7, 0, 6, 5, 4, 3, 8, 0, 9, 6, 3, 8, 0, 9, 9, 6, 8, 6, 8, 5, 7, 8, 6,\n",
       "        0, 2, 4, 0, 2, 2, 3, 1, 9, 7, 5, 1, 0, 8, 4, 6, 2, 6, 7, 9, 3, 2, 9, 8,\n",
       "        2, 2, 9, 2, 7, 3, 5, 9])"
      ]
     },
     "execution_count": 42,
     "metadata": {},
     "output_type": "execute_result"
    }
   ],
   "source": [
    "labels"
   ]
  },
  {
   "cell_type": "code",
   "execution_count": 43,
   "id": "951d7c80-c178-453f-a67b-f154ea46478c",
   "metadata": {},
   "outputs": [],
   "source": [
    "y_pred_label = np.argmax(model(images).detach(),axis=1).numpy()\n",
    "y_real_label = labels"
   ]
  },
  {
   "cell_type": "markdown",
   "id": "0f60a54a",
   "metadata": {},
   "source": [
    "실제 라벨과 예측한 라벨의 갯수를 보기 위해 (즉 accuracy 확인을 위해) list 에 같은 경우와 다른 경우를 각각 저장하면"
   ]
  },
  {
   "cell_type": "code",
   "execution_count": 65,
   "id": "1ff2fc56-5c4f-48df-9530-87fc582c6fe4",
   "metadata": {},
   "outputs": [],
   "source": [
    "correct_idx_list = []\n",
    "incorrect_idx_list = [] \n",
    "for idx in range(images.size(0)):\n",
    "    if y_pred_label[idx] == y_real_label[idx] :\n",
    "        correct_idx_list.append(idx)\n",
    "    else: \n",
    "        incorrect_idx_list.append(idx)"
   ]
  },
  {
   "cell_type": "code",
   "execution_count": 66,
   "id": "796a7b17-09be-4f52-810b-9f12ecad4fdf",
   "metadata": {},
   "outputs": [
    {
     "name": "stdout",
     "output_type": "stream",
     "text": [
      "117\n",
      "11\n"
     ]
    }
   ],
   "source": [
    "print(len(correct_idx_list))\n",
    "print(len(incorrect_idx_list))"
   ]
  },
  {
   "cell_type": "markdown",
   "id": "2bcaf40e",
   "metadata": {},
   "source": [
    "약 91%로 summary 결과와 비슷하게 나온다. 틀린 결과를 확인해보면"
   ]
  },
  {
   "cell_type": "code",
   "execution_count": 207,
   "id": "c0918638-78dd-4494-8e3f-0fb4cf5ab8a5",
   "metadata": {},
   "outputs": [
    {
     "data": {
      "image/png": "[encoded data removed]",
      "text/plain": [
       "<Figure size 640x480 with 1 Axes>"
      ]
     },
     "metadata": {},
     "output_type": "display_data"
    },
    {
     "data": {
      "image/png": "[encoded data removed]",
      "text/plain": [
       "<Figure size 640x480 with 1 Axes>"
      ]
     },
     "metadata": {},
     "output_type": "display_data"
    },
    {
     "data": {
      "image/png": "[encoded data removed]",
      "text/plain": [
       "<Figure size 640x480 with 1 Axes>"
      ]
     },
     "metadata": {},
     "output_type": "display_data"
    },
    {
     "data": {
      "image/png": "[encoded data removed]",
      "text/plain": [
       "<Figure size 640x480 with 1 Axes>"
      ]
     },
     "metadata": {},
     "output_type": "display_data"
    },
    {
     "data": {
      "image/png": "[encoded data removed]",
      "text/plain": [
       "<Figure size 640x480 with 1 Axes>"
      ]
     },
     "metadata": {},
     "output_type": "display_data"
    },
    {
     "data": {
      "image/png": "[encoded data removed]",
      "text/plain": [
       "<Figure size 640x480 with 1 Axes>"
      ]
     },
     "metadata": {},
     "output_type": "display_data"
    },
    {
     "data": {
      "image/png": "[encoded data removed]",
      "text/plain": [
       "<Figure size 640x480 with 1 Axes>"
      ]
     },
     "metadata": {},
     "output_type": "display_data"
    }
   ],
   "source": [
    "for i in incorrect_idx_list:\n",
    "    plt.imshow(images[i].squeeze())\n",
    "    plt.title(f\"Correct = {y_real_label[i]}, Predicted = {y_pred_label[i]} \")\n",
    "    plt.show()"
   ]
  },
  {
   "cell_type": "code",
   "execution_count": null,
   "id": "41c87897-f131-4183-83e2-4a0c99df3e27",
   "metadata": {},
   "outputs": [],
   "source": []
  },
  {
   "cell_type": "code",
   "execution_count": null,
   "id": "37f75c7c-1940-42ef-aa50-11b1f775d4ff",
   "metadata": {},
   "outputs": [],
   "source": []
  }
 ],
 "metadata": {
  "kernelspec": {
   "display_name": "Python 3 (ipykernel)",
   "language": "python",
   "name": "python3"
  },
  "language_info": {
   "codemirror_mode": {
    "name": "ipython",
    "version": 3
   },
   "file_extension": ".py",
   "mimetype": "text/x-python",
   "name": "python",
   "nbconvert_exporter": "python",
   "pygments_lexer": "ipython3",
   "version": "3.11.8"
  }
 },
 "nbformat": 4,
 "nbformat_minor": 5
}
