{
 "cells": [
  {
   "cell_type": "markdown",
   "id": "bbb88c63-3bda-4f0c-9f74-cfa7859b1617",
   "metadata": {},
   "source": [
    "# 모델 시각화"
   ]
  },
  {
   "cell_type": "code",
   "execution_count": 1,
   "id": "c2d9651d-b1be-43d9-ab12-8f2ee1637b4c",
   "metadata": {},
   "outputs": [],
   "source": [
    "import torch\n",
    "from torch import nn\n",
    "from torch.nn import functional as F\n",
    "import torch.optim as optim\n",
    "\n",
    "import pytorch_lightning as pl\n",
    "from pytorch_lightning.accelerators import accelerator\n",
    "from torchmetrics import functional as FM\n",
    "from torchinfo import summary\n",
    "\n",
    "from torchvision.datasets import MNIST\n",
    "import torchvision.transforms as transforms\n",
    "import torch.utils.data as data\n",
    "from torch.utils.data import DataLoader\n",
    "\n",
    "import numpy as np\n",
    "import pandas as pd\n",
    "import matplotlib.pyplot as plt\n"
   ]
  },
  {
   "cell_type": "markdown",
   "id": "9e01f357-100e-41f3-85fc-dcf2e34bbb99",
   "metadata": {},
   "source": [
    "모델을 만드는 것 만큼이나 중요한 게 모들을 확인하는 것이다. 특히 모델을 만드는 순간에는 어떤 구조로 모델을 만드는지 기억이 잘 나지만, 조금만 시간이 지나도 이 모델을 왜 만들었는지, 왜 이런 구조로 만들었는지 파악하기가 힘들다. 내가 만든 모델만 하더라도 시간이 지나면 어려운데, 하물며 남이 만든 모델을 가져다 쓰는 경우에는 더 어려울 수 밖에 없다. 아래 처럼 완저닣 순차적이지 않은 경우는 더 그렇다"
   ]
  },
  {
   "cell_type": "code",
   "execution_count": 2,
   "id": "92f30aae-8e16-47f9-b93b-506dbdbda23f",
   "metadata": {},
   "outputs": [],
   "source": [
    "class Model(pl.LightningModule):\n",
    "\n",
    "    def __init__(self):\n",
    "        super().__init__()\n",
    "        self.flatten = nn.Flatten()\n",
    "        self.dense1 = nn.Linear(28*28, 32)\n",
    "        self.dense2 = nn.Linear(28*28, 32)\n",
    "        self.dense2_2= nn.Linear(32, 16)\n",
    "        self.dense3 = nn.Linear(32+16, 10)\n",
    "        self.relu = nn.ReLU()\n",
    "\n",
    "    def forward(self, x):\n",
    "        x = self.flatten(x)\n",
    "\n",
    "        x1 = self.dense1(x)\n",
    "        x1 = self.relu(x1)\n",
    "\n",
    "        x2_1 = self.dense2(x)\n",
    "        x2_1 = self.relu(x2_1)\n",
    "        x2_2 = self.dense2_2(x2_1)\n",
    "        x2_2 = self.relu(x2_2)\n",
    "\n",
    "        x = torch.cat([x1, x2_2], dim=1)\n",
    "        x = self.dense3(x)\n",
    "\n",
    "        return(x)\n",
    "        "
   ]
  },
  {
   "cell_type": "markdown",
   "id": "f92ed80f-5b52-4741-8666-ae11be91e0a5",
   "metadata": {},
   "source": [
    "모델을 만들어보자. lightning 모듈을 상속받아서 만들었기 때문에, 이대로 돌아가지는 않는다. traning_step 이 정의되지 않았으므로.."
   ]
  },
  {
   "cell_type": "markdown",
   "id": "cdac9976-7e17-4415-98b1-b3eb0fe74603",
   "metadata": {},
   "source": [
    "그럼에도 불구하고 일단 모델 자체는 성공적으로 생성이 되는데, 이 구조를 보기위해서 호출을 해보면"
   ]
  },
  {
   "cell_type": "code",
   "execution_count": 3,
   "id": "eb5efced-a664-47ea-bd38-3e39f90c05ee",
   "metadata": {},
   "outputs": [],
   "source": [
    "model = Model()"
   ]
  },
  {
   "cell_type": "code",
   "execution_count": 4,
   "id": "a1f33e5f-2663-416a-bbf2-426de0886041",
   "metadata": {},
   "outputs": [
    {
     "data": {
      "text/plain": [
       "Model(\n",
       "  (flatten): Flatten(start_dim=1, end_dim=-1)\n",
       "  (dense1): Linear(in_features=784, out_features=32, bias=True)\n",
       "  (dense2): Linear(in_features=784, out_features=32, bias=True)\n",
       "  (dense2_2): Linear(in_features=32, out_features=16, bias=True)\n",
       "  (dense3): Linear(in_features=48, out_features=10, bias=True)\n",
       "  (relu): ReLU()\n",
       ")"
      ]
     },
     "execution_count": 4,
     "metadata": {},
     "output_type": "execute_result"
    }
   ],
   "source": [
    "model"
   ]
  },
  {
   "cell_type": "markdown",
   "id": "326e40db-66f8-4fed-9f9c-6fd7dc69a379",
   "metadata": {},
   "source": [
    "위와 같이 아주 대략적인 정보를 알려준다. 여기서 나오는 레이어는 model 의 property에 해당하므로 필요하면 (중간 latent space확인이 필요한 경우등) 접근이 가능하지만, 이 모델의 구조를 파악하는데에는 그다지 쓸모가 없다. (단순히 In, out 의 shape 을 보여주고, 어떤 layer 가 있는지 파악하는 정도)"
   ]
  },
  {
   "cell_type": "markdown",
   "id": "41b8b3a7-313b-42be-b2a1-4d0422d0a85e",
   "metadata": {},
   "source": [
    "이를 위해 조금 더 자세한 정보를 출력해주는 요약(summary) 를 통해 모델을 파악해볼 수 있다. 이 때에는 input 으로 어떤 데이터가 들어갈지도 알려줘야 하는데, 기본적으로 input_size 는 (batch_size ,  chennel ,  width, height ) 로 구성되어 있다. "
   ]
  },
  {
   "cell_type": "code",
   "execution_count": 5,
   "id": "b2b4e872-4e05-4ca4-b7ad-cf218633e2e7",
   "metadata": {},
   "outputs": [
    {
     "data": {
      "text/plain": [
       "==========================================================================================\n",
       "Layer (type:depth-idx)                   Output Shape              Param #\n",
       "==========================================================================================\n",
       "Model                                    [1, 10]                   --\n",
       "├─Flatten: 1-1                           [1, 784]                  --\n",
       "├─Linear: 1-2                            [1, 32]                   25,120\n",
       "├─ReLU: 1-3                              [1, 32]                   --\n",
       "├─Linear: 1-4                            [1, 32]                   25,120\n",
       "├─ReLU: 1-5                              [1, 32]                   --\n",
       "├─Linear: 1-6                            [1, 16]                   528\n",
       "├─ReLU: 1-7                              [1, 16]                   --\n",
       "├─Linear: 1-8                            [1, 10]                   490\n",
       "==========================================================================================\n",
       "Total params: 51,258\n",
       "Trainable params: 51,258\n",
       "Non-trainable params: 0\n",
       "Total mult-adds (Units.MEGABYTES): 0.05\n",
       "==========================================================================================\n",
       "Input size (MB): 0.00\n",
       "Forward/backward pass size (MB): 0.00\n",
       "Params size (MB): 0.21\n",
       "Estimated Total Size (MB): 0.21\n",
       "=========================================================================================="
      ]
     },
     "execution_count": 5,
     "metadata": {},
     "output_type": "execute_result"
    }
   ],
   "source": [
    "summary(model, input_size = (1, 1, 28, 28) ) # 어차피 첫번째 Layer에서 flatten 을 할 것이므로 사실 큰 상관이 없긴하다"
   ]
  },
  {
   "cell_type": "markdown",
   "id": "ddff88ee-0d19-4c25-8e75-bbc2034ca425",
   "metadata": {},
   "source": [
    "단순히 모델을 호출하는 것에 비해서 좀 더 자세한 정보가 나온다. 특히 Number of parameter의 경우 모델의 크기(학습가능한 노드)를 가늠하는데 도움을 준다. 나중에 다룰 transfer learning(전이학습) 의 경우 초반 feature out 에 해당하는 부분은 굳이 재학습을 할 필요가 없기 때문에, req_grad 항목을 꺼서 tensor가 학습되지 않도록 할 수 있느데, 그런 것들 (non-trainable params) 등을 확인할 수 있는 등 보다 많은 정보를 전달해준다."
   ]
  },
  {
   "cell_type": "markdown",
   "id": "0e6586df-6a6a-4937-a27d-a3cef1a811be",
   "metadata": {},
   "source": [
    "다만 이 경우에도 아주 시각적으로 모델을 이해할 수 있게 해준다고 하기는 어렵다. 이럴때 사용하는 게 서드파티 라이브러리인 \"onnx\" 를 인데, 별도 페키지가 필요하므로 아래와 같이 실행하여 설치가 가능하다."
   ]
  },
  {
   "cell_type": "code",
   "execution_count": 6,
   "id": "11c21fd3-c430-4261-93ad-c7f854765d65",
   "metadata": {
    "scrolled": true
   },
   "outputs": [
    {
     "name": "stdout",
     "output_type": "stream",
     "text": [
      "Requirement already satisfied: onnx in /opt/anaconda3/envs/python3_11_8/lib/python3.11/site-packages (1.16.0)\n",
      "Requirement already satisfied: numpy>=1.20 in /opt/anaconda3/envs/python3_11_8/lib/python3.11/site-packages (from onnx) (1.26.4)\n",
      "Requirement already satisfied: protobuf>=3.20.2 in /opt/anaconda3/envs/python3_11_8/lib/python3.11/site-packages (from onnx) (3.20.3)\n"
     ]
    }
   ],
   "source": [
    "!pip install onnx"
   ]
  },
  {
   "cell_type": "code",
   "execution_count": 11,
   "id": "e1e1c883-58be-4878-a5dd-9f662c628834",
   "metadata": {},
   "outputs": [],
   "source": [
    "#device = 'cuda:0'\n",
    "#device = 'mps:0' # for mac silicon\n",
    "torch.onnx.export( model,  torch.zeros(8, 1, 28, 28), 'model.onnx')"
   ]
  },
  {
   "cell_type": "markdown",
   "id": "7f7d5fbc-e0f6-4766-8d0b-14d89a9e2150",
   "metadata": {},
   "source": [
    "이렇게 실행시키면, 마지막 file_name이었던 'model.onnx' 라는 이름으로 파일이 생성된다. 이 파일은 말그대로 모델을 export 한 거나 마찬가지로 모델에 대한 모든 정보를 가지고 있는데, 이 이렇게 export 시킨 모델은 pytorch 뿐 아니라 다른 딥러닝 플랫폼에서도 실행시킬 수 있다. 즉 모델 자체(구조, weights 등등)를 파일로 내보냈다고 이해하면 된다. 이렇게 export 된 파일은 여러 시각화 툴을 활용해서 모델확인이 가능한데, 그 중에서도 추천하는건 NETRON(\"https://netron.app/\") 를 활용한 방법이다. 별도 설치가 필요없고 웹상에서 그대로 모델만 로드하면 아래와 같이 구조를 보여준다. "
   ]
  },
  {
   "attachments": {
    "c18fec82-6094-4b56-ab8d-22082b41d19a.png": {
     "image/png": "[encoded data removed]"
    }
   },
   "cell_type": "markdown",
   "id": "dd3e3e27-d89e-48c0-ad8d-65b500c264a2",
   "metadata": {},
   "source": [
    "![image.png](attachment:c18fec82-6094-4b56-ab8d-22082b41d19a.png)"
   ]
  }
 ],
 "metadata": {
  "kernelspec": {
   "display_name": "Python 3 (ipykernel)",
   "language": "python",
   "name": "python3"
  },
  "language_info": {
   "codemirror_mode": {
    "name": "ipython",
    "version": 3
   },
   "file_extension": ".py",
   "mimetype": "text/x-python",
   "name": "python",
   "nbconvert_exporter": "python",
   "pygments_lexer": "ipython3",
   "version": "3.11.8"
  }
 },
 "nbformat": 4,
 "nbformat_minor": 5
}
