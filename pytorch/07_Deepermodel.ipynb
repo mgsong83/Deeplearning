{
 "cells": [
  {
   "cell_type": "code",
   "execution_count": 14,
   "id": "b5b43db1-bf97-41b4-99c0-52cd12170f37",
   "metadata": {},
   "outputs": [],
   "source": [
    "\n",
    "import pytorch_lightning as pl\n",
    "import torch\n",
    "from torch import nn\n",
    "from torchinfo import summary"
   ]
  },
  {
   "cell_type": "code",
   "execution_count": 15,
   "id": "9fbb10c6-ca27-4152-9d8e-d107a0803a61",
   "metadata": {},
   "outputs": [],
   "source": [
    "\n",
    "class Model(pl.LightningModule):\n",
    "    \n",
    "    def __init__(self):\n",
    "        super().__init__()\n",
    "\n",
    "        self.flatten = nn.Flatten()\n",
    "        self.linear1 = nn.Linear(28*28, 32)\n",
    "        self.linear2 = nn.Linear(28*28, 32)\n",
    "        self.linear3 = nn.Linear(32+32, 10)\n",
    "        self.relu = nn.ReLU()\n",
    "\n",
    "    def forward(self, x):\n",
    "\n",
    "        x = self.flatten(x)\n",
    "\n",
    "        x1 = self.linear1(x)\n",
    "        x1 = self.relu(x1) \n",
    "        \n",
    "        x2 = self.linear2(x)\n",
    "        x2 = self.relu(x2)\n",
    "\n",
    "        x3 = torch.cat([x1, x2], dim=1)\n",
    "        y = self.linear3(x3) \n",
    "        \n",
    "        return(y)\n"
   ]
  },
  {
   "cell_type": "code",
   "execution_count": 17,
   "id": "416f0bc3-c26e-4f15-943c-e70a305b01e3",
   "metadata": {},
   "outputs": [
    {
     "data": {
      "text/plain": [
       "==========================================================================================\n",
       "Layer (type:depth-idx)                   Output Shape              Param #\n",
       "==========================================================================================\n",
       "Model                                    [1, 10]                   --\n",
       "├─Flatten: 1-1                           [1, 784]                  --\n",
       "├─Linear: 1-2                            [1, 32]                   25,120\n",
       "├─ReLU: 1-3                              [1, 32]                   --\n",
       "├─Linear: 1-4                            [1, 32]                   25,120\n",
       "├─ReLU: 1-5                              [1, 32]                   --\n",
       "├─Linear: 1-6                            [1, 10]                   650\n",
       "==========================================================================================\n",
       "Total params: 50,890\n",
       "Trainable params: 50,890\n",
       "Non-trainable params: 0\n",
       "Total mult-adds (Units.MEGABYTES): 0.05\n",
       "==========================================================================================\n",
       "Input size (MB): 0.00\n",
       "Forward/backward pass size (MB): 0.00\n",
       "Params size (MB): 0.20\n",
       "Estimated Total Size (MB): 0.21\n",
       "=========================================================================================="
      ]
     },
     "execution_count": 17,
     "metadata": {},
     "output_type": "execute_result"
    }
   ],
   "source": [
    "model = Model()\n",
    "summary(model, input_size = (1, 28, 28))"
   ]
  },
  {
   "cell_type": "markdown",
   "id": "c1926853-a26a-42ca-8726-093bab00f169",
   "metadata": {},
   "source": [
    "\n",
    "----\n",
    "\n",
    "하나의 모델이 다른 모델을 하위에 가지고 있는 형태"
   ]
  },
  {
   "cell_type": "code",
   "execution_count": 21,
   "id": "5d4b455b-379a-4526-a288-35d5f7793065",
   "metadata": {},
   "outputs": [],
   "source": [
    "loss_ftn = nn.CrossEntropyLoss()\n",
    "\n",
    "class MyModel(pl.LightningModule):\n",
    "\n",
    "    def __init__(self):\n",
    "        super().__init__()\n",
    "        self.layers = Model()  ## 1개의 모델을 통으로 가지고 있는 형태 (상속이랑은 미묘하게 다름 -> 여러개 모델을 동시에 거느리는걸 생각해보자)\n",
    "\n",
    "    \n",
    "    def forward(self, x):\n",
    "        out = self.layers(x)\n",
    "        return(out)\n",
    "\n",
    "\n",
    "    def predict_step(self, x, batch_idx):  ## pred 에서는 x 만 들어오기 때문에 batch 대신 x 라고 표시\n",
    "        y_pred = self(x) # 여기까진  logit \n",
    "        y_prob = nn.Softmax(y_pred)  # 확률로 변환 \n",
    "        return(y_prob)\n",
    "\n",
    "     \n",
    "    def traning_step(self, batch, batch_idx): ## 학습시에는 (x, y) 쌍이 들어오므로 batch 라고 표현\n",
    "        \n",
    "        \n",
    "\n",
    "\n",
    "\n",
    "\n"
   ]
  },
  {
   "cell_type": "code",
   "execution_count": null,
   "id": "d14829de-4900-42c2-9db3-6e38280e105a",
   "metadata": {},
   "outputs": [],
   "source": []
  }
 ],
 "metadata": {
  "kernelspec": {
   "display_name": "Python 3 (ipykernel)",
   "language": "python",
   "name": "python3"
  },
  "language_info": {
   "codemirror_mode": {
    "name": "ipython",
    "version": 3
   },
   "file_extension": ".py",
   "mimetype": "text/x-python",
   "name": "python",
   "nbconvert_exporter": "python",
   "pygments_lexer": "ipython3",
   "version": "3.11.4"
  }
 },
 "nbformat": 4,
 "nbformat_minor": 5
}
