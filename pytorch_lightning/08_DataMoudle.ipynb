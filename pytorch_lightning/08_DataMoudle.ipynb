{
 "cells": [
  {
   "cell_type": "markdown",
   "id": "365a2a73-3711-4442-9379-415f873ce70f",
   "metadata": {},
   "source": [
    "## Data Moudle 만들기"
   ]
  },
  {
   "cell_type": "markdown",
   "id": "078bc4c7-0466-46ea-a50f-581e64590eb5",
   "metadata": {},
   "source": [
    "7에서 만든 모델 가져오기"
   ]
  },
  {
   "cell_type": "markdown",
   "id": "48a94c75",
   "metadata": {},
   "source": [
    "앞에서 만든 모델에 직접 학습을 돌려보기 위해서 데이터를 로드하는 모듈까지 만들어서 붙여보자"
   ]
  },
  {
   "cell_type": "code",
   "execution_count": 1,
   "id": "cb22a609-34cd-420d-882b-5e6b96e139ca",
   "metadata": {},
   "outputs": [],
   "source": [
    "\n",
    "import pytorch_lightning as pl\n",
    "import torch\n",
    "from torch import nn\n",
    "from torchinfo import summary\n",
    "\n",
    "from torchmetrics import functional as FM\n",
    "\n",
    "\n",
    "class Model(pl.LightningModule):\n",
    "    \n",
    "    def __init__(self):\n",
    "        super().__init__()\n",
    "\n",
    "        self.flatten = nn.Flatten()\n",
    "        self.linear1 = nn.Linear(28*28, 32)\n",
    "        self.linear2 = nn.Linear(28*28, 32)\n",
    "        self.linear3 = nn.Linear(32+32, 10)\n",
    "        self.relu = nn.ReLU()\n",
    "\n",
    "    def forward(self, x):\n",
    "\n",
    "        x = self.flatten(x)\n",
    "\n",
    "        x1 = self.linear1(x)\n",
    "        x1 = self.relu(x1) \n",
    "        \n",
    "        x2 = self.linear2(x)\n",
    "        x2 = self.relu(x2)\n",
    "\n",
    "        x3 = torch.cat([x1, x2], dim=1)\n",
    "        y = self.linear3(x3) \n",
    "        \n",
    "        return(y)\n",
    "\n",
    "\n",
    "\n",
    "loss_ftn = nn.CrossEntropyLoss()\n",
    "class MyModel(pl.LightningModule):\n",
    "\n",
    "    def __init__(self):\n",
    "        super().__init__()\n",
    "        self.layers = Model()  ## 1개의 모델을 통으로 가지고 있는 형태 (상속이랑은 미묘하게 다름 -> 여러개 모델을 동시에 거느리는걸 생각해보자)\n",
    "\n",
    "    \n",
    "    def forward(self, x):\n",
    "        out = self.layers(x)\n",
    "        return(out)\n",
    "\n",
    "\n",
    "    def predict_step(self, x, batch_idx):  ## pred 에서는 x 만 들어오기 때문에 batch 대신 x 라고 표시\n",
    "        y_pred = self(x) # 여기까진  logit \n",
    "        y_prob = nn.Softmax(y_pred)  # 확률로 변환 \n",
    "        return(y_prob)\n",
    "\n",
    "     \n",
    "    def training_step(self, batch, batch_idx): ## 학습시에는 (x, y) 쌍이 들어오므로 batch 라고 표현\n",
    "        x, y = batch\n",
    "        y_pred = self(x)\n",
    "        loss = loss_ftn(y_pred, y)\n",
    "\n",
    "        acc = FM.accuracy(y_pred, y, task = 'multiclass', num_classes = 10) \n",
    "        mse = FM.mean_squared_error( torch.argmax( y_pred, dim=1 ), y)\n",
    "\n",
    "        metrics = {'loss' : loss, 'acc' : acc, 'mse' : mse }\n",
    "        self.log_dict( metrics, prog_bar = True) \n",
    "\n",
    "        return loss\n",
    "\n",
    "    def validation_step(self, batch, batch_idx):\n",
    "        x, y = batch\n",
    "        y_hat = self(x)\n",
    "        loss = loss_ftn(y_hat, y)    \n",
    "        acc = FM.accuracy(y_hat, y, task = 'multiclass', num_classes = 10) \n",
    "        mse = FM.mean_squared_error( torch.argmax( y_hat, dim=1 ), y)\n",
    "        metrics = {'val_loss' : loss, 'val_acc' : acc, 'val_mse' : mse }\n",
    "        self.log_dict( metrics, prog_bar = True) \n",
    "        return \n",
    "        \n",
    "\n",
    "    def test_step(self, batch, batch_idx):\n",
    "        x, y = batch\n",
    "        y_hat = self(x)\n",
    "        loss = loss_ftn(y_hat, y)    \n",
    "        acc = FM.accuracy(y_hat, y, task = 'multiclass', num_classes = 10) \n",
    "        mse = FM.mean_squared_error( torch.argmax( y_hat, dim=1 ), y)\n",
    "        metrics = {'test_loss' : loss, 'test_acc' : acc, 'test_mse' : mse }\n",
    "        self.log_dict( metrics, prog_bar = True) \n",
    "        return \n",
    "\n",
    "\n",
    "    def configure_optimizers(self):\n",
    "        return torch.optim.Adam( self.parameters(), lr=0.001 )\n",
    "\n",
    "\n",
    "\n",
    "\n"
   ]
  },
  {
   "cell_type": "markdown",
   "id": "d360c582",
   "metadata": {},
   "source": [
    "앞장의 모델을 그대로 가져왔다. \n",
    "\n",
    "이제 데이터 로드를 위해 필요 torch 에서 제공하는 DataLoader 를 로드한다. 하지만 우리는 Pytorch Ligntnin에 있는 데이터 모듈을 사용할 것"
   ]
  },
  {
   "cell_type": "code",
   "execution_count": 9,
   "id": "9212bc5f-f4a1-435d-a313-77e14cbadf59",
   "metadata": {},
   "outputs": [],
   "source": [
    "from torchvision.datasets import MNIST\n",
    "import pytorch_lightning as pl\n",
    "from torch.utils.data import DataLoader # pl 로 포장되어있지만 그 안에서 데이터 로더는 DataLoader 를 사용하기 때문에 필요.\n",
    "import torchvision.transforms as transforms # 데이터 로드 안에서 사용하기 위해\n",
    "from torch.utils import data\n"
   ]
  },
  {
   "cell_type": "markdown",
   "id": "ba7c9242-f78d-4401-8358-66ae97471a83",
   "metadata": {},
   "source": [
    "토치 라이트닝에서 제공하는 데이터 모듈은 크게 다음 매쏘드들만 정의하면 사용할 수 있다.\n",
    "https://lightning.ai/docs/pytorch/stable/data/datamodule.html\n",
    "\n",
    "- prepare\n",
    "- setup\n",
    "- train_dataloder\n",
    "- val_dataloader\n",
    "- test_dataloader\n",
    "\n",
    "여기서 prepare 와 setup이 뭐가 다른지 비교하면 둘 다 prepare 와 setup 은 데이터를 준비하는 과정이지만\n",
    "\n",
    "  -  prepare 는 1개의 single thread로 작동하기 때문에, 다운로드 같이 완결성이 필요한 데서 사용하고\n",
    "  -  setup 의 경우에는 prepare 이후에 로드가 되며, GPU 별로 실행되는 부분이 들어가면 된다고 한다. (데이터의 변환 등)\n",
    "  "
   ]
  },
  {
   "cell_type": "code",
   "execution_count": 10,
   "id": "25ee8ca1-0c14-4322-8fc0-b9f91bc49a3a",
   "metadata": {},
   "outputs": [],
   "source": [
    "class MNIST_DataModule( pl.LightningDataModule ):\n",
    "\n",
    "    def __init__(self, data_dir : str = '', batch_size :int = 32):\n",
    "        super().__init__()\n",
    "        self.data_dir = data_dir\n",
    "        self.batch_size = batch_size\n",
    "\n",
    "\n",
    "## 이미 다운로드가 받아져있는 데이터를 사용한다면  prepare 생략 가능\n",
    "    def prepare_data(self):\n",
    "        #download\n",
    "        MNIST(self.data_dir, train=True, download=True)\n",
    "        MNIST(self.data_dir, train=False, download=True)\n",
    "        pass\n",
    "    \n",
    "\n",
    "    def setup(self, stage):\n",
    "\n",
    "        #transforms for images\n",
    "        transform = transforms.Compose([\n",
    "            transforms.ToTensor(),\n",
    "            transforms.Normalize((0.1307,), (0.3081,))  ## 0~255 를  평균 / 산포 값으로 normalze\n",
    "        ])\n",
    "\n",
    "        train_data = MNIST(self.data_dir, train=True, transform=transform)#  download=True 는 prepare에서   ## train과 test를 각각 변환\n",
    "        test_data = MNIST(self.data_dir, train=False, transform=transform)#\n",
    "        \n",
    "        self.mnist_test = test_data\n",
    "        self.mnist_train, self.mnist_valid = data.random_split( train_data, [50000, 10000] ) \n",
    "\n",
    "\n",
    "   ## 데이터를 내보낼 때에는 torch.util 의 dataloader 로 내보낸다. 따라서 import 부분에서 torch.util.dataloader 가 필요했던 것. \n",
    "    \n",
    "    def train_dataloader(self):\n",
    "        return DataLoader(self.mnist_train, batch_size = self.batch_size)  ## train 에 사용될 데이터 보내기\n",
    "\n",
    "    def val_dataloader(self):\n",
    "        return DataLoader(self.mnist_valid, batch_size = self.batch_size)  ## valid 에 사용될 데이터 보내기\n",
    "\n",
    "    def test_dataloader(self):\n",
    "        return DataLoader(self.mnist_test, batch_size = self.batch_size)  ## test 에 사용될 데이터 보내기 \n",
    "        "
   ]
  },
  {
   "cell_type": "code",
   "execution_count": 11,
   "id": "0e3ab8d2-315e-4462-9c89-2c178e55e57e",
   "metadata": {},
   "outputs": [],
   "source": [
    "data_module = MNIST_DataModule(batch_size= 128)"
   ]
  },
  {
   "cell_type": "markdown",
   "id": "274dc5d5",
   "metadata": {},
   "source": [
    "일단 데이터 모듈이 완성되었다면, 이를 사용하는 가장 추천되는 방법은 다음의 꼴로 사용하는 것이다.\n",
    "\n",
    "```python\n",
    "dm = DataModule()\n",
    "model = Model()\n",
    "trainer.fit(model, dm)\n",
    "trainer.test(dm)\n",
    "trainer.validate(dm)\n",
    "trainer.predict(dm)\n",
    "```"
   ]
  },
  {
   "cell_type": "code",
   "execution_count": 12,
   "id": "af96c67d-bdd2-43af-8abb-e2ad0f5fcb9c",
   "metadata": {},
   "outputs": [],
   "source": [
    "model = MyModel()"
   ]
  },
  {
   "cell_type": "code",
   "execution_count": 13,
   "id": "63080464-2b66-46ca-9082-9bb9bcb9d715",
   "metadata": {},
   "outputs": [
    {
     "name": "stderr",
     "output_type": "stream",
     "text": [
      "GPU available: True (cuda), used: True\n",
      "TPU available: False, using: 0 TPU cores\n",
      "HPU available: False, using: 0 HPUs\n",
      "LOCAL_RANK: 0 - CUDA_VISIBLE_DEVICES: [0]\n",
      "\n",
      "  | Name   | Type  | Params | Mode \n",
      "-----------------------------------------\n",
      "0 | layers | Model | 50.9 K | train\n",
      "-----------------------------------------\n",
      "50.9 K    Trainable params\n",
      "0         Non-trainable params\n",
      "50.9 K    Total params\n",
      "0.204     Total estimated model params size (MB)\n"
     ]
    },
    {
     "data": {
      "application/vnd.jupyter.widget-view+json": {
       "model_id": "a0f83f05a71541248b88b6de5ff2f4d6",
       "version_major": 2,
       "version_minor": 0
      },
      "text/plain": [
       "Sanity Checking: |          | 0/? [00:00<?, ?it/s]"
      ]
     },
     "metadata": {},
     "output_type": "display_data"
    },
    {
     "name": "stderr",
     "output_type": "stream",
     "text": [
      "c:\\Users\\msong\\anaconda3\\envs\\py3_11_8\\Lib\\site-packages\\pytorch_lightning\\trainer\\connectors\\data_connector.py:424: The 'val_dataloader' does not have many workers which may be a bottleneck. Consider increasing the value of the `num_workers` argument` to `num_workers=15` in the `DataLoader` to improve performance.\n",
      "c:\\Users\\msong\\anaconda3\\envs\\py3_11_8\\Lib\\site-packages\\pytorch_lightning\\trainer\\connectors\\data_connector.py:424: The 'train_dataloader' does not have many workers which may be a bottleneck. Consider increasing the value of the `num_workers` argument` to `num_workers=15` in the `DataLoader` to improve performance.\n"
     ]
    },
    {
     "data": {
      "application/vnd.jupyter.widget-view+json": {
       "model_id": "3377b9098f274aa9a81f6111500ed0c5",
       "version_major": 2,
       "version_minor": 0
      },
      "text/plain": [
       "Training: |          | 0/? [00:00<?, ?it/s]"
      ]
     },
     "metadata": {},
     "output_type": "display_data"
    },
    {
     "data": {
      "application/vnd.jupyter.widget-view+json": {
       "model_id": "e3c03ed7b60b42bdb66588f369e0cd43",
       "version_major": 2,
       "version_minor": 0
      },
      "text/plain": [
       "Validation: |          | 0/? [00:00<?, ?it/s]"
      ]
     },
     "metadata": {},
     "output_type": "display_data"
    },
    {
     "data": {
      "application/vnd.jupyter.widget-view+json": {
       "model_id": "bf23559343bd455bb017977a80c134ad",
       "version_major": 2,
       "version_minor": 0
      },
      "text/plain": [
       "Validation: |          | 0/? [00:00<?, ?it/s]"
      ]
     },
     "metadata": {},
     "output_type": "display_data"
    },
    {
     "data": {
      "application/vnd.jupyter.widget-view+json": {
       "model_id": "90712a6f70c7460ca8377f5a95cc518e",
       "version_major": 2,
       "version_minor": 0
      },
      "text/plain": [
       "Validation: |          | 0/? [00:00<?, ?it/s]"
      ]
     },
     "metadata": {},
     "output_type": "display_data"
    },
    {
     "data": {
      "application/vnd.jupyter.widget-view+json": {
       "model_id": "af9080e432c24bdcaaed5bfeb9a75716",
       "version_major": 2,
       "version_minor": 0
      },
      "text/plain": [
       "Validation: |          | 0/? [00:00<?, ?it/s]"
      ]
     },
     "metadata": {},
     "output_type": "display_data"
    },
    {
     "data": {
      "application/vnd.jupyter.widget-view+json": {
       "model_id": "b557e96b264647568a23cc208857fe84",
       "version_major": 2,
       "version_minor": 0
      },
      "text/plain": [
       "Validation: |          | 0/? [00:00<?, ?it/s]"
      ]
     },
     "metadata": {},
     "output_type": "display_data"
    },
    {
     "name": "stderr",
     "output_type": "stream",
     "text": [
      "`Trainer.fit` stopped: `max_epochs=5` reached.\n"
     ]
    }
   ],
   "source": [
    "trainer = pl.Trainer(max_epochs=5, accelerator='auto')\n",
    "trainer.fit(model, data_module)  ## 라이트닝에서 제일 일반적으로 학습을 시키는 형태 "
   ]
  },
  {
   "cell_type": "code",
   "execution_count": 17,
   "id": "4105270d-65ce-4c6d-a433-0de60def98e0",
   "metadata": {},
   "outputs": [
    {
     "name": "stderr",
     "output_type": "stream",
     "text": [
      "LOCAL_RANK: 0 - CUDA_VISIBLE_DEVICES: [0]\n",
      "c:\\Users\\msong\\anaconda3\\envs\\py3_11_8\\Lib\\site-packages\\pytorch_lightning\\trainer\\connectors\\data_connector.py:424: The 'val_dataloader' does not have many workers which may be a bottleneck. Consider increasing the value of the `num_workers` argument` to `num_workers=15` in the `DataLoader` to improve performance.\n"
     ]
    },
    {
     "data": {
      "application/vnd.jupyter.widget-view+json": {
       "model_id": "b028a1eea58b43f292ed314544770553",
       "version_major": 2,
       "version_minor": 0
      },
      "text/plain": [
       "Validation: |          | 0/? [00:00<?, ?it/s]"
      ]
     },
     "metadata": {},
     "output_type": "display_data"
    },
    {
     "data": {
      "text/html": [
       "<pre style=\"white-space:pre;overflow-x:auto;line-height:normal;font-family:Menlo,'DejaVu Sans Mono',consolas,'Courier New',monospace\">┏━━━━━━━━━━━━━━━━━━━━━━━━━━━┳━━━━━━━━━━━━━━━━━━━━━━━━━━━┓\n",
       "┃<span style=\"font-weight: bold\">      Validate metric      </span>┃<span style=\"font-weight: bold\">       DataLoader 0        </span>┃\n",
       "┡━━━━━━━━━━━━━━━━━━━━━━━━━━━╇━━━━━━━━━━━━━━━━━━━━━━━━━━━┩\n",
       "│<span style=\"color: #008080; text-decoration-color: #008080\">          val_acc          </span>│<span style=\"color: #800080; text-decoration-color: #800080\">    0.9785999655723572     </span>│\n",
       "│<span style=\"color: #008080; text-decoration-color: #008080\">         val_loss          </span>│<span style=\"color: #800080; text-decoration-color: #800080\">    0.07375960052013397    </span>│\n",
       "│<span style=\"color: #008080; text-decoration-color: #008080\">          val_mse          </span>│<span style=\"color: #800080; text-decoration-color: #800080\">    0.4306999742984772     </span>│\n",
       "└───────────────────────────┴───────────────────────────┘\n",
       "</pre>\n"
      ],
      "text/plain": [
       "┏━━━━━━━━━━━━━━━━━━━━━━━━━━━┳━━━━━━━━━━━━━━━━━━━━━━━━━━━┓\n",
       "┃\u001b[1m \u001b[0m\u001b[1m     Validate metric     \u001b[0m\u001b[1m \u001b[0m┃\u001b[1m \u001b[0m\u001b[1m      DataLoader 0       \u001b[0m\u001b[1m \u001b[0m┃\n",
       "┡━━━━━━━━━━━━━━━━━━━━━━━━━━━╇━━━━━━━━━━━━━━━━━━━━━━━━━━━┩\n",
       "│\u001b[36m \u001b[0m\u001b[36m         val_acc         \u001b[0m\u001b[36m \u001b[0m│\u001b[35m \u001b[0m\u001b[35m   0.9785999655723572    \u001b[0m\u001b[35m \u001b[0m│\n",
       "│\u001b[36m \u001b[0m\u001b[36m        val_loss         \u001b[0m\u001b[36m \u001b[0m│\u001b[35m \u001b[0m\u001b[35m   0.07375960052013397   \u001b[0m\u001b[35m \u001b[0m│\n",
       "│\u001b[36m \u001b[0m\u001b[36m         val_mse         \u001b[0m\u001b[36m \u001b[0m│\u001b[35m \u001b[0m\u001b[35m   0.4306999742984772    \u001b[0m\u001b[35m \u001b[0m│\n",
       "└───────────────────────────┴───────────────────────────┘\n"
      ]
     },
     "metadata": {},
     "output_type": "display_data"
    },
    {
     "data": {
      "text/plain": [
       "[{'val_loss': 0.07375960052013397,\n",
       "  'val_acc': 0.9785999655723572,\n",
       "  'val_mse': 0.4306999742984772}]"
      ]
     },
     "execution_count": 17,
     "metadata": {},
     "output_type": "execute_result"
    }
   ],
   "source": [
    "trainer.validate(model, datamodule=data_module)"
   ]
  },
  {
   "cell_type": "code",
   "execution_count": 18,
   "id": "ee34250a-5411-4222-9a21-71e1f6ccbbf2",
   "metadata": {},
   "outputs": [
    {
     "name": "stderr",
     "output_type": "stream",
     "text": [
      "LOCAL_RANK: 0 - CUDA_VISIBLE_DEVICES: [0]\n",
      "c:\\Users\\msong\\anaconda3\\envs\\py3_11_8\\Lib\\site-packages\\pytorch_lightning\\trainer\\connectors\\data_connector.py:424: The 'test_dataloader' does not have many workers which may be a bottleneck. Consider increasing the value of the `num_workers` argument` to `num_workers=15` in the `DataLoader` to improve performance.\n"
     ]
    },
    {
     "data": {
      "application/vnd.jupyter.widget-view+json": {
       "model_id": "c859e026c7644756a1b553bf5e8c2767",
       "version_major": 2,
       "version_minor": 0
      },
      "text/plain": [
       "Testing: |          | 0/? [00:00<?, ?it/s]"
      ]
     },
     "metadata": {},
     "output_type": "display_data"
    },
    {
     "data": {
      "text/html": [
       "<pre style=\"white-space:pre;overflow-x:auto;line-height:normal;font-family:Menlo,'DejaVu Sans Mono',consolas,'Courier New',monospace\">┏━━━━━━━━━━━━━━━━━━━━━━━━━━━┳━━━━━━━━━━━━━━━━━━━━━━━━━━━┓\n",
       "┃<span style=\"font-weight: bold\">        Test metric        </span>┃<span style=\"font-weight: bold\">       DataLoader 0        </span>┃\n",
       "┡━━━━━━━━━━━━━━━━━━━━━━━━━━━╇━━━━━━━━━━━━━━━━━━━━━━━━━━━┩\n",
       "│<span style=\"color: #008080; text-decoration-color: #008080\">         test_acc          </span>│<span style=\"color: #800080; text-decoration-color: #800080\">    0.9692000150680542     </span>│\n",
       "│<span style=\"color: #008080; text-decoration-color: #008080\">         test_loss         </span>│<span style=\"color: #800080; text-decoration-color: #800080\">    0.10221320390701294    </span>│\n",
       "│<span style=\"color: #008080; text-decoration-color: #008080\">         test_mse          </span>│<span style=\"color: #800080; text-decoration-color: #800080\">    0.5873000025749207     </span>│\n",
       "└───────────────────────────┴───────────────────────────┘\n",
       "</pre>\n"
      ],
      "text/plain": [
       "┏━━━━━━━━━━━━━━━━━━━━━━━━━━━┳━━━━━━━━━━━━━━━━━━━━━━━━━━━┓\n",
       "┃\u001b[1m \u001b[0m\u001b[1m       Test metric       \u001b[0m\u001b[1m \u001b[0m┃\u001b[1m \u001b[0m\u001b[1m      DataLoader 0       \u001b[0m\u001b[1m \u001b[0m┃\n",
       "┡━━━━━━━━━━━━━━━━━━━━━━━━━━━╇━━━━━━━━━━━━━━━━━━━━━━━━━━━┩\n",
       "│\u001b[36m \u001b[0m\u001b[36m        test_acc         \u001b[0m\u001b[36m \u001b[0m│\u001b[35m \u001b[0m\u001b[35m   0.9692000150680542    \u001b[0m\u001b[35m \u001b[0m│\n",
       "│\u001b[36m \u001b[0m\u001b[36m        test_loss        \u001b[0m\u001b[36m \u001b[0m│\u001b[35m \u001b[0m\u001b[35m   0.10221320390701294   \u001b[0m\u001b[35m \u001b[0m│\n",
       "│\u001b[36m \u001b[0m\u001b[36m        test_mse         \u001b[0m\u001b[36m \u001b[0m│\u001b[35m \u001b[0m\u001b[35m   0.5873000025749207    \u001b[0m\u001b[35m \u001b[0m│\n",
       "└───────────────────────────┴───────────────────────────┘\n"
      ]
     },
     "metadata": {},
     "output_type": "display_data"
    },
    {
     "data": {
      "text/plain": [
       "[{'test_loss': 0.10221320390701294,\n",
       "  'test_acc': 0.9692000150680542,\n",
       "  'test_mse': 0.5873000025749207}]"
      ]
     },
     "execution_count": 18,
     "metadata": {},
     "output_type": "execute_result"
    }
   ],
   "source": [
    "trainer.test(model, data_module)"
   ]
  }
 ],
 "metadata": {
  "kernelspec": {
   "display_name": "Python 3 (ipykernel)",
   "language": "python",
   "name": "python3"
  },
  "language_info": {
   "codemirror_mode": {
    "name": "ipython",
    "version": 3
   },
   "file_extension": ".py",
   "mimetype": "text/x-python",
   "name": "python",
   "nbconvert_exporter": "python",
   "pygments_lexer": "ipython3",
   "version": "3.11.8"
  }
 },
 "nbformat": 4,
 "nbformat_minor": 5
}
